{
 "cells": [
  {
   "cell_type": "code",
   "execution_count": 1,
   "metadata": {},
   "outputs": [],
   "source": [
    "#getting our own spotify data"
   ]
  },
  {
   "cell_type": "code",
   "execution_count": 3,
   "metadata": {},
   "outputs": [],
   "source": [
    "#importing libraries\n",
    "import spotipy\n",
    "from spotipy.oauth2 import SpotifyClientCredentials"
   ]
  },
  {
   "cell_type": "code",
   "execution_count": 6,
   "metadata": {},
   "outputs": [
    {
     "ename": "SpotifyOauthError",
     "evalue": "No client_id. Pass it or set a SPOTIPY_CLIENT_ID environment variable.",
     "output_type": "error",
     "traceback": [
      "\u001b[1;31m---------------------------------------------------------------------------\u001b[0m",
      "\u001b[1;31mSpotifyOauthError\u001b[0m                         Traceback (most recent call last)",
      "\u001b[1;32md:\\Projects and Practice\\Spotify- Song Recommendation\\main.ipynb Cell 3'\u001b[0m in \u001b[0;36m<module>\u001b[1;34m\u001b[0m\n\u001b[0;32m      <a href='vscode-notebook-cell:/d%3A/Projects%20and%20Practice/Spotify-%20Song%20Recommendation/main.ipynb#ch0000002?line=0'>1</a>\u001b[0m \u001b[39m#creating our credentials\u001b[39;00m\n\u001b[1;32m----> <a href='vscode-notebook-cell:/d%3A/Projects%20and%20Practice/Spotify-%20Song%20Recommendation/main.ipynb#ch0000002?line=1'>2</a>\u001b[0m client_credentials_manager \u001b[39m=\u001b[39m SpotifyClientCredentials(client_id\u001b[39m=\u001b[39;49m\u001b[39m'\u001b[39;49m\u001b[39m'\u001b[39;49m, client_secret\u001b[39m=\u001b[39;49m\u001b[39m'\u001b[39;49m\u001b[39m'\u001b[39;49m)\n",
      "File \u001b[1;32md:\\VS CODE\\Python\\lib\\site-packages\\spotipy\\oauth2.py:201\u001b[0m, in \u001b[0;36mSpotifyClientCredentials.__init__\u001b[1;34m(self, client_id, client_secret, proxies, requests_session, requests_timeout, cache_handler)\u001b[0m\n\u001b[0;32m    <a href='file:///d%3A/VS%20CODE/Python/lib/site-packages/spotipy/oauth2.py?line=171'>172</a>\u001b[0m \u001b[39m\"\"\"\u001b[39;00m\n\u001b[0;32m    <a href='file:///d%3A/VS%20CODE/Python/lib/site-packages/spotipy/oauth2.py?line=172'>173</a>\u001b[0m \u001b[39mCreates a Client Credentials Flow Manager.\u001b[39;00m\n\u001b[0;32m    <a href='file:///d%3A/VS%20CODE/Python/lib/site-packages/spotipy/oauth2.py?line=173'>174</a>\u001b[0m \n\u001b[1;32m   (...)\u001b[0m\n\u001b[0;32m    <a href='file:///d%3A/VS%20CODE/Python/lib/site-packages/spotipy/oauth2.py?line=195'>196</a>\u001b[0m \n\u001b[0;32m    <a href='file:///d%3A/VS%20CODE/Python/lib/site-packages/spotipy/oauth2.py?line=196'>197</a>\u001b[0m \u001b[39m\"\"\"\u001b[39;00m\n\u001b[0;32m    <a href='file:///d%3A/VS%20CODE/Python/lib/site-packages/spotipy/oauth2.py?line=198'>199</a>\u001b[0m \u001b[39msuper\u001b[39m(SpotifyClientCredentials, \u001b[39mself\u001b[39m)\u001b[39m.\u001b[39m\u001b[39m__init__\u001b[39m(requests_session)\n\u001b[1;32m--> <a href='file:///d%3A/VS%20CODE/Python/lib/site-packages/spotipy/oauth2.py?line=200'>201</a>\u001b[0m \u001b[39mself\u001b[39m\u001b[39m.\u001b[39mclient_id \u001b[39m=\u001b[39m client_id\n\u001b[0;32m    <a href='file:///d%3A/VS%20CODE/Python/lib/site-packages/spotipy/oauth2.py?line=201'>202</a>\u001b[0m \u001b[39mself\u001b[39m\u001b[39m.\u001b[39mclient_secret \u001b[39m=\u001b[39m client_secret\n\u001b[0;32m    <a href='file:///d%3A/VS%20CODE/Python/lib/site-packages/spotipy/oauth2.py?line=202'>203</a>\u001b[0m \u001b[39mself\u001b[39m\u001b[39m.\u001b[39mproxies \u001b[39m=\u001b[39m proxies\n",
      "File \u001b[1;32md:\\VS CODE\\Python\\lib\\site-packages\\spotipy\\oauth2.py:94\u001b[0m, in \u001b[0;36mSpotifyAuthBase.client_id\u001b[1;34m(self, val)\u001b[0m\n\u001b[0;32m     <a href='file:///d%3A/VS%20CODE/Python/lib/site-packages/spotipy/oauth2.py?line=91'>92</a>\u001b[0m \u001b[39m@client_id\u001b[39m\u001b[39m.\u001b[39msetter\n\u001b[0;32m     <a href='file:///d%3A/VS%20CODE/Python/lib/site-packages/spotipy/oauth2.py?line=92'>93</a>\u001b[0m \u001b[39mdef\u001b[39;00m \u001b[39mclient_id\u001b[39m(\u001b[39mself\u001b[39m, val):\n\u001b[1;32m---> <a href='file:///d%3A/VS%20CODE/Python/lib/site-packages/spotipy/oauth2.py?line=93'>94</a>\u001b[0m     \u001b[39mself\u001b[39m\u001b[39m.\u001b[39m_client_id \u001b[39m=\u001b[39m _ensure_value(val, \u001b[39m\"\u001b[39;49m\u001b[39mclient_id\u001b[39;49m\u001b[39m\"\u001b[39;49m)\n",
      "File \u001b[1;32md:\\VS CODE\\Python\\lib\\site-packages\\spotipy\\oauth2.py:70\u001b[0m, in \u001b[0;36m_ensure_value\u001b[1;34m(value, env_key)\u001b[0m\n\u001b[0;32m     <a href='file:///d%3A/VS%20CODE/Python/lib/site-packages/spotipy/oauth2.py?line=64'>65</a>\u001b[0m \u001b[39mif\u001b[39;00m _val \u001b[39mis\u001b[39;00m \u001b[39mNone\u001b[39;00m:\n\u001b[0;32m     <a href='file:///d%3A/VS%20CODE/Python/lib/site-packages/spotipy/oauth2.py?line=65'>66</a>\u001b[0m     msg \u001b[39m=\u001b[39m \u001b[39m\"\u001b[39m\u001b[39mNo \u001b[39m\u001b[39m%s\u001b[39;00m\u001b[39m. Pass it or set a \u001b[39m\u001b[39m%s\u001b[39;00m\u001b[39m environment variable.\u001b[39m\u001b[39m\"\u001b[39m \u001b[39m%\u001b[39m (\n\u001b[0;32m     <a href='file:///d%3A/VS%20CODE/Python/lib/site-packages/spotipy/oauth2.py?line=66'>67</a>\u001b[0m         env_key,\n\u001b[0;32m     <a href='file:///d%3A/VS%20CODE/Python/lib/site-packages/spotipy/oauth2.py?line=67'>68</a>\u001b[0m         env_val,\n\u001b[0;32m     <a href='file:///d%3A/VS%20CODE/Python/lib/site-packages/spotipy/oauth2.py?line=68'>69</a>\u001b[0m     )\n\u001b[1;32m---> <a href='file:///d%3A/VS%20CODE/Python/lib/site-packages/spotipy/oauth2.py?line=69'>70</a>\u001b[0m     \u001b[39mraise\u001b[39;00m SpotifyOauthError(msg)\n\u001b[0;32m     <a href='file:///d%3A/VS%20CODE/Python/lib/site-packages/spotipy/oauth2.py?line=70'>71</a>\u001b[0m \u001b[39mreturn\u001b[39;00m _val\n",
      "\u001b[1;31mSpotifyOauthError\u001b[0m: No client_id. Pass it or set a SPOTIPY_CLIENT_ID environment variable."
     ]
    }
   ],
   "source": [
    "#creating our credentials\n",
    "\n"
   ]
  }
 ],
 "metadata": {
  "interpreter": {
   "hash": "7d5b9428126ab9b33c3929882c4dedd5ef3e77437e4f384bb21fdad79f0064eb"
  },
  "kernelspec": {
   "display_name": "Python 3.10.2 64-bit",
   "language": "python",
   "name": "python3"
  },
  "language_info": {
   "codemirror_mode": {
    "name": "ipython",
    "version": 3
   },
   "file_extension": ".py",
   "mimetype": "text/x-python",
   "name": "python",
   "nbconvert_exporter": "python",
   "pygments_lexer": "ipython3",
   "version": "3.10.2"
  },
  "orig_nbformat": 4
 },
 "nbformat": 4,
 "nbformat_minor": 2
}
