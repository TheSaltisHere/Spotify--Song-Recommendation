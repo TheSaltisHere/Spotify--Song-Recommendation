{
 "cells": [
  {
   "cell_type": "code",
   "execution_count": 45,
   "metadata": {},
   "outputs": [],
   "source": [
    "#getting our own spotify data"
   ]
  },
  {
   "cell_type": "code",
   "execution_count": 46,
   "metadata": {},
   "outputs": [],
   "source": [
    "#importing libraries\n",
    "import spotipy\n",
    "from spotipy.oauth2 import SpotifyClientCredentials\n",
    "import pandas as pd\n",
    "import numpy as np\n",
    "import matplotlib.pyplot as plt\n",
    "import seaborn as sns\n",
    "import csv\n",
    "from sklearn.metrics.pairwise import sigmoid_kernel\n",
    "from sklearn.metrics.pairwise import cosine_similarity\n",
    "from sklearn import preprocessing\n",
    "from skimage import io\n"
   ]
  },
  {
   "cell_type": "code",
   "execution_count": 47,
   "metadata": {},
   "outputs": [],
   "source": [
    "#Authentication - without user using Spotify's Web API and making a new spotify developer account \n",
    "client_credentials_manager = SpotifyClientCredentials(\n",
    "    client_id=\"14ab08163a0649be865dc476a3076fd7\", client_secret=\"0ce7157e93604e008992ec4db58d8e70\")\n",
    "sp = spotipy.Spotify(client_credentials_manager=client_credentials_manager)"
   ]
  },
  {
   "cell_type": "code",
   "execution_count": null,
   "metadata": {},
   "outputs": [],
   "source": []
  },
  {
   "cell_type": "code",
   "execution_count": 52,
   "metadata": {},
   "outputs": [],
   "source": [
    "#Getting user playlist\n",
    "playlist_link = input(\"Enter your playlist link: \")\n",
    "playlist_URI = playlist_link.split(\"/\")[-1].split(\"?\")[0]\n",
    "playlist_URI = playlist_link.split(\"/\")[-1].split(\"?\")[0]\n",
    "track_uris = [x[\"track\"][\"uri\"] for x in sp.playlist_tracks(playlist_URI)[\"items\"]]\n"
   ]
  },
  {
   "cell_type": "code",
   "execution_count": 59,
   "metadata": {},
   "outputs": [
    {
     "name": "stdout",
     "output_type": "stream",
     "text": [
      "[['spotify:track:2SHnUyZq0zwmvRIl4WY77G', 'spotify:track:6h5PAsRni4IRlxWr6uDPTP', 'spotify:track:0ct6r3EGTcMLPtrXHDvVjc', 'spotify:track:4ywUcVneBL8TNHIq6oJBz2', 'spotify:track:46lFttIf5hnUZMGvjK0Wxo', 'spotify:track:2V65y3PX4DkRhy1djlxd9p', 'spotify:track:4J7CKHCF3mdL4diUsmW8lq', 'spotify:track:1nas007nDbzLwDGwvMdz79', 'spotify:track:2PZFDozX54B0p7uUE3P4K7', 'spotify:track:5M9jOReAKGZ2AttVefFjTY', 'spotify:track:77TT8Xvx637TpzV8kKGkUw', 'spotify:track:4356Typ82hUiFAynbLYbPn', 'spotify:track:5QjJgPU8AJeickx34f7on6', 'spotify:track:5tf1VVWniHgryyumXyJM7w', 'spotify:track:2ISSQPb9LHHiV6ng2NXosL', 'spotify:track:7BKLCZ1jbUBVqRi2FVlTVw', 'spotify:track:6YUTL4dYpB9xZO5qExPf05', 'spotify:track:5vQIaNoKsT4xkG1j2KFBFs', 'spotify:track:591nHHHzZl1NLt9PMKpinM', 'spotify:track:698ItKASDavgwZ3WjaWjtz', 'spotify:track:6vWk151OrbHfKe4D6Z6tdV', 'spotify:track:3EmmCZoqpWOTY1g2GBwJoR', 'spotify:track:2eCjFwE5fwXttf6knCgX91', 'spotify:track:1YDJ2f1JuKzYWZpRYiBYHu', 'spotify:track:1tAutlhI9FwnKn7fVgmd5P', 'spotify:track:1MtUq6Wp1eQ8PC6BbPCj8P', 'spotify:track:3MOECVkNshqHYTPt5DZcdN', 'spotify:track:7EQGXaVSyEDsCWKmUcfpLk', 'spotify:track:04AYgtKFrpldRXe5y0LNGQ', 'spotify:track:4kWO6O1BUXcZmaxitpVUwp', 'spotify:track:21RzyxY3EFaxVy6K4RqaU9', 'spotify:track:1gihuPhrLraKYrJMAEONyc', 'spotify:track:4h8VwCb1MTGoLKueQ1WgbD', 'spotify:track:1i1fxkWeaMmKEB4T7zqbzK', 'spotify:track:6f1oG9hTx3NETgV6q4rkw5', 'spotify:track:6ebkx7Q5tTxrCxKq4GYj0Y', 'spotify:track:69zxj1EFDfAouZu9JDmQld', 'spotify:track:6fginl3PRIlm984DVF6j9t', 'spotify:track:5QcSDOm6mcvFDl7KBT1fHv', 'spotify:track:4xVy3g7qRlZ0UPTDjDsMz5', 'spotify:track:15DwFznkBJir7AK9PyMyRR', 'spotify:track:6qn9YLKt13AGvpq9jfO8py', 'spotify:track:2dpaYNEQHiRxtZbfNsse99', 'spotify:track:6RUKPb4LETWmmr3iAEQktW', 'spotify:track:02itaCXOdC54J0ISjqqFAp', 'spotify:track:0IkKz2J93C94Ei4BvDop7P', 'spotify:track:4dTaAiV9xFFCxnPur9c9yL', 'spotify:track:5pVk15sR3OgIeKBKqG9jWw', 'spotify:track:6jA8HL9i4QGzsj6fjoxp8Y', 'spotify:track:2HBcU6VkqSdgjM50Jrazg3', 'spotify:track:4ZJjf1jKxiHTcBnF7K6TLW', 'spotify:track:6Ha2gDoMVDHaRjxxoS6qZJ', 'spotify:track:0UMLejbZXf7YVgnfxURvVr', 'spotify:track:1mvghSCONexEGEuSJVbnsT', 'spotify:track:7CHi4DtfK4heMlQaudCuHK', 'spotify:track:7vGuf3Y35N4wmASOKLUVVU', 'spotify:track:6OnYQKTc5fbSGbIpaH4KxL', 'spotify:track:6bolfjXj78EIQRB48C6QTc', 'spotify:track:49COPp81lGS9Hl9OwKlsKl', 'spotify:track:7MmG8p0F9N3C4AXdK6o6Eb', 'spotify:track:5WggjuxMubr94bo33Aan4K', 'spotify:track:4QVS8YCpK71R4FsxSMCjhP', 'spotify:track:0LI4BP3JHQw0I0bFwGeiQ3', 'spotify:track:4DvhkX2ic4zWkQeWMwQ2qf', 'spotify:track:6lbhkPbkKj6jnPTt1FelVo', 'spotify:track:03EuhmMsEHVFI9ytainStU', 'spotify:track:3mYP2JXlrv2iLyU8GIAszA', 'spotify:track:5Gi8lLH3edcexP99srU1Nl', 'spotify:track:3MEYFivt6bilQ9q9mFWZ4g', 'spotify:track:7L2v022tMnc6FbZ0UTgypI', 'spotify:track:6CnlzeNcyopiMynVPCPkdY', 'spotify:track:2FLINm8wjNI3QcsIU6MjoD', 'spotify:track:1ags60Iq9M0vFlvSLAOZE4', 'spotify:track:051Njjyh3fUdOC83XtXMfB', 'spotify:track:6uBhi9gBXWjanegOb2Phh0', 'spotify:track:1pgyHZNpzYB4aRUdD0dQgI', 'spotify:track:6aCxdt2bMItKgGKoznDppY', 'spotify:track:0DIekYoiwwr1kkTUGmQlSL', 'spotify:track:67awxiNHNyjMXhVgsHuIrs', 'spotify:track:6PUIzlqotEmPuBfjbwYWOB', 'spotify:track:47zREtxQZ3cHHIZwUQnuuN', 'spotify:track:1eyrmeiDpdTkOmA839nPVQ', 'spotify:track:7zsXy7vlHdItvUSH8EwQss', 'spotify:track:0g5EKLgdKvNlln7TNqBByK', 'spotify:track:5wldXGLEOoRXxMWJ8rIUWE', 'spotify:track:5Iy2Jj87Ha0C0IBlNE1I4y', 'spotify:track:0AOEd0Zw22aTE8LzsS4EMg', 'spotify:track:4pWawf1Rq4qHDv4Ktqjg2D', 'spotify:track:4UutBLYMby6whu2bMYh9Oa', 'spotify:track:2hjqFVoMk6ssbfgtHEyhsY', 'spotify:track:2ldAdghnrO34HPcZ0IWfTu', 'spotify:track:4RXpgGM7A4Hg7cFBoH5KyF', 'spotify:track:23L5CiUhw2jV1OIMwthR3S', 'spotify:track:2L6orAlH8tBhiFTumIfMyF', 'spotify:track:5naYe7rLMZcLfO1DKg48MK', 'spotify:track:5N4erncE7kuUccm7zEmwzk', 'spotify:track:5FyQTonTkJ5tKYUGG7qEPI', 'spotify:track:0DhkTGjEaIHaSxTfC14BFm', 'spotify:track:2WapmUdFpzEo5QaghBR8xU', 'spotify:track:6n3CVkA26Xm2ljlolcoo3N'], ['spotify:track:51Of5p3lKZeOg6itfs4og4', 'spotify:track:3ebXMykcMXOcLeJ9xZ17XH', 'spotify:track:2EdT0divbyKeaurz7KgPm1', 'spotify:track:24LS4lQShWyixJ0ZrJXfJ5', 'spotify:track:6xTU6B6nFwKKTSZ9ySXS80', 'spotify:track:421leiR6jKlH5KDdwLYrOs', 'spotify:track:4QTuyRQshEZYurtIDfE6g0', 'spotify:track:1wfZdPy5FRWsdWaAEOG0Ml', 'spotify:track:0lYBSQXN6rCTvUZvg9S0lU', 'spotify:track:3FDrI0FLKzrYQiWxPhqV2W', 'spotify:track:6RnkFd8Fqqgk1Uni8RgqCQ', 'spotify:track:0hNduWmlWmEmuwEFcYvRu1', 'spotify:track:2E5amaomMJkbkOe2TAkhD4', 'spotify:track:3nsHMiah773SMpIjU3BDrz', 'spotify:track:79BziE0cPQD2MZBJwXsB1P', 'spotify:track:6eBbIMfIKBD63hOedNquIh', 'spotify:track:2GTi76fD1RgO34wDxRaeXB', 'spotify:track:2MSr5uzB5wgQD1ivWwhExW', 'spotify:track:3LQxo27aEIRGxAypPq9fFs', 'spotify:track:4pmUI17u8L2FALW17kuEec', 'spotify:track:0PMNxtgeNSmPPp4aiA4T8F', 'spotify:track:6jq6rcOikCZAmjliAgAmfT', 'spotify:track:1KtD0xaLAikgIt5tPbteZQ', 'spotify:track:5gIRPQWULwrvIt0F6pY7ph', 'spotify:track:0qJdWQ2KZ8Apvcr6dmjMs6', 'spotify:track:3H7ihDc1dqLriiWXwsc2po', 'spotify:track:5K6Ssv4Z3zRvxt0P6EKUAP', 'spotify:track:6BKeNWeUqxmvQ09Gxd3ZGX', 'spotify:track:6gpcs5eMhJwax4mIfKDYQk', 'spotify:track:3oZoXyU0SkDldgS7AcN4y4', 'spotify:track:24CXuh2WNpgeSYUOvz14jk', 'spotify:track:3ukWpmRHvpuDATCJkgLEkF', 'spotify:track:12MqM3S0fTvR6X4Jt1Xvn6', 'spotify:track:4tGghJ2euPeI7HvpkNi1CU', 'spotify:track:5bFuHlXKw66Uu2cHKn5bf8', 'spotify:track:6m8SIT10j41SPpPFOknTmP', 'spotify:track:6zDwrk0h49oE3RYNGZ822v', 'spotify:track:4ZkVOb0mNnm3MFY2LeyqHY', 'spotify:track:4crczEC1PpoD8TsDsmoWNI', 'spotify:track:6lrMvyqEpwYSVcm6nKy5gk', 'spotify:track:73eIguwwgu2C7jBz89b7SX', 'spotify:track:6wo37KVqFJhtuxPTpLCcfe', 'spotify:track:3sl4dcqSwxHVnLfqwF2jly', 'spotify:track:60wwxj6Dd9NJlirf84wr2c', 'spotify:track:42nkVBjWYVhiijbof5zySm', 'spotify:track:4RVtBlHFKj51Ipvpfv5ER4', 'spotify:track:3Q95VQL8yWRO8mkF6VoDzi', 'spotify:track:2wQ411UQL2MRsdAgPRUstT', 'spotify:track:1V0Zy7533bjXFSVtn3crzY', 'spotify:track:4xghfSfnZ7m0WrR3dQ6o9i', 'spotify:track:1bYuKo7Ph4qS5Klw9zzD74', 'spotify:track:3bXptsvAsA4gLaaRKMHsr0', 'spotify:track:0HT6YGHjXKNvnTjGGtur3j', 'spotify:track:3rnBqIIoxOpQ0p9BeW3NT4', 'spotify:track:3F6TGxqTgTnpGzIXqjZduA', 'spotify:track:6AMTaIegKW34fmk92HTNlz', 'spotify:track:7MWgnAgMGzgLLWAhSkPZSo', 'spotify:track:2sQs0lYqpkND8woIrBp5j2', 'spotify:track:6WbADFqMvR8N5u0BvtsWQE', 'spotify:track:2bJvI42r8EF3wxjOuDav4r', 'spotify:track:5bZtRlMBU76vHuDOb1GM5u', 'spotify:track:1laLEcn6nApj9iDC3934cU', 'spotify:track:0JiVRyTJcJnmlwCZ854K4p', 'spotify:track:2CPqh63wRVscbceKcPxwvv', 'spotify:track:0788xlucIrbHgPn6YeKR4E', 'spotify:track:0azC730Exh71aQlOt9Zj3y', 'spotify:track:6oNZ0WxqptE7V0qpjtyJ4a', 'spotify:track:3fvNrRsXutjz8ZuMS67eBN', 'spotify:track:1hRFVIy9As8OVRk8B7CrD5', 'spotify:track:3nTIvcfFkFEUL4cdMaEt5H', 'spotify:track:3cn8bRbgGBwS05SalGX9HK', 'spotify:track:18KjYhghq6K3ZmfcewWDp6', 'spotify:track:7wz2QMEIn4ir3lFJdQ1qil', 'spotify:track:65G7XDGcybJiGywSCXJiL5', 'spotify:track:0TQ1FvC8TJ09iibSfwRP81', 'spotify:track:2UM5jlU2iLXDEAtzIfa1m0', 'spotify:track:6R1ArLLvqPvS3AHg9YgmrQ', 'spotify:track:15vzANxN8G9wWfwAJLLMCg', 'spotify:track:2UkthNtMWV49Ay5dWKj8iA', 'spotify:track:4ToogKQq58R9TvO40qRuxi', 'spotify:track:4QUA94c3ycZm8dnpPih4sf', 'spotify:track:1ahVFh0ViDZr8LvkEVlq3B', 'spotify:track:0poEFjyV2iHKtxjdWFwjmS', 'spotify:track:457p7UH7hoHrbA2iI4PSCA', 'spotify:track:5OMwQFBcte0aWFJFqrr5oj', 'spotify:track:1eyzqe2QqGZUmfcPZtrIyt', 'spotify:track:190jyVPHYjAqEaOGmMzdyk', 'spotify:track:5jyUBKpmaH670zrXrE0wmO', 'spotify:track:6IE6DtVDkPotP6rApA7a10', 'spotify:track:64y85LeHY8Z6OlTOM9cpKD', 'spotify:track:3NAGKEkJN7cUTaIYqFnF8l', 'spotify:track:0V73UMwqrQTpFj4KCHAZWt', 'spotify:track:00UK1S0zHORG9DIRKV4z1f', 'spotify:track:144VylfhBHydi2xvqy9yw6', 'spotify:track:2LPt7RLfUn6LrF6yl9wHXx', 'spotify:track:4wXum3jZgEGLxScTygQ5US', 'spotify:track:15J54YXr8wiW7P6gj7g552', 'spotify:track:0Xz3DTcdZI01mjKfNZrsC1', 'spotify:track:6xQvK7tPkhBzLdcCdJ0N73', 'spotify:track:2prnn41CblB8B4yWACDljP'], ['spotify:track:1enrwS1KqqBZAaoExK8tLp', 'spotify:track:1JI70l1lE5IF2tgJm5TnMD', 'spotify:track:4pTxYgws1p9IYxmmPHojMv', 'spotify:track:07nH4ifBxUB4lZcsf44Brn', 'spotify:track:7xbWAw3LMgRMn4omR5yVn3', 'spotify:track:7uSZPbd8DxdkmSauCKnITY', 'spotify:track:3nc420PXjTdBV5TN0gCFkS', 'spotify:track:1iR4XIEiDNUeHFkG8SGIoH', 'spotify:track:6pooRNiLyYpxZeIA5kJ5EX', 'spotify:track:3UgCkR2WaqYYrGqHJJEK8W', 'spotify:track:61ZM92T2zaXIVsqncThQzC', 'spotify:track:0aDYbKm7Cwe3rkjihsj7S6', 'spotify:track:7I5XQpe29kmU86T37nhJip', 'spotify:track:5GXAXm5YOmYT0kL5jHvYBt', 'spotify:track:0z8lmRVi8UPIjVDpI9tjhK', 'spotify:track:6srxWPSep6Jp5Xw0IHYWoy', 'spotify:track:7CH8J4ulT49UfZwSDSkSZA', 'spotify:track:7jcpgrFEPvZLEBswLpiSLn', 'spotify:track:45sDIKapDyxPl307QpEAwl', 'spotify:track:6VP3410weACXiPCVLKSkOb', 'spotify:track:0E8WJOFs2eWD67USh7C6Qd', 'spotify:track:06dT0EYXrhRQV1MsvWhNGv', 'spotify:track:6iznpTNBnljkbP0WtAfn50', 'spotify:track:6WrI0LAC5M1Rw2MnX2ZvEg', 'spotify:track:6nLctpnQJiPTxkaSgbPKiw', 'spotify:track:6MkkmWgUSM6gVCmSMExgIS', 'spotify:track:1c0zagykmGPDYuxJeDqZhJ', 'spotify:track:1LFT9QfD13yS96njon1w49', 'spotify:track:2Wo6QQD1KMDWeFkkjLqwx5', 'spotify:track:7clsGP3ea7rhBaEK9ga898', 'spotify:track:4SoXQCrPQplashFebNaUw3', 'spotify:track:7FjZU7XFs7P9jHI9Z0yRhK', 'spotify:track:06kxa3al7bUqRRo5nAFduZ', 'spotify:track:0GTPmh5G40joBg93vcSQNq', 'spotify:track:1mMvahhW2Oz9waG8UTQnI4', 'spotify:track:2REu6wX4KKrG6uGlTKVqu6', 'spotify:track:1YMBg7rOjxzbya0fPOYfNX', 'spotify:track:1dFkD1JfRMzwO6hwUsE8aS', 'spotify:track:4mrAArfFEIqpH6myouJb03', 'spotify:track:221A3PtLTav2MAx6w4GWL2', 'spotify:track:1vvNmPOiUuyCbgWmtc6yfm', 'spotify:track:4uZDqd7PcWI019bHEDbhhR', 'spotify:track:3STTVKfJGTdhbg5aLppEzX', 'spotify:track:5Z3zRrMIJk7CVpfcLsM9wD', 'spotify:track:02T6bjdQaEHp0wWWvPPeWo', 'spotify:track:7ef4DlsgrMEH11cDZd32M6', 'spotify:track:2oejEp50ZzPuQTQ6v54Evp', 'spotify:track:2Foc5Q5nqNiosCNqttzHof', 'spotify:track:5bcTCxgc7xVfSaMV3RuVke', 'spotify:track:1V028kR7hQgxkibAYOMntP', 'spotify:track:5CYJB5Md92kvcrZ4lJDALY', 'spotify:track:3vv9phIu6Y1vX3jcqaGz5Z', 'spotify:track:4L5FRe68MeXk40tnlgFAH0', 'spotify:track:2ToIksTPpJ4csKPEOdUEyM', 'spotify:track:2mCF8L0brIs88eH6Kf2h9p', 'spotify:track:4i0ZmcGcU2xXjqCT33RwC2', 'spotify:track:7gUg4GdOA6Y6yRDe36GIjK', 'spotify:track:1HFfMOxCAT4GAwaPfCdmUs', 'spotify:track:7gq9Mo03Zr417T2C5sgR03', 'spotify:track:75kMrDKPJJpgEQaXVh7QMB', 'spotify:track:4snOHAw3BxiKWFeOyLeEpB', 'spotify:track:3XmhGJ2z0p9QCEkXiu6ikQ', 'spotify:track:6uI17IlHzlDIxeK1A3gYJI', 'spotify:track:3KuUYvIPhTfjFV9KSfXru7', 'spotify:track:3Ukb1tpAsQOdUSVKAW94Cj', 'spotify:track:6ce17pZwsMcYNab5IaC5MQ', 'spotify:track:7z73ehYAn9O1XP9XlCqVtd', 'spotify:track:09IStsImFySgyp0pIQdqAc', 'spotify:track:4ODnJrz0C3AJ4DFv8YQhJ8', 'spotify:track:4ut5G4rgB1ClpMTMfjoIuy', 'spotify:track:5fwSHlTEWpluwOM0Sxnh5k', 'spotify:track:1HCw8XKtTgWWU3JlEUR0qQ', 'spotify:track:3lcuERI7leyYwfFGv1ZP5e', 'spotify:track:4qu63nuBpdn0qHUHuObEj1', 'spotify:track:6dnuiEx1GXh1G1Rpehj0Dn', 'spotify:track:6irAbtoe5ROQjOMEIXT0sE', 'spotify:track:6SRWhUJcD2YKahCwHavz3X', 'spotify:track:1OU3OPHczBcfFU8cDzSzKT', 'spotify:track:4b2tcjrG1qUkSdsqEFP2dB', 'spotify:track:6Owc2SuzwO3LW1SAODYK3l', 'spotify:track:5902W4uHWzhtOff1UK7the', 'spotify:track:02oT3HvcsXD64VwOBtH8yM', 'spotify:track:21CBWF1OV9OrAz9votwzVN', 'spotify:track:26OhjtaTamFocE08t83ml6', 'spotify:track:2CgOd0Lj5MuvOqzqdaAXtS', 'spotify:track:3AygCrAj6TZZ6mGkcvD9To', 'spotify:track:0Zbbxnx4SGGHoIow4PpISP', 'spotify:track:65n4DkUhKUO4tECIabKwy1', 'spotify:track:5yFSF6qQA1rcLsQRnBsZgb', 'spotify:track:1DFD5Fotzgn6yYXkYsKiGs', 'spotify:track:3nEHrvNNtgLv9rneTAYVr4', 'spotify:track:22MQaNqXOkTUdg4rawaBCg', 'spotify:track:7DWyvOfuiDBoVYSTAPAAJ0', 'spotify:track:7crfEWfn65QDZ0mc6npfxR', 'spotify:track:5L2l7mI8J1USMzhsmdjat9', 'spotify:track:6b1RNvAcJjQH73eZO4BLAB', 'spotify:track:5HYwRSalrvZC7ZTT8BuDR7', 'spotify:track:6AE0G24YXnDyEgE4L0efpB', 'spotify:track:1cT7dAUNgEIaZlFrZMW1ZL', 'spotify:track:023OVLNzXhX0j7CxswUt6D'], ['spotify:track:12KUFSHFgT0XCoiSlvdQi4', 'spotify:track:0tBbt8CrmxbjRP0pueQkyU', 'spotify:track:1yvMUkIOTeUNtNWlWRgANS', 'spotify:track:44xO8889yUQHn70P73NILS', 'spotify:track:6ZixfeFT8V0Nle1rMZAekY', 'spotify:track:2OZZpID4LgZ0GGm8XB99e3', 'spotify:track:1nufXiTCTTAeJfO9hLHvO8', 'spotify:track:5JEx7HbmvHQQswJCsoo9rA', 'spotify:track:1c1sdxrYLIiuJOlE7PPttb', 'spotify:track:4Qv71lFPCObf7zol1uWCJb', 'spotify:track:75NhhYjHO43mvZgYtnXgti', 'spotify:track:6wDPn9E6hYBsMiCNkE4Wuo', 'spotify:track:3OaunNUlXXs5e2PXtNAzzG', 'spotify:track:6jGkzFSB2LugZp5w8ZrH5j', 'spotify:track:6ZRenQ13CN0GaOnuKL9QNQ', 'spotify:track:61b7m8jNskWINV4yZCaflc', 'spotify:track:31WJRcrBGMLG6rAtVPMldv', 'spotify:track:4aTtHoSBB0CuQGA6vXBNyp', 'spotify:track:6EsH66Uto1zwZlDGQ6RokU', 'spotify:track:2tI2DDT95lnvNhlPWZRMJ3', 'spotify:track:6zrkWFn28ep82mbAXsQn1k', 'spotify:track:3f9Gm9t1uPmapQSwb1bBm9', 'spotify:track:02shCNmb6IvgB5jLqKjtkK', 'spotify:track:00BE2ycaBS1XJJy8T0ojdm', 'spotify:track:4DMoP99RLqEpkrscJGO0kL', 'spotify:track:0ZmkjefPVLvloVSgtmRu5M', 'spotify:track:4VWCn553TnAjZn7Vv57BWP', 'spotify:track:1I8tHoNBFTuoJAlh4hfVVE', 'spotify:track:1V7bZ9gEIwFQpm8yGxRHNA', 'spotify:track:4AoUdMZGoPZZQxVFnoVQEl', 'spotify:track:5f4l3uDDTNNGEtWaXHOIB9', 'spotify:track:6f3Slt0GbA2bPZlz0aIFXN', 'spotify:track:3SipFlNddvL0XNZRLXvdZD', 'spotify:track:1UI2XoFQxOm7ufFoXQhkhb', 'spotify:track:2yAVzRiEQooPEJ9SYx11L3', 'spotify:track:1Rmxhk9QkgjJAPifwkA4uM', 'spotify:track:3zGpHUsSZ0xLRdDlbWbv5G', 'spotify:track:0SaHuWhXJto0ZqetXo2BQO', 'spotify:track:70mHIUa4beJjFpBNyHYwT2', 'spotify:track:3hWfKBt3n7j1xqIy6LA5ve', 'spotify:track:5or3DfWwQPvoFSEKhifZaq', 'spotify:track:1WCEAGGRD066z2Q89ObXTq', 'spotify:track:66hayvUbTotekKU3H4ta1f', 'spotify:track:0cvMWzztDy1wNQkBqae8w4', 'spotify:track:1xvh5ujI8fogjmadcLmLBZ', 'spotify:track:15BlympuVSfZFROojEMY2M', 'spotify:track:0nxYyX5PIHJqF4VSb4CIFV', 'spotify:track:6Q3K9gVUZRMZqZKrXovbM2', 'spotify:track:4GqVasDFNvA8YCF1nG9M6a', 'spotify:track:36rVmexpQ7mUBZrvnkC88j', 'spotify:track:0JITWDB1tVUH2VUXmVtYpL', 'spotify:track:12GEpg2XOPyqk03JZEZnJs', 'spotify:track:5YJtMNWKe55yr49cyJgxva', 'spotify:track:3RBk0P36O7wCMxF263jRJL', 'spotify:track:0PjDVyVAkT8vfWD0pVmpPx', 'spotify:track:6dhv7QzgF9eR82hztTYk3Y', 'spotify:track:1Hk0QRlUFCHYG6zIvUh0Xd', 'spotify:track:5JHp33tTRd4gWZoByEUyW0', 'spotify:track:5lXNcc8QeM9KpAWNHAL0iS', 'spotify:track:4Z1t1aMRif8ES212kTN8H2', 'spotify:track:1FDGTwqfK4mmwFZOd7qn5H', 'spotify:track:0Vc3nfRMdvY5iX6AHVWSMN', 'spotify:track:6jOMH6cDBx6vT434E4FwDB', 'spotify:track:5kwAIpUBwhmiBpsJlcMgO1', 'spotify:track:4IU1k52gr8iAF3j3OiVCYz', 'spotify:track:5tyLZo7DHqD5TcZZCgAIcW', 'spotify:track:25ZEYUgCJyf3gRxkqYbkIc', 'spotify:track:6x7r0lpyqxBKGq8J7LFMeu', 'spotify:track:1aRdoiTy948hSqKI4bEyvJ', 'spotify:track:4vRjuGwYH9xynPVGCIoFRI', 'spotify:track:7bxnKAamR3snQ1VGLuVfC1', 'spotify:track:6JmRVEBNPIxEtAXWKPSsi5', 'spotify:track:3M9Apu4OZfylLTFKvgEtKa', 'spotify:track:3bjLCKsBNSFyx6Gfsb7X4h', 'spotify:track:5EwwwdsQfKI8ZnFG93j5Zu', 'spotify:track:3frUvGrmGcay91lvFbOgsN', 'spotify:track:5ZFVacinyPxz19eK2vTodL', 'spotify:track:1gb1bIRb1iNuJRnZB2XxS5', 'spotify:track:4heFQCyiW0RUEX1Q1lb008', 'spotify:track:1Q4jb2UjtWUDUojHsB8mLY', 'spotify:track:22mek4IiqubGD9ctzxc69s', 'spotify:track:6GomT970rCOkKAyyrwJeZi', 'spotify:track:0t4ME6AIxRIUYWvywrj0wd', 'spotify:track:4wkUa6PiswVtAwak37I1zC', 'spotify:track:2wG7MgpfXMCzQcTPCt78Tb', 'spotify:track:19y84L32oSIuYeVtxfGHUA', 'spotify:track:2Q8fFORnsDE6I3RNvSLXSf', 'spotify:track:6DiogHhtwkVgUHUDUJVuXV', 'spotify:track:4nraNqonMyfc0U3o8VeXVu', 'spotify:track:71TRhiwsRckqoqO9CcDIE6', 'spotify:track:0Ev562zA4pmUsBqjxsxxdx', 'spotify:track:7jZHUhAmW5oq1cq6s8IxmK', 'spotify:track:57p8CBvPOxrvyCbn6ttl5r', 'spotify:track:3LaASoPNx2MoRLHOdCsf8U', 'spotify:track:67lbzVADsqJJ6tyVk0XCgn', 'spotify:track:4hYgTSNY1COMszRt6iAC89', 'spotify:track:6UEJtAnGHnK5tVhoPHD6tU', 'spotify:track:3LEgGAl9zLcQWGTp7ptqtQ', 'spotify:track:0kcEuXdGabEPKwaaBQWy0g', 'spotify:track:6lBQ0SMCrJ7zy1LSCuXqwV'], ['spotify:track:0bI7K9Becu2dtXK1Q3cZNB', 'spotify:track:2tsArM8er9gkqiN4XiaW3r', 'spotify:track:63bWXWGcWnRQvdS8bJWdkB', 'spotify:track:5NmENli4oodYuWrI0vSGK4', 'spotify:track:1gX4wETtMGvOB7u1proVfj', 'spotify:track:3wfNiPBrzDwuanE75Ar6pS', 'spotify:track:2bdR4MKUcVfaZtu6Kv7BXt', 'spotify:track:4ipnJyDU3Lq15qBAYNqlqK', 'spotify:track:05SBRd4fXgn8FX7bf8BCAE', 'spotify:track:3Wz65ZxjOvxjMaS19F1eqG', 'spotify:track:0ZPfoFzZ4qmdyzYmG8whmn', 'spotify:track:2LbpuytEXfYdPBXei5OeL5', 'spotify:track:6B9cqNooxIyPfr3P5EB8LA', 'spotify:track:0Z26mbSHJ1dkUu7g9DDgif', 'spotify:track:4Q6ZUid2qqoxX3GTlBLCCP', 'spotify:track:63ZtaTHM7Cu3JEca5xrWi3', 'spotify:track:6GSkLS2y4ZnnZsuRAj975K', 'spotify:track:3zU9rdflI65tK4dkkNSp77', 'spotify:track:7Feaw9WAEREY0DUOSXJLOM', 'spotify:track:2N7Qm7YdgvWlg8ZoxLkOND', 'spotify:track:2zLIP4R6Yt3afkyh7uhmar', 'spotify:track:20mwBntYZh41Tc0II4FNYR', 'spotify:track:7arsXR8AtExnOFN3v3HiJI', 'spotify:track:1FP9s72rDYty6mfoOEYKnE', 'spotify:track:7DQ5CZjAQdhgDgdnSXxJ7Z', 'spotify:track:0DW3HWn2qCPc5e0Chh8cOU', 'spotify:track:2kYqdSlrtovVMMIn6ykzba', 'spotify:track:3MkuFR7t25mu7Iscp6GGiV', 'spotify:track:6eXFl418w8hsxKcLgv1jwJ', 'spotify:track:2eotSKVADMMV6qaY15qDOd', 'spotify:track:2tnVG71enUj33Ic2nFN6kZ', 'spotify:track:4B2kkxg3wKSTZw5JPaUtzQ', 'spotify:track:3Jw07klYQpjAiV5f1yitqK', 'spotify:track:2TgDK4TC5KsywTYafAE4Gd', 'spotify:track:2MsRkqapim4BgxBRqPAIob', 'spotify:track:6TfeXwJihJRuBW3mFpib6J', 'spotify:track:6vIUovlj8NGi1JfnzVUUBI', 'spotify:track:18asYwWugKjjsihZ0YvRxO', 'spotify:track:0L0DM33NAe6PjQ1BB4cEjJ', 'spotify:track:15iosIuxC3C53BgsM5Uggs', 'spotify:track:5QxkroIQPiY8UKgSFFuYQd', 'spotify:track:6s3GEN8wK0OMzzzZbXj0fu', 'spotify:track:4fgER9sZxzvxzGdOlZ5wNl', 'spotify:track:5YaskwnGDZFDRipaqzbwQx', 'spotify:track:6fpnHGeOWdw4nH0DSpmxbV', 'spotify:track:5NF6bO7CT4c4Qibuf8HDOG', 'spotify:track:4FYbo4yQzu3hGkj2Ix4ucW', 'spotify:track:6ofKVSjtTu0ZHEarXBsSej', 'spotify:track:0lipGKQoFraacrrBb3Qyg4', 'spotify:track:08z6EsebfUH0Q6J0Wf3eWf', 'spotify:track:46nvQpUDsxpS08UTFOeKTA', 'spotify:track:65hRZOQkVjmBdusz1N7aOv', 'spotify:track:4wkQmYpAaMe41Rc3sYZ7Vz', 'spotify:track:7snnEDYwv30hRtmifVni8P', 'spotify:track:3FU6urUVsgXa6RBuV2PdRk', 'spotify:track:2CMGiyYO8H8GhPwS73LL13', 'spotify:track:5XND8aufA4UvtqAgARcjfN', 'spotify:track:5icOoE6VgqFKohjWWNp0Ac', 'spotify:track:3ZPaj6I2mWRq8pUZv1Peog', 'spotify:track:7vLIj2GVAeYrohv8p0JjF0', 'spotify:track:2tPzQueGEjxjmBvJrYe02u', 'spotify:track:0dxAvCV7LGcGIJQZuqhmgL', 'spotify:track:4UQy41kC5LjzwQuiuWOpwA', 'spotify:track:2Pgm12sMZieZZHw7G3MU9H', 'spotify:track:7pWK1kMgHy5lNNiIfuRbkP', 'spotify:track:0uXO2GrNiIb1xHT9LUdxZE', 'spotify:track:39umHdGKfpnjY4TFtnoQ51', 'spotify:track:2U9S9F7FBWfCFErVJwWL5V', 'spotify:track:6y6xhAgZjvxy5kR5rigpY3', 'spotify:track:6rAGFY9D3ah6Lb7fUgbNNH', 'spotify:track:5HQmg3dQcy3pAIWAVOmJej', 'spotify:track:2oL0HIuo0cxIycDtJWbpuN', 'spotify:track:4cFeXui0uAhC2f4fTwN4P7', 'spotify:track:4o1nV0gmw4jHeBz1Kk5uPO', 'spotify:track:4jJpQvBp06QjtcJsSCexQZ', 'spotify:track:0E8asS0EEbr4c8BlQvJUKB', 'spotify:track:6fD9YOaHc5Wt4a5X5KYNXF', 'spotify:track:0CNxWAkG4ysu9Z3eCfknWK', 'spotify:track:7m4EYPEEFkhI5aEsM5Tgo0', 'spotify:track:6Z8R6UsFuGXGtiIxiD8ISb', 'spotify:track:35j3CjgBRoqLp8LsAKsQF4', 'spotify:track:76A1RRDEyHKtmV3Vh6PeVN', 'spotify:track:0MBF447zy9vOGzBMPxqyx9', 'spotify:track:27bZ77uG7mEhydpaPvThR6', 'spotify:track:71H8k9qe7DersxR6KyhUnI', 'spotify:track:4H8rKQSD1a8qgG8Jwy82MR', 'spotify:track:5TG8HeWIIvveI3rRu0yJui', 'spotify:track:3UTnoLehZjISbFueAmhGvY', 'spotify:track:1SQe2qfiECmqNMhmCBZOOb', 'spotify:track:7yPHVP59O39RkWI3wjTrUH', 'spotify:track:676eXXtx6I7yxaDfXvMpjK', 'spotify:track:4jp4Z02kzzg8gK0NmDGgml', 'spotify:track:4s4XzNKcU3PtmeV7OdXDmv', 'spotify:track:4IBkR62QBXApyiI2rIRZzS', 'spotify:track:3CuE0SXDnJJbEsIt4Xijsn', 'spotify:track:5uEYRdEIh9Bo4fpjDd4Na9', 'spotify:track:4hPpVbbakQNv8YTHYaOJP4', 'spotify:track:6LJsVZlhPAvrALPYka3xXz', 'spotify:track:35mMXfym6C9VOTUVrcKKZp', 'spotify:track:7ir1tVqAtNjctvteJPw5MF'], ['spotify:track:2ZEq4HT450Ye9IFGPTl9qV', 'spotify:track:420yaOHsI4FZQ1Xsvbtqhu', 'spotify:track:6zSpb8dQRaw0M1dK8PBwQz', 'spotify:track:4Uhty1kvytzqhwoLO2CVoi', 'spotify:track:6P8KiFRWcRhKgeU8V9qLad', 'spotify:track:2LCCxYQ5dw1dz3Pu6APEUH', 'spotify:track:5k1uIPpsHmnbWFr4nbpdYb', 'spotify:track:1dDDVfAfms7M6VLLKmubaJ', 'spotify:track:7E12QRk94o3DBLzkySXFqn', 'spotify:track:2P4OICZRVAQcYAV2JReRfj', 'spotify:track:7ltLi7CG003USSGYsSba9s', 'spotify:track:5svGbYcWZKaSL15ttGn5XK', 'spotify:track:0OlnLZY4cmQzT6ZGttvWBM', 'spotify:track:6ho0GyrWZN3mhi9zVRW7xi', 'spotify:track:6VBLbFCArFuTTEXFlQFZZs', 'spotify:track:1sC70uRiQ00RxDWmbOyRPW', 'spotify:track:0OcAPWLoSQU6sYOWnYfQ1x', 'spotify:track:17ejRbr6B8l9zdqgCZsn4m', 'spotify:track:1Uwvfrav6kkJUWHECeokme', 'spotify:track:6gym3PjNtswFqUxE8c1Vz2', 'spotify:track:2FWyJIT0gL2G3xWVQ9Id5f', 'spotify:track:7zx1i0jGcFwMBurajgKlO7', 'spotify:track:1Sm14ee7LxZN2H9nafPupr', 'spotify:track:0lks2Kt9veMOFEAPN0fsqN', 'spotify:track:1x5sYLZiu9r5E43kMlt9f8', 'spotify:track:2Xy1UIVfOlukyye6Fd0wrI', 'spotify:track:2aOK6TRYn4DneIBHJOAQ4r', 'spotify:track:4Juaa2ppIOYcSWbrVtcrNp', 'spotify:track:3FThu9nmJg6J0gkMgk7Hv0', 'spotify:track:1Pe3Tnahd3nNcKrTvNvNvW', 'spotify:track:0KsB4TwgATg88aXCMBoO3Y', 'spotify:track:4Cy5f4JsH1yoeGks7FnoHw', 'spotify:track:0lRT8XTHz2t8WVCCD2V3dt', 'spotify:track:2qa9Bf1C3rk92oUxDFk2iY', 'spotify:track:4Ce37cRWvM1vIGGynKcs22', 'spotify:track:3cO1NNNmUQxaip01zaF6ST', 'spotify:track:52RK8UVEDgUAgpecOpTQM3', 'spotify:track:5ETRYg14nPQtgoNrjvW4eY', 'spotify:track:2EjSewEKEZShOUBwFXUrK5', 'spotify:track:3Shi5fUIeuoNQWV0hjYXNs', 'spotify:track:2cc8Sw1OnCuA5bV8nqWqpE', 'spotify:track:54ZPmGE1uOG9IYoUBSRSp7', 'spotify:track:3xmJo7JydhDml7GAS9YTcN', 'spotify:track:7KKKa4Y1x32MIGeb3MA34K', 'spotify:track:735kliQyYeVVXZqzUIxpfx', 'spotify:track:5seWZTjT0U8a7cy3Y5NJQ9', 'spotify:track:1LeItUMezKA1HdCHxYICed', 'spotify:track:7uoxJCPiqiEa3fvOQQQbyn', 'spotify:track:5UrPnFJOylrP6d909CJfKy', 'spotify:track:2fUZ3aMp8amSaV0mp8s6rQ', 'spotify:track:6jreFSOTUAViWjKyzOC4Kg', 'spotify:track:2uvhLiQ00VP6N4P2Xu7bvW', 'spotify:track:4BX9utrulgT68sAqwWjrkZ', 'spotify:track:3zshP9h5monlNZLzdxFcpW', 'spotify:track:6KjTXwntv8paBCL3El9TnV', 'spotify:track:6cy3ki60hLwimwIje7tALf', 'spotify:track:4cGPfZv4bRv7lWWQwT8g0k', 'spotify:track:4Gcv5SsxnQWpmOnUI19EJk', 'spotify:track:15Xt2CmLqrLJ0uBlDEEimX', 'spotify:track:22SXyL6pUjwIvGWvgGjLov', 'spotify:track:7K0pKyU2oYG8TJHXXyEHGy', 'spotify:track:1XoMhaVxtcVukieSHOpBtn', 'spotify:track:18UrmI8xBwVWgVsPxYVL7w', 'spotify:track:4w7vZjpsnpKizj7NE0Nuld', 'spotify:track:6kxhqz7ZvKax2C46KaQ5v2', 'spotify:track:6jFQGfokxpLHtjYHJQosDB', 'spotify:track:3oIVK7arAFuUOCGafPLxSC', 'spotify:track:2U0pVx4m1Kdm1Gsjjm6iq8', 'spotify:track:2bkIvKf7fjwCesjGxJlGZA', 'spotify:track:5sdb5pMhcK44SSLsj1moUh', 'spotify:track:2MHCiOohBZEQuLgDTPvSzF', 'spotify:track:20h5SXbpPifAJ7mRG9HY56', 'spotify:track:5Gycqp4tJ7dA5yNvbIOEG7', 'spotify:track:2pPO9YecZimmuVQfIzfV6U', 'spotify:track:6Gw2dHX6FsQcIuiWxe0vWk', 'spotify:track:5H4sJFZZjKakgTzyEVmvGX', 'spotify:track:4l8fwDaGkOWJqvNacpcBTo', 'spotify:track:1pWuySZKhpTKKFJcsVNK8E', 'spotify:track:0K3F6uP4XEmYSAPvpSDx7J', 'spotify:track:5aXTfpNOqLj35ydEiLio67', 'spotify:track:2so1nPxGyQRG9pUH1d09zS', 'spotify:track:5iRVNYbhfWNO2VzBykX7GS', 'spotify:track:08pnZCD7bB3voKAA3ShGTw', 'spotify:track:0LZBxJOLsPyaJlWNEnIpmO', 'spotify:track:3t4KHjd8uQpJJ2fa0fRIpR', 'spotify:track:36lwr5tEMMNAaC2p6ndQGb', 'spotify:track:6lhZLbb0czULpjb2kFryPS', 'spotify:track:27YD36FUikKxbp3bKSiKGZ', 'spotify:track:7BpYNI9XnablrLe83A1UEM', 'spotify:track:2eFjKl5cyPPYElDByCh6Tb', 'spotify:track:58hjBuGWj43LQ6WjN3ZQAK', 'spotify:track:2qTtA6lgLLwfuYphfT4f8C', 'spotify:track:6aTW3yrl33mThi0v6Z88Oq', 'spotify:track:20hsdn8oITBsuWNLhzr5eh', 'spotify:track:3QC33AxvY2sdxq22ym3aSL', 'spotify:track:2gpWyfu7eZ01zzncHpxOtA', 'spotify:track:66YtIqT0kN4958EXnCnAmE', 'spotify:track:69Sy7207dnixZ6w7RSV9Kb', 'spotify:track:3MtxiqrTNRwtj9EIVDjRSU', 'spotify:track:13yeSbqDD7JSd7EWMOATV1'], ['spotify:track:5yR26TumS74yhIOGhn8Hs8', 'spotify:track:76Vvmk6PXTw9WOt2ghhBoB', 'spotify:track:6Yis2VwVcABCNVEutLgAf7', 'spotify:track:3Kuu5vASpXK8oRsxOvau6P', 'spotify:track:78oZ26xvmtCfarveRXs3dq', 'spotify:track:5mlNLzIdl6Ae2a4YRphSI4', 'spotify:track:67aiZtmB5ZBCGxBN3pOL6C', 'spotify:track:2Fjz5ZC5BvFdCqcnTZ3ilH', 'spotify:track:2xfHakNuD25ma5CSfTXFw2', 'spotify:track:0siYMEsGrzzzlWLXK5zJfS', 'spotify:track:61sor95BL63MCvZYgKK8KM', 'spotify:track:7zn8XbHMzo8JRsxSsh4VaR', 'spotify:track:0RTzJVkunbGwuRjXDFHnjf', 'spotify:track:3LkdTjyywksp2Zr1yqJS6d', 'spotify:track:5ZQMiwA8y8BEslhMmtLxLv', 'spotify:track:6iW38RGqdDGOofmz2HeXLW', 'spotify:track:67O8CWXxPsfz8orZVGMQwf', 'spotify:track:2QLdrqojYq2yRKHqv6tXh1', 'spotify:track:32UWWCkjGBumY1QclHhTH3', 'spotify:track:2DhdCkMBOZKouXLJhNSnL1', 'spotify:track:40ZN3DCKsiw41kRO7JxoNZ', 'spotify:track:0nBkfiPviDubY0HwMoqrm4', 'spotify:track:1E9Vdzjt5VVWfCah9x8mIn', 'spotify:track:3I4CXyGpdDSQpFUbL0sQnH', 'spotify:track:2FGh2ref26EwA3Z5st5oHb', 'spotify:track:4P51XK0EaFv4BaOQnc0RZO', 'spotify:track:6BwClo5W3VvTzJv8bvZXDD', 'spotify:track:4hfYGVqQ0ElgeibMocRUvi', 'spotify:track:6lD9nDl7jBUSIPDMAMZjuD', 'spotify:track:64sYUhRCwOZyRSj3qbWOXM', 'spotify:track:6EhZ4KKnDsDt1WECQmqpxh', 'spotify:track:1pfgsjmxVZhoZpeDx6POKv', 'spotify:track:44LO7OYB9wbnNYbX3lHQ5Z', 'spotify:track:22479PY1CnNHqkrHMLF7bR', 'spotify:track:3zECQWhwAEydeK9jUTPamo', 'spotify:track:1KqquoEp6nWY1s46lwFoTF', 'spotify:track:3DNE6c8U1fNreWOAkOqiXW', 'spotify:track:0aYkYtV9oDepLueh0hgVmV', 'spotify:track:2Kl1E3NdbzT7vVi93TffoX', 'spotify:track:0gb1J5UrTpzaU1s3nupgCd', 'spotify:track:6Pabk1NBG4giDGaBafwUPe', 'spotify:track:7GIX1WStJ3Ca9wmlTajYFz', 'spotify:track:2zMXH5k5NZy1Nw460bLvRh', 'spotify:track:4pCaBJPDbw1HFzwsQZlIgb', 'spotify:track:4nfuvV34THjGorJHAiijkw', 'spotify:track:6oJ6le65B3SEqPwMRNXWjY', 'spotify:track:3EqNlee0jS3FJlsD1XF4mv', 'spotify:track:6fenHIxXuuzKB55wY4WCHP', 'spotify:track:1yiNj1YqivmAtWjmlnR9WC', 'spotify:track:0FvOqXJodirxTTxXTzIEOi', 'spotify:track:6lYdV7rTtv3dVpQ89htlRU', 'spotify:track:5GmhrrcziQz36B3R4AyJYE', 'spotify:track:762UXiwEHYY97VL45sAUPR', 'spotify:track:0xr8RB4uOrqbmpndeoC7rO', 'spotify:track:5lNuqFVMca4vPupY10cH0J', 'spotify:track:5GjnIpUlLGEIYk052ISOw9', 'spotify:track:1xddmaN7Ivc2SQ940oBskZ', 'spotify:track:45AgDMoWHzskDO4Yt8xpHY', 'spotify:track:6oYXbji1rn7U6bFuNYekpQ', 'spotify:track:5hvoedbyY9mLFsaxxP5oi7', 'spotify:track:6BDLcvvtyJD2vnXRDi1IjQ', 'spotify:track:60hN3qknfJ3XkG20RcTmln', 'spotify:track:09Nr979v4ypGwxYEl8k5Zi', 'spotify:track:0dfy8LYDzGRC2TMMde0vex', 'spotify:track:2EtoRRCCjAV14exD2fr14t', 'spotify:track:6yHR35fYbMEaDz2or8YsH1', 'spotify:track:0Vct1PkjAYGH2X4iwNVR71', 'spotify:track:4fDaT9OtW8PWCrxYgGIulm', 'spotify:track:48elXVD9gXKRI1W06z3D2L', 'spotify:track:2b2Ji9u1hRwfvO5dk1ixYi', 'spotify:track:6CLg9uosQhXPoVKYBqI1xT', 'spotify:track:12EBJmJQO9jqbA4lOBEirv', 'spotify:track:0FLwo3U1NrjocfK2FDisrX', 'spotify:track:2OSqdOMZ90SPQpkPZgJJUB', 'spotify:track:0cdmCDgylLLIFsHMDWNa8w', 'spotify:track:4keoy2fqgwGnbWlm3ZVZFa', 'spotify:track:6lR8HfcXsvVYpM4WLzmrNz', 'spotify:track:4Vqma2LLKkNPLbtw9BYmi1', 'spotify:track:6W0O77QdKFym1RX7n4hXJF', 'spotify:track:4uDhts78RdwIDjEqPrYVKp', 'spotify:track:6eJLUvbzoAiPxRsvcbKV9h', 'spotify:track:5CWOwIX2i8qyXSIK8H9W9s', 'spotify:track:4OPlG2nN2nEVU6TTQAHGpe', 'spotify:track:26KOUSe9W0ZsTxMgNfbmq1', 'spotify:track:6tikkE5RWQnQ0SRqH782eY', 'spotify:track:6L32iYnvUR3JrHjxShOESf', 'spotify:track:7kbTZWt7DnzIzbkyzFE1PW', 'spotify:track:1tmmuHXXaI7gbQm88iw14j', 'spotify:track:3LUWWox8YYykohBbHUrrxd', 'spotify:track:5ZiHgUvekvEbdRXO4pn7HQ', 'spotify:track:37nGZSaEXsKzOZLINC3VOp', 'spotify:track:3P7eiyQ7M6KjNqslxAweZE', 'spotify:track:6aWiGv6hPG0o3ri7QHNs8t', 'spotify:track:5oxq2hf8u0S8RVypWZgjLf', 'spotify:track:47OVNnZJzIkrsEiZ4n187p', 'spotify:track:7fcEMgPlojD0LzPHwMsoic', 'spotify:track:7cmpWAZsamIlIiyU1aMGZD', 'spotify:track:1rFMYAZxBoAKSzXI54brMu', 'spotify:track:2gqzTQEn4g5ly0n5ScdMx0', 'spotify:track:1vsQb8n0icvMsFnL9663LM'], ['spotify:track:26haJjtanhamtf25RXH0MO', 'spotify:track:0WXt43j1BTzcftRf8Vxrh5', 'spotify:track:1dt220OBbkTsYz1NLVKIaw', 'spotify:track:7MTZVwYiEahXQIyCU2FLPV', 'spotify:track:3VkoSghZ6EeLizE8meDCX8', 'spotify:track:0yPWj2trBQazAUasaLmqbU', 'spotify:track:3UuCCLXcXgsWnHSXc2AxJd', 'spotify:track:6UDutnm929sbJhQBGebF7I', 'spotify:track:0pPpcDDIiVBeBS5jBecnSC', 'spotify:track:2bUp9MMOZyVoIck1Ck02vU', 'spotify:track:4gCeoAADi0gWPVbwLhhuqq', 'spotify:track:0I58PwIbxSZauKTdh4LX0Q', 'spotify:track:0NYLOvWtvJdyeceDD9R1Vw', 'spotify:track:6RXdg3NwyLU5pHUwkZq6VA', 'spotify:track:1MVHp4OB3ZFtJp6QiLUUOB', 'spotify:track:66jOXJrDytE0Ye3oUmvj7D', 'spotify:track:0qc4QlcCxVTGyShurEv1UU', 'spotify:track:2LAtELE0xGyMKcvNlxiyF3', 'spotify:track:2ewW50QGufVvqP959lB8F9', 'spotify:track:5N5k9nd479b1xpDZ4usjrg', 'spotify:track:4fCE1SCDulouoac9Q8XroU', 'spotify:track:1QgebV92VO4Z7VxbQ1tSKo', 'spotify:track:0uDBsVGooqSphHWo6JUFJE', 'spotify:track:30PysXbn5cVodLBPGV2FWb', 'spotify:track:2QN0H3wxy4NFFYFGcIaO7Y', 'spotify:track:5uGCoNepb3NfYHzdVDXQtC', 'spotify:track:4ta97KyyCWLCQAAFtOWFpy', 'spotify:track:7yfnNGWg10OgBjpGx1G2M7', 'spotify:track:3ey7v4OxmWKgp8ynQnk4XW', 'spotify:track:0fEMC5xq6djEpqog6bS0EU', 'spotify:track:5ohyF1TaL2ks2mrEJqLtfs', 'spotify:track:0fTiDOXRNEN0lUeYGoSHml', 'spotify:track:5qpEtUsEI1VkG63MNlRrAC', 'spotify:track:1LsoAswipJvPzdcSnoQ46C', 'spotify:track:2z5zyZaP6J9sh74mMKytUo', 'spotify:track:4HQwS0eDQ57zOER0fp7DoD', 'spotify:track:1VIoLpBi34BXpQllbBMA1x', 'spotify:track:3MIDI56fBQenFrMMz2cO7i', 'spotify:track:65ffWlQCk6XeKX50CDYgib', 'spotify:track:36C0Gw2RmYWy5aEpMPaQ0e', 'spotify:track:4tp0KROOhKDVjRfZrxVOgX', 'spotify:track:527sljbYZ6GgdFXaQASKk2', 'spotify:track:5CnMVKkogpdfKsXEerqZTe', 'spotify:track:3pqfx1XOcuFZDeKOwfOky7', 'spotify:track:51b6SQn8j9QhQmt20R4ugJ', 'spotify:track:3p9CxElbqwkyfzVbqgHHRS', 'spotify:track:19XDJlw6WxC4XOKC1LGKid', 'spotify:track:2G7OEIub3PLw0lHqajyt3x', 'spotify:track:0Ffmo50Ce6QpMDcHyFCtKL', 'spotify:track:6I8gVxB8KT0XyYKnVyarys', 'spotify:track:56sn0fvYnxb3O9e5PE4Rr2', 'spotify:track:2D8WbaoNQWGVYnRTaptIsz', 'spotify:track:2yyibvQHNzBBPOFzuLzTc0', 'spotify:track:3v8mNKreR6M4QvyeYQgkC1', 'spotify:track:5IZdQAH0kivErQh8sZsvlH', 'spotify:track:40tPP3K10yMZxwnT65REKj', 'spotify:track:24FFOpCA6bc5YoU2F3TKqS', 'spotify:track:4laAKIq9ZxBCwf99rauPYb', 'spotify:track:6kwH41LJ6hfxlGn2c4oh6Y', 'spotify:track:4eubSCf0gUIxImCSTlSrcY', 'spotify:track:4IgPfckJ6ItpFS7obnLRaD', 'spotify:track:0WSjVLITbxV6kVXndziQDm', 'spotify:track:2kQNtTN0IdTtjiIJkGbsH0', 'spotify:track:0NWQTyapmz4GuDTSN9xTB7', 'spotify:track:1MKfplOg9xC8EIzL9nMBWi', 'spotify:track:24tVqMiAtv8jmpNPhBEsDY', 'spotify:track:5C4NMi4fPpdFPnMZVsyG8H', 'spotify:track:5gGr2RvBtngp6dFgshVbl2', 'spotify:track:6kxmBja0pKhbBXiAMMeXwh', 'spotify:track:7g8cjrj0sXScNE727685JE', 'spotify:track:7dk9EBvTbbKBbFxjCAJpwK', 'spotify:track:1ilyIkfTTyMsYV7o8ejp4t', 'spotify:track:0AlHwHvgbjkRKDaTI6YDHD', 'spotify:track:5SjvhBxmfkAd2OomSOCkT3', 'spotify:track:24ySl2hOPGCDcxBxFIqWBu', 'spotify:track:0323djXhOGD2qO5WNe9fuK', 'spotify:track:5EpR6BqAnwR9PPl6sIrzGy', 'spotify:track:6xeCQCtG0VVzV69qTiUg21', 'spotify:track:0FRavXSn6XmeItbuJR3VrR', 'spotify:track:7GalIlpcDztcRU5GGm06yK', 'spotify:track:4NmOJQxl9UZItUQQtMDYBb', 'spotify:track:5y03hzWKUV6HBSA1Cskd6I', 'spotify:track:0zvQo8wa5J3y2xLNnnzLba', 'spotify:track:7eTtrbdslqS4LCeP38jAYu', 'spotify:track:72dRKA7LBya8fD6lXk1Aiq', 'spotify:track:0CvTKt7jr68v4YEg9oATjX', 'spotify:track:7rRMmhC027ixjjXzuZYoMv', 'spotify:track:1M6QHgtQLn88B3JsTTxV8A', 'spotify:track:0AcwF3jjxYWlD0dfK2RVZN', 'spotify:track:3b0cJPguhWOh2hjY6Lu192', 'spotify:track:1SG6r7daFfpzPcU15luVqB', 'spotify:track:7p2Ym3XW8Dd6DAiSV1mHcJ', 'spotify:track:4coVboSNkToRTBRqxXk4vr', 'spotify:track:6SrL2VXEOH3n30REuedQsJ', 'spotify:track:6ft4hAq6yde8jPZY2i5zLr', 'spotify:track:0vR2rIVORmgeKiGIgNT0fV', 'spotify:track:3xQjivjUZ4KnUslduTEYKC', 'spotify:track:3YiIbihv68MDfynOxYsyQM', 'spotify:track:5Cevkgj9FyNRFIwY3xSCn8', 'spotify:track:2ayyzfxamdoNRDI0au3wva'], ['spotify:track:3SXRZuCEGbbxsPiHyqwWuG', 'spotify:track:46lyJh9GYmWsHez3EsvmAx', 'spotify:track:5oAgI7Pzg6vxuKrfapg3Pi', 'spotify:track:6UO755OcSvOPVVZOaJVH7v', 'spotify:track:1As4KC3YYpu89aBt7EqL2m', 'spotify:track:3cH2reyyuhl69KIHuuUKhv', 'spotify:track:3jCcEt74kTlzCoe2GzJs3m', 'spotify:track:4xMbBESczlHPUO8QeYi56p', 'spotify:track:0rdhOCfkQkOoxgShrMh7gJ', 'spotify:track:61h6ZJSXHwElzSXv2WDtmL', 'spotify:track:6OUOx8rnWrmAfjbl9CSqB8', 'spotify:track:7DP18u679fMurjsUxuxMHu', 'spotify:track:0bMbDctzMmTyK2j74j3nF3', 'spotify:track:1pOjVQ65GHLlP4Acl9vwOa', 'spotify:track:4FUFk1uJuPtUJrDQ8ZSylK', 'spotify:track:3QozJ0g9CaOoqCdoT9WpLz', 'spotify:track:6mTnH6xSYwKohtsO9RFzcc', 'spotify:track:0pMyrECfSI1yq2NXxZyLmA', 'spotify:track:0E5HCtlkD7Qa9hlGxhAbZA', 'spotify:track:108r6pnZHStBIktpyyps9w', 'spotify:track:6z4uAfZKrw1M8xXtbXXhFA', 'spotify:track:6snPJLaLZYuyoGBCVlVXnP', 'spotify:track:0MOiv7WTXCqvm89lVCf9C8', 'spotify:track:1yuSeUYfWaBI4jQXiZ92rt', 'spotify:track:34LcXo2NQttotmy7XzlKsY', 'spotify:track:3FCCxdjUyPVLUrpCL2VUwC', 'spotify:track:4GhRCSt1NJIK0osyhRS0H8', 'spotify:track:4wmrfUPuvK9phVehREZZ1X', 'spotify:track:4AkCyd9Nlbt8JprQq9V6o2', 'spotify:track:7l1NMHXBISVLarwGyfgmFP', 'spotify:track:2QKRp9vmBjADO02eUSvKD0', 'spotify:track:0EdgK7ASb4kfRkW8pVMN02', 'spotify:track:6tgSxgv4moPC3XvX11SKhs', 'spotify:track:2gZwBmkSmsVfEPFWGuWTDk', 'spotify:track:43mNwDn0zOH2HKl5B4aqcx', 'spotify:track:21te7Pz3VowOuFho1nfdR0', 'spotify:track:4iD3msRl5hJUBEtrQwnR4k', 'spotify:track:50ZFpw2wS6ERvLmW8TINhq', 'spotify:track:3lQiZXNB9YoxgCBtXjZjGm', 'spotify:track:4wzHOPBchA7Ab5wOmBHkiO', 'spotify:track:424Uwmm1kNW07Ty1nOhSpl', 'spotify:track:0eWOYqgysbSfsiCKl02xVN', 'spotify:track:4EoHnRqDHIpRJCiFuL3VJH', 'spotify:track:4nx4h17pRj1ikT0hZecR8z', 'spotify:track:6cx06DFPPHchuUAcTxznu9', 'spotify:track:05dL7chWJaVjMJnGO1YCKk', 'spotify:track:3hRi7ubt1NhroxTrdnjn4w', 'spotify:track:4Tvw0lweq9l2JPQKFbpbBQ', 'spotify:track:4oDm90OxoKSOSoJIL9eYVc', 'spotify:track:3R0b0CIol8zkbd8D3SJzxl', 'spotify:track:3awfuEyFxNCnCAhklyu4kU', 'spotify:track:4NexTaCZZ7Ehnf03A6SVjt', 'spotify:track:2HDE7gJUAf4FTH1ubzM042', 'spotify:track:2D6VbgcGFSBhhZJHbVAN1Q', 'spotify:track:6OkP1t5se0cYZTfnNE5gC4', 'spotify:track:4Tw0PFB1wBhW5FW8gbCW2p', 'spotify:track:4BiiOzZCrXEzHRLYcYFiD5', 'spotify:track:37BKY4ENeTfWjq2SixtTF2', 'spotify:track:2e3M6QB2Ci6TEzbgAHgOBi', 'spotify:track:5UZA39t4lX42ApegVubl7f', 'spotify:track:5KQn3B5Zvt6UtYKUuSAunX', 'spotify:track:6TFrePeAAg7X0TXoLwEvvF', 'spotify:track:4d4imxQnT2nssH7Uwg2PAo', 'spotify:track:3eJH2nAjvNXdmPfBkALiPZ', 'spotify:track:5llPdGZJjJFJv9aL6ZaiLY', 'spotify:track:10oKSzRcwbZsog2uq2gb4b', 'spotify:track:1REdX9F6uFLWyjigcqxA6v', 'spotify:track:4COGGbyALvtHrmaItuxysP', 'spotify:track:1KeZgPUr54C8iz3FjqzVoz', 'spotify:track:1dVbC0XoM4VxpDkrv1tcjf', 'spotify:track:7y3c1oJMY1CwwtOZ84Qovu', 'spotify:track:5BLRlpMYsxeMMOjrcWRhIs', 'spotify:track:1839RWzPRZCVgvamu4sHSN', 'spotify:track:5vENpNhFdtArPAJgTAtnla', 'spotify:track:3NRrvr3ctGwpV1wLRjgSSs', 'spotify:track:2Bz6TombrRCYCka9skP8fP', 'spotify:track:06h3McKzmxS8Bx58USHiMq', 'spotify:track:2YFacxFFWjG6tcEVrpLmCs', 'spotify:track:2SPoL0khkn8lcyE4krvzPx', 'spotify:track:6APLWNdNt72jjkLfB1dYey', 'spotify:track:04FG3jfxbSViVX9GYItO4n', 'spotify:track:6RH49kOurGNl02pT2iKOOp', 'spotify:track:5xMKxKPyDAiokD9XBWeRXE', 'spotify:track:0KJZEPy2VHYJuuEEiGaXEs', 'spotify:track:1357S0gcYA0NXIJArUWKTx', 'spotify:track:0ZDDzzxry7vf3rrg2xYOo6', 'spotify:track:2zM1zEjv2JX1qTmSDeB8IL', 'spotify:track:6rLQZW36LaEUGWl3sWTg7v', 'spotify:track:08bNPGLD8AhKpnnERrAc6G', 'spotify:track:2cGxRwrMyEAp8dEbuZaVv6', 'spotify:track:4GNIqJRTjgsPoWdKJWlS5x', 'spotify:track:5Ce9z7GqSknXccyppRxNLY', 'spotify:track:1rS3g0pYnbnwTtj3A4OvXP', 'spotify:track:6oXawXvWfBMOVdJmnLoxDX', 'spotify:track:2bFUohs4VcdPLvGKN7816Y', 'spotify:track:37sINbJZcFdHFAsVNsPq1i', 'spotify:track:0BlcnJ36zeJTr1wn2OCYnt', 'spotify:track:1E6eBDvEvVMz3PIUIkWs1y', 'spotify:track:22zxLxXlXrBIm7XaazHNrg', 'spotify:track:0sewAzEf4LPv74l9Zpjvr9'], ['spotify:track:0JpEMzTHbt2zBIXrntrXzG', 'spotify:track:4CiWLaMrGQ9CR5j604HyoW', 'spotify:track:0l2Kzhhu7zMQvJpLT8uASL', 'spotify:track:055Mme9ReKK99jRFA5UJ55', 'spotify:track:1snNAXmmPXCn0dkF9DaPWw', 'spotify:track:5zADzgQPu2VDODCcXANZou', 'spotify:track:2o0wnU32TIXI3dfH9rdkEK', 'spotify:track:5kgLJgXFLSOR7aipE2bU57', 'spotify:track:2Y7iOaEe9IpSFcitWZAN8y', 'spotify:track:2IXQyek7tvADAQzvU90mjJ', 'spotify:track:0bEieeFbVqwFLWa2XpJseK', 'spotify:track:5lWUeSYO61UYgNlFlqcwYl', 'spotify:track:0ZCgZ4wPD7v6t4Xkqp1SIg', 'spotify:track:0F2BxpbxH8Yc3pLub48hrb', 'spotify:track:7KwOXnN06yiUeGDCk3PQYW', 'spotify:track:2EO3Lksm1VxN9s8vOM37ep', 'spotify:track:6TUTsn9vgyM0XdgruKrcAP', 'spotify:track:4sr6SwiKaIc6z90KEPKmzR', 'spotify:track:1plzDKavZ6EkVk91RPYd1L', 'spotify:track:45Lu4PnbPH7fARZ82nMS3P', 'spotify:track:0ApCFpa96MwsVqpdRDrl8D', 'spotify:track:54lWTBNTeHlyeK14d6e9sv', 'spotify:track:2WWfjbHALIb3e7FMcj9mr4', 'spotify:track:5xCKDXzh2JPFFcyHr39ROH', 'spotify:track:1hwQtAekNuk2UtDGSkl8ll', 'spotify:track:1HPJpgceRg6KPO11nMhWlt', 'spotify:track:0Q3SC6kEhxYagDP3bFe5K9', 'spotify:track:5AvvyeUnd0SAU5PyaLIhVY', 'spotify:track:17Efhyf4A96n0EFXKeB7Ya', 'spotify:track:0PPkM1Ac9F4vWnQ9EDhKdw', 'spotify:track:4vyG9ZhHT8MKJE5mTICMFC', 'spotify:track:09yhMTRqQ1I1dniu3PoIQi', 'spotify:track:54xv1MnxP9aZIAqkvh7z81', 'spotify:track:6O4dKR2qDrowPXV7lwUNA8', 'spotify:track:5LpETVAroZtWLbQUqu1vvU', 'spotify:track:3TtP9fUiUD8EjX8F7TPWMQ', 'spotify:track:5Vs0WK8ifWfEv5iAuC3ted', 'spotify:track:4EAV2cKiqKP5UPZmY6dejk', 'spotify:track:41hcstGzn592p7hyWMfOjv', 'spotify:track:7fZBQnc0zXwVybgCIrQQil', 'spotify:track:3eS1VMcEmq2IUgpaeDysCb', 'spotify:track:1suqXPrYygZ7BYiSfaVZE4', 'spotify:track:4mEILaBM7bKZqKAun5tABu', 'spotify:track:6y1UtRcHQU07aUs3oxZ8Yn', 'spotify:track:3Fg5uhtWBlW0es8GSqQ6Ff', 'spotify:track:3ozaIcj2nyJa9xgY6F7v99', 'spotify:track:4W1JavoraGzh83nluQHY6C', 'spotify:track:7zeXD5NPt24WiMcUTBC24x', 'spotify:track:51wkApQ7le2JWcFGLz84mr', 'spotify:track:2dy2C0StZ3yiEeb0Aoolcn', 'spotify:track:2HO0uCyq8jOveEzvmo4JEu', 'spotify:track:6bIwIjJA3asZLd8JfSxXUV', 'spotify:track:1D8883ZcorW3B2x8HDnrb4', 'spotify:track:3zPfyVThoCzQ6IB5CSGDTz', 'spotify:track:7nvaEKdCDWbnQK7uJsCS5y', 'spotify:track:0YORgvqP1MotwCnDZzOwII', 'spotify:track:0qLCGr3tEqsvk5FfHU2XqV', 'spotify:track:2YNVpj4AfBb3HN1QTqEcVB', 'spotify:track:7JHdotEeGSIbtFuo4dVvsC', 'spotify:track:2k9kWgFLCiAeRBTmwlGbAv', 'spotify:track:1VzUa40exjK6znaiDFisdu', 'spotify:track:0MyY4WcN7DIfbSmp5yej5z', 'spotify:track:6W9RNHEfYOdt5xRg6j5ood', 'spotify:track:0u2XPP4bZ0A5aTN9MqArxX', 'spotify:track:3qPXWPkEZgUhUgPifbE99z', 'spotify:track:7nQqukBuClFtuaegbRAdNP', 'spotify:track:54fiTamOOfnsB9wmxhaENl', 'spotify:track:69W9wnBPbt38vDYNVSLRQW', 'spotify:track:0bmB3nzQuHBfI6nM4SETVu', 'spotify:track:1RF02Cf80mTaeNXG2P2boR', 'spotify:track:5GcUSvBV0pPzNzTLOy0bHP', 'spotify:track:260jSxvzkFt71ksvkcy2ke', 'spotify:track:6HZ9VeI5IRFCNQLXhpF4bq', 'spotify:track:2nLgWMdYPO35GGpwX2xo23', 'spotify:track:3cL8EVouwRoKs9JYYcZePy', 'spotify:track:3pVUqDd3Utc7CMDo06psdG', 'spotify:track:3y1fEFFHFv79OYeCbzc774', 'spotify:track:2ybp2K0VO9sbtGFCfO8tp1', 'spotify:track:3nPpCn5nYTMg0ajmzv57Jq', 'spotify:track:4lJNen4SMTIJMahALc3DcB', 'spotify:track:630svau24EHHzw1kNk0Bdq', 'spotify:track:4ZTTUAjJCd4NMZmIU7RB4c', 'spotify:track:7sYAS4CpbV90oSemgaEQat', 'spotify:track:3O0e0LHTpza0rYVDbZfQ4r', 'spotify:track:2WJVFqVQ3ivhAoAQWzEzeL', 'spotify:track:2h0nAxjubZrDF0Jiid2ym9', 'spotify:track:1tOTq5hXlLeKbqOVn8ddMF', 'spotify:track:1RSBK5VWdjPjHEmRhAkS4Q', 'spotify:track:4JpP1PJy31I1d88rEHbyFg', 'spotify:track:4zJ3S7wjKwPvLbWmeKhceh', 'spotify:track:3Z72gCQwlmsY7sKrqQSOl3', 'spotify:track:6ulV6BN8zJe3t9JyvaEAsT', 'spotify:track:1Dc2f2OGlC7kmApkyaOVxs', 'spotify:track:18W92Zm1KjLCbUIszOhpkD', 'spotify:track:0LcGOUrihGMa7yCq6jjd8a', 'spotify:track:2U1uiiXgExCpPr4GhLGJMv', 'spotify:track:6J57ddrMqt0ikModjnKmHj', 'spotify:track:2wwN7CGIhd6a0E5QxE1MvZ', 'spotify:track:4pioeMejnqa4T3QAEqwVA3', 'spotify:track:6QHKcbL8vrX0Ra3kKpNTVs'], ['spotify:track:4odMGVNm2t07wwtzxKUlBc', 'spotify:track:5HAEB509xZqKZV5sPzurSr', 'spotify:track:1MolNNMsbwFjfMGRgdycJP', 'spotify:track:5Nu5Uyoauauy9LFePYL1Z3', 'spotify:track:517cAnPxsaxfrkKHHY41wB', 'spotify:track:5UbJD3lat3SVDDBXmf8gLc', 'spotify:track:0rohJsT6NWsThpukt0Xxdc', 'spotify:track:0SjaL4cjD4PXOY4orbZSMZ', 'spotify:track:3jFnw3ndyhIOeWc3VzrMS4', 'spotify:track:5w0264qq5wQpYfNiPpsuqE', 'spotify:track:408UEGA6FV2nvQjr1nt1VT', 'spotify:track:5tbmSYRtJBVt4VaAsUlY0r', 'spotify:track:79ep1XDpYKg0goDd3g5uPT', 'spotify:track:59jHH3RyODRyVPCgpM106o', 'spotify:track:0jT6M1tT51b1p2s8qDUUkB', 'spotify:track:3dsyqPDiWYYilRZNBxgxHE', 'spotify:track:6vPJvkEuWZPcv58NnQ3dBR', 'spotify:track:0zzVTGyRrWpQu8Fr28NRAv', 'spotify:track:5vtS5Pgd2hBoThMeYMYA1A', 'spotify:track:6zpW8dKlAei8kiPZuUthq7', 'spotify:track:3JcwDdIuTnybfejL2i3wJx', 'spotify:track:2bbfiUnH4CATlekDS1dxNr', 'spotify:track:2aOlxywgl4nCD4Xh2mLWM7', 'spotify:track:4ga4WvRNhMsIL38pkBbnIN', 'spotify:track:5TL9e2xgtvJFtNCBsq1CgX', 'spotify:track:3u1S1OmAUhx5DRlLrXqyp3', 'spotify:track:7nORGrTd2dDP38JC0YfZ4W', 'spotify:track:0Jh4aokyic5WsB3r6rrqxh', 'spotify:track:4hdzNRErhJx0hPmF8xh2ht', 'spotify:track:5iEI2hHcG8bnKmUelPk08F', 'spotify:track:7DyYqU6pn8blguCw3S377E', 'spotify:track:1PBk2knn4anq0vaS5KGDG2', 'spotify:track:4n7jnSxVLd8QioibtTDBDq', 'spotify:track:2zVJlAEB0ublkqJMIn43AE', 'spotify:track:4DBLAy03Xk88LOVtrOQ1RD', 'spotify:track:4IlqQhaxrGPxmg35YcXXuS', 'spotify:track:0Y9qJSwdV2LvPnFmAbNIc8', 'spotify:track:4BRJSvhsXbMyAFssYkjZZb', 'spotify:track:3umHPqMZenG0SbxTBc9tVy', 'spotify:track:3EnUkQ9iGHXHQI9gujiZkF', 'spotify:track:0ROCe58wXm7sBUPkZaRrnY', 'spotify:track:3zQpGaH50HeMjxurMZVF6q', 'spotify:track:4aydvxALWTpFih5ZDcwhMy', 'spotify:track:1VxogbO6bfygdfaCnE9oLb', 'spotify:track:7milg7da6RYxdXyMKWaVxB', 'spotify:track:2x0RZdkZcD8QRI53XT4GI5', 'spotify:track:4cZqZa0AyJE4vEjhfzrxU5', 'spotify:track:50DKBnjijGJ2d0WV5nqNTS', 'spotify:track:19Eyj5s36yggoXIbt1Hh0P', 'spotify:track:6BwN05qKw4Q8bNoq3rYuz7', 'spotify:track:2cGnOx17iac6m7R5YDUZac', 'spotify:track:1RN6ECX6SLW9216rxg3DYG', 'spotify:track:4lGl4a2CGxNn9lbZD85isl', 'spotify:track:7uThJgXBvoLf7ajaj1D4Fa', 'spotify:track:0qH4xYxCrvqO86YyLbkTrB', 'spotify:track:69F81t9wDuyf06CAfS6vyK', 'spotify:track:4jtcyKfutPwzRe24DAf7xU', 'spotify:track:4fK2NU9UyQJV74ZGiSVYsr', 'spotify:track:7mXNYEVh9FW72c12qBaO3p', 'spotify:track:763Bw3gIH6tNi6ej5HGq40', 'spotify:track:523v8nuwdcPBsgpluw2ukl', 'spotify:track:7MA8T4pKN6VeBIEGE9hggN', 'spotify:track:0zqBZqm5czQ3A4EoSdKFHj', 'spotify:track:0xWNXLoJsTjVNemAept9rl', 'spotify:track:3v2oAQomhOcYCPPHafS3KV', 'spotify:track:59wlTaYOL5tDUgXnbBQ3my', 'spotify:track:1z1XegUChLLQfcbtIK8ABn', 'spotify:track:55fqE8jLm9DETMf3l4GJoe', 'spotify:track:7fVk1KvrGbiADXtgIVrbfP', 'spotify:track:2bLVRA1tUs40sUOc41xgct', 'spotify:track:2BqABA2hfI6cNOqogEDnwO', 'spotify:track:507UUx311ghfFTMSuHUeyS', 'spotify:track:6lg0Md3xQ7U5EYAcsnysiv', 'spotify:track:15LMWNjv1PErA3AHLbL9bB', 'spotify:track:6GRMKQ3RrivYgLEO6h7ebu', 'spotify:track:3rMIgAo2HcDZG7CFbaT8AP', 'spotify:track:3e5i0lp6e6xqGnCUbRfamf', 'spotify:track:7xHfguzndSR2jOpMxzqh3r', 'spotify:track:305EuCoIZ3IiaugkNUIERy', 'spotify:track:7DSBxP0sGTuEb249LMJSLY', 'spotify:track:3741oWUuNslK4IKVYp3o49', 'spotify:track:5vbFDDuHmTqHR8tGxiipf2', 'spotify:track:55Y4oE6oE6XBT2e71vK2yA', 'spotify:track:4466tjT4xLDhIdmsMymUHk', 'spotify:track:5Aj9oGHtVlFveklrDMdjSv', 'spotify:track:5aUSEPNd3m5xliFK4pn5mU', 'spotify:track:78SyL338usb8b6S1bDoVnq', 'spotify:track:34m69Q5xrI67xUM8MHFWeK', 'spotify:track:100eDEmpWV5YGVCqHI0leU', 'spotify:track:5HFPK8mcO6BGPZNeZPZI5L', 'spotify:track:6wnzt59p7i8cAyuWl1avwr', 'spotify:track:7Ktv8bQUjZt0rr16qgB4h2', 'spotify:track:4H0iUwnJaY9Ev07IP6DW5j', 'spotify:track:4CVOUJki8YUWol3jhLphgs', 'spotify:track:0vZCG0H9KhtU7K8MEUVAoV', 'spotify:track:75scDPqGs75FotglJSoOI2', 'spotify:track:0cJ4aP0NxGB7QEZeOfdZC1', 'spotify:track:67rvuV6oRGppOyXZk9OUrs', 'spotify:track:4PZSK9emDiCzkvT3yMWtOT', 'spotify:track:5ZSl6gDoV6bPPxzmLeneV9'], ['spotify:track:4NBTZtAt1F13VvlSKe6KTl', 'spotify:track:7Ga9ZSdPAcQXQvd1ObVFpm', 'spotify:track:0aCsQvJk7VXZ6HCHfV5vtj', 'spotify:track:6aPDvttLmezuUlv60ExTH9', 'spotify:track:0q1YL8hfWM3knO1s0gdRKs', 'spotify:track:1V3BpCUSyBt9PDZ309652A', 'spotify:track:7dFikRPQuLFz4PdCw4ZvCy', 'spotify:track:57QXXEBy5apjgxsyXSb8YE', 'spotify:track:61HQWI1Woxup7CnGwVUsdI', 'spotify:track:68pL3hokJXKJ1vJSaEhKr7', 'spotify:track:6Feh8q8vWGfJhc9xPKUIP2', 'spotify:track:1U16SGDIrsvI1fJMuzN1NT', 'spotify:track:3WrYeC5hm2tFRWnndmzZfN', 'spotify:track:4877aUM6Fw9gCk2EWh1Pyf', 'spotify:track:35rozLoS6QLE8HX8qswM3k', 'spotify:track:5WOnsi0Bug74LmhxcPfKvR', 'spotify:track:6qLkMLUIkdtX34gHF9sPFL', 'spotify:track:1ysP0xeOMwpdaPvYbZtBN5', 'spotify:track:7hYT3A3pxAC4qCzmcYA3Bj', 'spotify:track:3QwrJkOUZEBdPzzITGnoRz', 'spotify:track:0tgbSxoFjZ20MjfoKwWevV', 'spotify:track:4Ba8FqEIKB8Cygzz1pg3D9', 'spotify:track:4OOWQ7dlO9tsTl0O2wNf4Z', 'spotify:track:4huh5oqBz9RkgpzAkyuEAs', 'spotify:track:6kUB88CQG4dAOkUmURwBLA', 'spotify:track:1nFZkmAJkdCFzA0kgpW9jt', 'spotify:track:44I8meyGdUtrQxAlVraaGI', 'spotify:track:1usJccQJFr2f9HaIRQB4AL', 'spotify:track:5JKU2tXiG3yvJtefNwe7ZQ', 'spotify:track:5wfRnupjI4OXpKCulkWJ4r', 'spotify:track:0ZgHA8ElDPK7voIHUIopYc', 'spotify:track:3ezkJgagRPZ39KCTrKcSI7', 'spotify:track:3TKpJrY9q49Mj1JOsM9zGL', 'spotify:track:2zcoi9PYIEexfNmGXczab4', 'spotify:track:7DqEhJ7raApUSeSV07FNM4', 'spotify:track:1AS2ADK5pf7vHRCH0b1LXT', 'spotify:track:3HKiR4t12GW18bnPUVhx5l', 'spotify:track:5RgBnDtHKFHgtVdqabjGE3', 'spotify:track:5bcHlqZXPLNZu62cMbaCnU', 'spotify:track:5GDpODnukzZZIXXjPWOrDQ', 'spotify:track:5FQazQxWUHsJ8QDaXLdFzR', 'spotify:track:73q91uUFExJXYKsnZP9gFX', 'spotify:track:1ucn3B55IQQcQ8PPHcFtDS', 'spotify:track:2aFAmDBycyEnj3lcS95JMe', 'spotify:track:2zzwSQ5xhBsZ5FoYv4IS82', 'spotify:track:3rvEwBi1mFFHqCnkrGmnWp', 'spotify:track:3o1CUVeHIid49sabk6A6Nf', 'spotify:track:3y3brCCecHC3Db18aIOnny', 'spotify:track:6GMVbCz5dbSIX6AX1c3ZzH', 'spotify:track:2lYTJK94hb0fd1LQtb6Dhk', 'spotify:track:6IbTS0IujM8YVkismBljXT', 'spotify:track:3DGar7krWlmrXRFHBcQF6z', 'spotify:track:6l3pBAUJT02f9NSvLmGU3o', 'spotify:track:5UaEBgRvUPFf5CEDhaTdp7', 'spotify:track:1Q83JbpqAig8rhlxICOhgQ', 'spotify:track:79UX8fkSsowWI1HOd8VoYt', 'spotify:track:3EBkSsvod8DflnNLGvx0QR', 'spotify:track:22Utuyp13sogFfciXkyupT', 'spotify:track:3gEaSrF7vC2FhfAARGeCoK', 'spotify:track:6sczuMreL6JAF18pqPp4YT', 'spotify:track:3G4aIdH4OsirbB9Gu2oEtg', 'spotify:track:71P1N0X76YtZMbBIGG47un', 'spotify:track:5aSYCqTmfXXNsQOtTqEHq1', 'spotify:track:1yfyIdEw5U2bD5I6gxQCxW', 'spotify:track:0PHWXLXOQXGlyUGq7woVFZ', 'spotify:track:1gpF8IwQQj8qOeVjHfIIDU', 'spotify:track:5MvsfUN0H79C24t3fPepeL', 'spotify:track:7zGEU6BXl2c4TxpzIAr7BI', 'spotify:track:74rOmOYPMvzfVbI0KhpOvA', 'spotify:track:6Ehy8wRUYjAZcMMRCxMZVM', 'spotify:track:4zaWjy4KPp3E3c6UxzKTgE', 'spotify:track:3Gx7WuEtEvd2CSCFeUPpCL', 'spotify:track:35MKhw2YBKApmD7fAnPERC', 'spotify:track:4lDYedHtcFwkMTVwpdSRUN', 'spotify:track:0K8tVfNLsVbYrYdNYmWqAa', 'spotify:track:77NVa4RmFIPKVWwQhwAiT9', 'spotify:track:3G2O60rq5a77GEIwK1mVmh', 'spotify:track:0WItVbwDl6NDajKnGEMN2c', 'spotify:track:4VTX2s5N7KrQYL7iAHhdyt', 'spotify:track:1LDDUVvutZ3qxvnOrulCBM', 'spotify:track:4f3NHOxgC8Bg21IJBg4cZ3', 'spotify:track:1CW7tYkpJ95c7bQkRf6CcK', 'spotify:track:3H2IvML3Xi2Tqa7E4PcrTI', 'spotify:track:3D37T7euWvVJ45evRmriIh', 'spotify:track:2FR5lFWZmT831LF3QT1VIf', 'spotify:track:3kMeE1blR28hmamxMvBQTQ', 'spotify:track:3bLjBb5uptTAIAub1dUtkE', 'spotify:track:38iU2jg98IZZEIJPrP7aWD', 'spotify:track:7N06jo3EnV792VFaG8vuW6', 'spotify:track:1FPJZZjcwG2IGF0UVLrmKL', 'spotify:track:2QtJA4gbwe1AcanB2p21aP', 'spotify:track:6tPnAqe6UNeKMoOrruBSEi', 'spotify:track:4b93D55xv3YCH5mT4p6HPn', 'spotify:track:5KgyK8XlEKigV538fdY3SH', 'spotify:track:0ZBP7LB2JvzoaKsBFElGRF', 'spotify:track:1cHLPwupcUcpsfkM1QCZke', 'spotify:track:2nCbsY33gkrvuobxX5gYnb', 'spotify:track:6IQPONuERifb4i4Syhmbq6', 'spotify:track:6EBlOYNcZ8MrdEov9lEdV6', 'spotify:track:1zZPjx3m2M604sI7GpI2ZR'], ['spotify:track:2VEZx7NWsZ1D0eJ4uv5Fym', 'spotify:track:1f1Lwfg4cZfv0HcaBbYY1i', 'spotify:track:3hR2IpnyrI6NvUvLB0RVni', 'spotify:track:4YKUhJep2qHJwqG6KJM3L3', 'spotify:track:6VRhkROS2SZHGlp0pxndbJ', 'spotify:track:4QAUGy6k7c3IOAhgWz52r7', 'spotify:track:7qZOnik9K8Mv987ccBjwwj', 'spotify:track:1tndktY8ZFXapGYIeHUGR2', 'spotify:track:2ludbmtPoyCPe2K08fAlFl', 'spotify:track:5kldIyD365H9iq8Cz1Jb5F', 'spotify:track:7I49KefHnQONDAhR3A6jxX', 'spotify:track:4918TwZfPrxk8vKhuaqIiq', 'spotify:track:0dy9clh4KhNnimYUHPpb34', 'spotify:track:2NZJKUPIGfJqLAzONNr4gv', 'spotify:track:4Bl3vhxLgSmTxbHTFR7eyd', 'spotify:track:0QIYINh2AwmOmdu8CRYvlw', 'spotify:track:00yxQQuY0r85m97hrxwus5', 'spotify:track:4UIUaKFABiomFavFdKOwMb', 'spotify:track:7HdZY9UJTylIiNcSDFyUDc', 'spotify:track:0p0ljM6RxgpGt7wthGqBZa', 'spotify:track:54VhMO14MfyB9I9IUtjR6p', 'spotify:track:7IZ7S595rr4Q3E1Zga1Jev', 'spotify:track:4BKlUinuIllRwKce1DAY0P', 'spotify:track:7ej6hXuIvbHAz5tKRikMi1', 'spotify:track:3GT2CBmJWIEdCpHiB31WYK', 'spotify:track:5k3WiFcuOQ8htHIh5QnMT5', 'spotify:track:2KwojFDebQV4J2b0JMRR5Q', 'spotify:track:1yAPglN5AGf7UoLK062ZYq', 'spotify:track:7BhmwvCdQZNwuQXSHw5TzP', 'spotify:track:6sgU0FdR0FroEzK1rTdJzi', 'spotify:track:1CRy08G60mS5jvhB27xMpS', 'spotify:track:4YXKVaWzHaVyDq2pVS5cgR', 'spotify:track:4X2G03Zzmt92UBwMaj5Qad', 'spotify:track:4xigPf2sigSPmuFH3qCelB', 'spotify:track:7MUazB4rGIqFFIkjT95rCO', 'spotify:track:0AHRkAho9lWERZ8HZu0gOx', 'spotify:track:5QWsDMeukgzBiUYAVlZvhA', 'spotify:track:41MlSJxqdr60xsfYocAgRA', 'spotify:track:3482GEXcISrZRWMr0DRRre', 'spotify:track:4KvPvz7bxMRqWeoIMFLSs3', 'spotify:track:3as4sLqPThvJbuzoSJfQDz', 'spotify:track:77OuOZhDxJSQLYnNIpX2AG', 'spotify:track:6UiDiFJUGEDzkGpZBL8IYq', 'spotify:track:16QlvcrfQPyRLfbxcXu0VG', 'spotify:track:6Ww581O9pklqs42MN4Da6q', 'spotify:track:002RM16TLYCpwElukqy8xq', 'spotify:track:1RXzKs0tQcn7CeI6w34REK', 'spotify:track:1br1KHZHkKhCcjz6sHysT5', 'spotify:track:1BuhSAoKWKj5wrKKAu95R3', 'spotify:track:32y9LSjv2Q49T3NnkETXCm', 'spotify:track:4ccQmBycgXDYtIA7Z1i32V', 'spotify:track:2ItO4ZVCtwEHuLL6ygajGM', 'spotify:track:0kD586ste6xyDRqUYhVlCh', 'spotify:track:6HhrMBN43RnGlGv7vIdnM5', 'spotify:track:2jb5Wg3OTKDfeyLZSbizou', 'spotify:track:2GaCZk6EZBMv2H54GbUUMm', 'spotify:track:5nBqvq3hUl8n6HtKtwNphW', 'spotify:track:4R83vyqZAR3ZVotFnwMa4r', 'spotify:track:0f35QrQghf3lHT2qxb1VRX', 'spotify:track:5OLVDfDtBQj4geZCvRmQGk', 'spotify:track:0sdLzD6YytK2DXiChFXRyz', 'spotify:track:21eGoV8gNSgKWuYE6HCqXO', 'spotify:track:5ZvHcR4OSwvEV5IhigbTOT', 'spotify:track:0FjkcycxVB1Jd7mcdEDDWp', 'spotify:track:6YnkswUQX2GXOhywMsBDqp', 'spotify:track:6TdweeWiGv35hKXn3tARjA', 'spotify:track:3wjen23Xb9H1kU4V50QyiZ', 'spotify:track:64BKKgWdKdmKlQDzRfHW3C', 'spotify:track:2ucDRjABZbAeuPdSpxqGTn', 'spotify:track:5boKf6FD2xRwUJVqrh9hMF', 'spotify:track:214h7kR7uNssAoU5AbcaIS', 'spotify:track:7qpqRpdqcM87qfNEGI2ADb', 'spotify:track:7rEOUR7AmXcgd32WG5duJh', 'spotify:track:4rJcxFOljjd2sqfgIjksTI', 'spotify:track:44wpzPHkSow8pQPZDSGOit', 'spotify:track:1pRShUtGOG6ZP5fsnw9G4h', 'spotify:track:1ZONx1GUOzBx02KMDOO6TI', 'spotify:track:454IPfzFpYJsCvqbS0UDbR', 'spotify:track:3geKHgugG7RgYReGV5zpNJ', 'spotify:track:6ZvLKwgPKlyZtDPkTWjPI7', 'spotify:track:5tuOGRYPjh5lV6M5zbNRNH', 'spotify:track:1hR7KntZGfOwHSFcUk4Vza', 'spotify:track:3mZ9iEe21mY35SIRm6D3gP', 'spotify:track:4NSW0Km5ZG60L8FthUebPJ', 'spotify:track:36u7ylwRusxfti5hSisFRu', 'spotify:track:59YzwcYhqPv748eP1jVQuB', 'spotify:track:7m08259Q5tSlCoHKq0l5AL', 'spotify:track:2YDKW31FLSlyW6az564oRS', 'spotify:track:0qaWEvPkts34WF68r8Dzx9', 'spotify:track:5lXY6PTuWXOludKy4zDQwM', 'spotify:track:5WeL7ruThFERubIlDqWuVg', 'spotify:track:1WQywsPBSyvw4QC4ZvmSbj', 'spotify:track:71NOmiKvk7s5R7dUurNjuy', 'spotify:track:4g8k9cKU6G7Bke5PQOvpg4', 'spotify:track:78v8ad1iLTlfLbam4qvzNu', 'spotify:track:5RugEn59RTnWE4IM4uBaC9', 'spotify:track:0p4uX3ggGB11wUbOFz4WY5', 'spotify:track:4wMRo12qupmGNj0sh341xb', 'spotify:track:6ULQ6ZRc7JuVutRMy6gfgc', 'spotify:track:67YkHJvLYOR1mKdpQSTsUr'], ['spotify:track:0XhFy7NAFb8b1grm26Xwh2', 'spotify:track:1euEMWtuw87OGTPcHkqjAK', 'spotify:track:0mfSivZmglC3Hfn0NzssOY', 'spotify:track:0VdwHBLCTSdrTJFIjWOsEC', 'spotify:track:2xbRwcylUnX881qaqf5ZZJ', 'spotify:track:29vo9RUjxgZWXWGTpD8f4m', 'spotify:track:1MQkhomMlwsYigfmswbEbx', 'spotify:track:405G0eZIVu9mcG3o0VlGKa', 'spotify:track:2bHUk3K9cC6z8rYOFJNZxo', 'spotify:track:6LW3Z1GqbL78TIjfDyg4zp', 'spotify:track:2UnBbINT5x5YuE5kSw1Df3', 'spotify:track:1a5Hi6hk75ftgzAVMkj5Lw', 'spotify:track:22qUyTlEvJf6DAlyQjMADe', 'spotify:track:1EXxUvdEFGMeJ3KkFrPYqD', 'spotify:track:0n3G0FcRQRGMAqy0w01Ts3', 'spotify:track:5B20hJw7o6JCXWbkxGmp7l', 'spotify:track:5cRDn5aGMLvWsldoRmOOz0', 'spotify:track:5zdkUzguZYAfBH9fnWn3Zl', 'spotify:track:1i057qqlr4hjEt6lQvvoLl', 'spotify:track:3wSrPtJpnGaUC2hOmJy0BV', 'spotify:track:1bgKMxPQU7JIZEhNsM1vFs', 'spotify:track:0Zt18U2PgV39wE4xTaXj2f', 'spotify:track:30r107ODEMiFUEpnFHSGW7', 'spotify:track:2eMh8ISgK9dylE51SJUixA', 'spotify:track:3G4hqYOTXR8nX5scWXUpyj', 'spotify:track:1QJN61zuPWRy6nj58ndREm', 'spotify:track:5brMyscUnQg14hMriS91ks', 'spotify:track:0Swekz8zwLEZzYkF7WTQTj', 'spotify:track:1feebjQLo4D91KPWCYrU3z', 'spotify:track:69gQgkobVW8bWjoCjBYQUd', 'spotify:track:2hr7myxuDCoXsKyVfh4ue0', 'spotify:track:1S7hEPenrIVKVTuEjtXKz9', 'spotify:track:3NKLPcvDM0pefpLNcmui2W', 'spotify:track:6sgqf4wXFWSAmjL1TEXNvZ', 'spotify:track:6YIWXrjPyaxjO96yz5ccg3', 'spotify:track:7hZhzZXzs9EWGa7T2VLL0P', 'spotify:track:45CwQAnBujkKzbDKX5wJmv', 'spotify:track:2USlegnFJLrVLpoVfPimKB', 'spotify:track:7qcoZzfJ7HGOuR6fwTbZND', 'spotify:track:6gx4oiI7sJX6LDxz7nXs6q', 'spotify:track:1y7agAufBsudgRXuq6Ekqb', 'spotify:track:4L8tAFBftTAOo5pjeXVW9g', 'spotify:track:0qCgbIJOBYM5sGAVXUuPI6', 'spotify:track:3PP9CXeE0PYaM5GIGQqBIV', 'spotify:track:6IiCb4PCrDgqLuDWgHhFi7', 'spotify:track:6IPYQZ3qKXJExuD33Z8ha0', 'spotify:track:556l9P7WVZVyYUBjT1YFTT', 'spotify:track:1DunhgeZSEgWiIYbHqXl0c', 'spotify:track:68CwDQwKXMYLBLWI8ZfRMG', 'spotify:track:0d2F9wcykuZ1QzDMcI0Mf0', 'spotify:track:3Dr0xDJwXy6JkiHNJfv5zd', 'spotify:track:6teNGJXM3cwa3saa4rOQjJ', 'spotify:track:4SF6S1UUsTes8qQfpnnOWB', 'spotify:track:5teUF4mrvsIEnKILsrNyNH', 'spotify:track:7nZBRPj89rgeZ5eBLp2J7P', 'spotify:track:7eafdUZlqVW4EFmZLOaEOr', 'spotify:track:4mxVtqcyvrmiqhBxCDgC7i', 'spotify:track:65ev2pHcMjl695wjiUY21r', 'spotify:track:5n7CLdWStNPCTKtMueIu6v', 'spotify:track:7KLUx44LAzLqO2t20qnDVX', 'spotify:track:4oXP6haPK2dorhIBHvBgKU', 'spotify:track:7EYv3adMrIC5mqurz7fHhD', 'spotify:track:4BPm0wylvoPfC7fGO0inhQ', 'spotify:track:4XPV3xPAOBiipHElp0RlaX', 'spotify:track:5ZWzmvbJnj933UJO0sl3Iy', 'spotify:track:1JE8jVRbEMG8ANRnc5of4f', 'spotify:track:3uHuSLxlSUwgGjEaVXAQOt', 'spotify:track:27py1Q0fMmpuSYiOAKBZPb', 'spotify:track:2JXm9aNPEjD3AIyFf30tN9', 'spotify:track:7ydN6k1pLu6GRJsJpFXnYu', 'spotify:track:7KM7AeGDIWKxrMN7E4ljRA', 'spotify:track:0p3rzYD9XEIyBBx1QTwg4z', 'spotify:track:2n6qz4opcJlHsEpI8030YM', 'spotify:track:1nxolqTzRn39brCPRk5f8v', 'spotify:track:5FQEeo3o0tPNxrsQPcmwlX', 'spotify:track:2TC7je10DQftOBez1PRDRC', 'spotify:track:6Wrn8vD4z8kHBQpTDQOkUS', 'spotify:track:2aXC0fD6qziwlOZZqhCqTd', 'spotify:track:373wC60kaS4EfRUfMPUQrX', 'spotify:track:7aU3KGK8rcyRgaHkxLLLFJ', 'spotify:track:1u6LOWtdWA2wwa3CryIBsS', 'spotify:track:36GG1S0mx6x72O8caBUNud', 'spotify:track:3o2RYNYiGNAWm9Fde1rF55', 'spotify:track:5Zhm8qMnDwXR3soSSurN8T', 'spotify:track:0DmAvNCAK08oCi7miSZUIY', 'spotify:track:3DTqHfTGj1c6y2gDXsTez4', 'spotify:track:3XlHlWFhlI4OZiguOMcuuc', 'spotify:track:5v54ZQ0glzbB9XUPTaX0cj', 'spotify:track:0pwevZMZY6va1bmSihOjWR', 'spotify:track:7cuRgdYlesmnGmVaZwhkda', 'spotify:track:6Sun0pDZ9Dg5TRF1vSy32V', 'spotify:track:2mFDnG2Qm4EdJ9O6clwdoc', 'spotify:track:1mnJ5S9exO5yzkA1eiSq1v', 'spotify:track:3TxKtkCNR1yQARsvHxvNnP', 'spotify:track:1Q7OXxsTM8aUaZ3BbPfIDb', 'spotify:track:3lyXtDiyrEuQopM5sT6KT0', 'spotify:track:0B6pOWMK4fV4YYtbe7cpHg', 'spotify:track:1PA8t7QlRzSpUOZIlLLi6U', 'spotify:track:13J1DIbQaGs1Qb91rF8BEH', 'spotify:track:3l2Wb3OzxiuJnMIK0Bdb5z'], ['spotify:track:6FRxFke9VsjXmibGgSeKki', 'spotify:track:5IKaBEdCQlfB6aikIFKuR8', 'spotify:track:4WRZjx6NQDQQbfe98Peg8T', 'spotify:track:73QyyUMMvtNELmULI4FOsp', 'spotify:track:1yhpeYO1uzMl4cRMSqq07F', 'spotify:track:3V9Ye0o7szPrtMEELrOlfg', 'spotify:track:0NHBjddjKTkJQvEb5oTilt', 'spotify:track:7C1trmcQQ5n5RNy4l6ziCv', 'spotify:track:7rBpjxstrSsuOLqnuOC028', 'spotify:track:6cm0CsFVU8QTLTVegPgHDm', 'spotify:track:3FN7IJMnUMWZXDw08ix3ot', 'spotify:track:7bIq1v8svANsAys7I694Up', 'spotify:track:0KG7XrgM20KEmJrKsyFDAm', 'spotify:track:1gdLUGdyYpXcckmzP1rTUm', 'spotify:track:0eI2wERxsRTwq0fxPNwuEk', 'spotify:track:1DkbynNilJKbe7V57omrK7', 'spotify:track:5usaydQKInuUpnaWQVTGM0', 'spotify:track:6L5eyrIlO6GkRJAdqQEThe', 'spotify:track:6BDCYFZY8W3xoPGqZPF7zF', 'spotify:track:3dDLEwHUOwLQ3Mdl6aNPt2', 'spotify:track:3Vs2wRyT9dHmyiR5jLBcIC', 'spotify:track:5DF2KFDVeC7wF5CXipl9WN', 'spotify:track:3B5z7hV9I8dmd6zt2zYIdd', 'spotify:track:0h4yWQq8wkQq0rhhA1Ik4F', 'spotify:track:28pyXNW0jwILn3SZ0zIzJc', 'spotify:track:3lDax71SDuJGcFrCyw9qak', 'spotify:track:0zsD5I9yYEr4jNkj5SQn4k', 'spotify:track:4gEC7He07d6cuzkQ7MSobQ', 'spotify:track:2ttfqpA40dpzzz9QhxnFCv', 'spotify:track:48zyUMEijWA5dgwD0QRXen', 'spotify:track:2R8BQ76Ao9MtBKPOO3Ot7g', 'spotify:track:0AnW8P749QegIbhsAXFQdK', 'spotify:track:0pSEAxsRKc43QFxZaE46Nj', 'spotify:track:17kleFbwU5STT8AiR1EXOT', 'spotify:track:4QDlt4NhI93bs9TI5s1sCc', 'spotify:track:5ngkOLKzDPNoYEXN0snzq3', 'spotify:track:4FoLh6KvnpHkHu6LXA4ZSH', 'spotify:track:6YGq0IfrGMx4KsF0GnFpP3', 'spotify:track:2kp5mzKe313U0szxHQwu6K', 'spotify:track:4AqN8IdKCfItCSbuaFch81', 'spotify:track:0zg8u9UUlvwSvBJYEjhgDT', 'spotify:track:0IbKDougbWSz6DUAixncoB', 'spotify:track:7qszWLHEmY2X5zMNT3qxws', 'spotify:track:0FJw1Pg9xXCxbcyQMI6GAe', 'spotify:track:5D246C2tLKCTeZgcsRfvcA', 'spotify:track:3Dzso9Q2WwupEclqgxBZht', 'spotify:track:4FEcEwbE2vsqhxbTPtiNTL', 'spotify:track:1YXUD5D1ZRSaKZRZME4UB5', 'spotify:track:2jn4Xc20vuBXpoatzMJ2Ub', 'spotify:track:4lNxko4oGBahTuPeo332LK', 'spotify:track:17bGtGqqaXOgVnhnfx5NlE', 'spotify:track:5TPWOzPTIxCjqfqORrzoiO', 'spotify:track:418wnyeZOQ6NPVfiNbLsRk', 'spotify:track:46GMwaaG22TQoKbtj4O2rU', 'spotify:track:5EDFZeXVW1SsQtaNm7A5Pl', 'spotify:track:58jecLK0epwMLr9cy5vFUy', 'spotify:track:1X1feHU5fQmZ0KbMTeDoO0', 'spotify:track:4muUXLYIrhCXtFsPogjIcn', 'spotify:track:7IhWJM8cN04zRQ2PNM91xc', 'spotify:track:4OcwgcBMJmL8hHJ7wUGk09', 'spotify:track:4sofJiicQwKsRo3S1vpt39', 'spotify:track:1e7gC7NhFSK0lBeoLISvKz', 'spotify:track:0ha2skoePlU0BDDySj8qf2', 'spotify:track:5HbftS7DthYg8D7wDiAmpF', 'spotify:track:0d1ujEcFwTqA4kWliTSJim', 'spotify:track:55d553uqFMy1882OvdPPvV', 'spotify:track:6Skh3CBum0pZw9TOr7FQnX', 'spotify:track:4IZ3DxkUdkZVPNGoAHOk3m', 'spotify:track:2R2haDSmphwkn4kANdHU5P', 'spotify:track:2bWFvL5i2zk7ApBpTVis2j', 'spotify:track:1evX3NUBE7QujnSmky2ox4', 'spotify:track:0QrLeOy3DCNBNQoEwZB1T3', 'spotify:track:4IKa5EKTmhKvV1wuTJf9Eq', 'spotify:track:3mfUNz4PSz4jG4XNx4AkR0', 'spotify:track:7GxgdE0yni4IKu8DSg5ibQ', 'spotify:track:0KzCNeuMVGXbnMbjX6ilCU', 'spotify:track:7u6EvUNJUmycM4IHEiHasm', 'spotify:track:1hUZSpSGoqJA0oqiXfebJW', 'spotify:track:2wlJujDcmEpJ4egO6Sx56w', 'spotify:track:0NbuWdYon2bHbp5whrD6Fr', 'spotify:track:4RG63cZOJT5njECPKYMhUU', 'spotify:track:71fMzHxD9S626L3V1Rkdm0', 'spotify:track:4XeIiGpUBshIfs9yrBDVZC', 'spotify:track:5nC7BdQwa8a0pdKZlrUY0w', 'spotify:track:73AvmbccSoMdjaurn1JnuI', 'spotify:track:6AfvfheW6VzyV1MNyZ9XXd', 'spotify:track:0KCTz5CgMquA0rbREbLHVr', 'spotify:track:4x0yfBUpGWpovUxJqj20p0', 'spotify:track:5YVJEcClByWmKj8DakxL08', 'spotify:track:1zS7wXUlPhxdOgGZ7RorQ2', 'spotify:track:2Z75xEZAyiDTT7fLq7xNvU', 'spotify:track:7EWIW4aBTL188YXvYcUdqK', 'spotify:track:1gT4R71PKKWcd7kSqAmNWC', 'spotify:track:0mWXMQ8hrrAJfxN7LG2Wsk', 'spotify:track:0liqgDxxKqACG9kponhjfn', 'spotify:track:4G4patpYxsF6ovHZOX9wgR', 'spotify:track:6m6qcUVy6yuL6EOCt3tFCB', 'spotify:track:6RCYbG3TjZA3jubyYnUoqF', 'spotify:track:1sc1LUE0z2kiAFG7ZZlcDZ', 'spotify:track:7JoC4CRiyDZIq1OVoJZKlW'], ['spotify:track:34pBAo2dy6BCfUq6yHNwRG', 'spotify:track:4Yib0zd9hSkVFbUqDIp28b', 'spotify:track:5WYNZf8enqbyPk4bKXKpou', 'spotify:track:6lKrQ5hQlZKodkkHc2jNGw', 'spotify:track:4W4pQeDiuRon21h02QM7Gs', 'spotify:track:16ajM0euNHYF4ffsLhaomJ', 'spotify:track:4CUX44NA1CPEzd0ibMLQsL', 'spotify:track:61LIQv4lkRpZQ2sjOZSlz1', 'spotify:track:3J1Kb6G95Q4DgQrMXqbYZt', 'spotify:track:3NdMgBJYyxUt5w1BsoT7Im', 'spotify:track:3mMxJjXCkgu0vnnUuiRG1n', 'spotify:track:00c9Dfe9OwFQ55hNGPZ5u8', 'spotify:track:2r6X8WU5R6oMC237E3rtG6', 'spotify:track:3xvPsrtMmzdtPcMoJ7x3dj', 'spotify:track:2TWa4lE3laPs8zxIzN26o7', 'spotify:track:2d3fA0TfGGFBJJHGXWnV5s', 'spotify:track:3X46O5mPw79JLuotm7zNoy', 'spotify:track:0zDAH9Vyi1JsJCTrzaIEnv', 'spotify:track:21Xazi2pejRbDZUYhdkXaD', 'spotify:track:1XDAqmYLss3mKHCjKauTer', 'spotify:track:6vE1AvWWu1CsBsR2IVyzDi', 'spotify:track:66eHQRAWSPNUT6w5vhXWbD', 'spotify:track:0waCegD0TfLPCZx3fXxIlN', 'spotify:track:4TFRJBtgQEIDTgHqdueamO', 'spotify:track:5VDHMi7own9vDZjiwDES1e', 'spotify:track:1Pu6ZxjfOA3gn81FXGXYIY', 'spotify:track:0dX9KggUauyttXSaRgCILh', 'spotify:track:3RiBew0sloyLZYHkv5cxXv', 'spotify:track:4aLpby9TqYKzjRh4Td71uI', 'spotify:track:62VHZQQUBUUMyOhT8s6AtA', 'spotify:track:3ajPqaSYRTQxV75E8229rL', 'spotify:track:5x0Z53gqs9X7KM10AZSsBR', 'spotify:track:1xBOFgbYx6OtTFheTSnXuR', 'spotify:track:7nn91SgkT5scOxPYLGSTzR', 'spotify:track:4S8k3qXgPkiGg2GNEfmDwy', 'spotify:track:3ph2p72KNBM1joMCjXa9cv', 'spotify:track:6j6pz5CNrHhOaS9TY0cmHX', 'spotify:track:32at1qFQNjE3oC6g3GcQ0h', 'spotify:track:7gvvK3stskG8oQRQcrWcLU', 'spotify:track:1XfNiYi7BvxJgjm3FHmsi4', 'spotify:track:2UmeXRCdw2wlljc36YxR5f', 'spotify:track:34DHhjRnNIhh8R4jjHwB8Y', 'spotify:track:3JzMMoEVuzXiXB4U84VHu6', 'spotify:track:2EURFmPGHUq2HpP7BXLnpm', 'spotify:track:2q8RX9TJ5Il8qjM9kqvJfo', 'spotify:track:44Pc9WXZkaFlK9kWhxLK6E', 'spotify:track:1TqYSWCAL5RxHo1EHnqUL8', 'spotify:track:05qShJAEIVXrgGypArpQwb', 'spotify:track:2ilhzL2gxF1hC8rkGq9En2', 'spotify:track:0R1yM3gac3ihrFORElU5DI', 'spotify:track:3TQ3lBXFJRAPdTSoYQvBFq', 'spotify:track:7CHNMjtkRdMSt5XZtNbBbv', 'spotify:track:5mcksVpHHhVCYY9vnq9fC4', 'spotify:track:7iMoOMB1AHVvEecrrpbaSY', 'spotify:track:3iRm69cwMrakvyJZgNs8kH', 'spotify:track:6THUmuonwnrtnJv6sEXpDu', 'spotify:track:4RjiTpP3N38BcHpFkjeH20', 'spotify:track:19SM5ZEEJeyYvJze7DNNgA', 'spotify:track:7d3gda33zpgHNNAB5hV7YV', 'spotify:track:5amIQfIrYMt4cBYpcQCHMu', 'spotify:track:5ic27VIYvnEnHgBuXWLa9a', 'spotify:track:1nG31E7PAWJSAOuSiQjzDb', 'spotify:track:3tmV7GokZo2gjtTskgsaBT', 'spotify:track:5mQetCrw6OfmC1TR121VpN', 'spotify:track:21ol6riz0lrU3zKXOAJSoA', 'spotify:track:60ASiRGLXR5BkzWDT84nZ0', 'spotify:track:7mcLAHdOHq6GoDBVfFykR4', 'spotify:track:6yC7pX3glqqeWHOfZfTJm6', 'spotify:track:1JU5OVmgvxwpiKVEbXX2N4', 'spotify:track:2IZYqF7wfRnmnqqL90QnIV', 'spotify:track:0waCegD0TfLPCZx3fXxIlN', 'spotify:track:0Bsw6PMFkn7AtK1ZgMT9Th', 'spotify:track:6CUw8LdJd9SbocABMha3wP', 'spotify:track:3IUKnFQhJn9MBSlr1jXQx6', 'spotify:track:5mulEPWFHB46q6Bs9qYkDg', 'spotify:track:1Lfgofblea375R6ezwRNTX', 'spotify:track:01uTpIo9bVc62XdO6CSiuO', 'spotify:track:0fC4prCoQSr1zwPBMdWJ2u', 'spotify:track:4QXEMoGDlbkoWSXCc0xfDb', 'spotify:track:2qvCfjKtYK4jLIJRU0s1ox', 'spotify:track:3lGvB4xv0NksOYbFkPptw6', 'spotify:track:30GlR9eFs3inPlPBTjbFAF', 'spotify:track:5RpT7W2ySk9PvSa2sCO6vv', 'spotify:track:3iLzyDMXB7QXX2RjtmJFOn'], [], [], [], [], [], [], [], [], [], [], [], [], [], [], [], [], [], [], [], [], [], [], [], [], [], [], [], [], [], [], [], [], [], [], [], [], [], [], [], [], [], [], [], [], [], [], [], [], [], [], [], [], [], [], [], [], [], [], [], [], [], [], [], [], [], [], [], [], [], [], [], [], [], [], [], [], [], [], [], [], [], [], [], []]\n"
     ]
    }
   ],
   "source": [
    "print(track_uris)"
   ]
  },
  {
   "cell_type": "code",
   "execution_count": 53,
   "metadata": {},
   "outputs": [
    {
     "ename": "AttributeError",
     "evalue": "'list' object has no attribute 'split'",
     "output_type": "error",
     "traceback": [
      "\u001b[1;31m---------------------------------------------------------------------------\u001b[0m",
      "\u001b[1;31mAttributeError\u001b[0m                            Traceback (most recent call last)",
      "\u001b[1;32md:\\Projects and Practice\\Spotify- Song Recommendation\\recommendation_playlist.ipynb Cell 5'\u001b[0m in \u001b[0;36m<module>\u001b[1;34m\u001b[0m\n\u001b[0;32m      <a href='vscode-notebook-cell:/d%3A/Projects%20and%20Practice/Spotify-%20Song%20Recommendation/recommendation_playlist.ipynb#ch0000018?line=0'>1</a>\u001b[0m images \u001b[39m=\u001b[39m []\n\u001b[0;32m      <a href='vscode-notebook-cell:/d%3A/Projects%20and%20Practice/Spotify-%20Song%20Recommendation/recommendation_playlist.ipynb#ch0000018?line=1'>2</a>\u001b[0m \u001b[39mfor\u001b[39;00m i \u001b[39min\u001b[39;00m \u001b[39mrange\u001b[39m(\u001b[39mlen\u001b[39m(track_uris)):\n\u001b[1;32m----> <a href='vscode-notebook-cell:/d%3A/Projects%20and%20Practice/Spotify-%20Song%20Recommendation/recommendation_playlist.ipynb#ch0000018?line=2'>3</a>\u001b[0m     track \u001b[39m=\u001b[39m sp\u001b[39m.\u001b[39;49mtrack(track_uris[i])\n\u001b[0;32m      <a href='vscode-notebook-cell:/d%3A/Projects%20and%20Practice/Spotify-%20Song%20Recommendation/recommendation_playlist.ipynb#ch0000018?line=3'>4</a>\u001b[0m     images\u001b[39m.\u001b[39mappend(track[\u001b[39m\"\u001b[39m\u001b[39malbum\u001b[39m\u001b[39m\"\u001b[39m][\u001b[39m\"\u001b[39m\u001b[39mimages\u001b[39m\u001b[39m\"\u001b[39m][\u001b[39m0\u001b[39m][\u001b[39m\"\u001b[39m\u001b[39murl\u001b[39m\u001b[39m\"\u001b[39m])\n",
      "File \u001b[1;32md:\\VS CODE\\Python\\lib\\site-packages\\spotipy\\client.py:344\u001b[0m, in \u001b[0;36mSpotify.track\u001b[1;34m(self, track_id, market)\u001b[0m\n\u001b[0;32m    <a href='file:///d%3A/VS%20CODE/Python/lib/site-packages/spotipy/client.py?line=335'>336</a>\u001b[0m \u001b[39mdef\u001b[39;00m \u001b[39mtrack\u001b[39m(\u001b[39mself\u001b[39m, track_id, market\u001b[39m=\u001b[39m\u001b[39mNone\u001b[39;00m):\n\u001b[0;32m    <a href='file:///d%3A/VS%20CODE/Python/lib/site-packages/spotipy/client.py?line=336'>337</a>\u001b[0m     \u001b[39m\"\"\" returns a single track given the track's ID, URI or URL\u001b[39;00m\n\u001b[0;32m    <a href='file:///d%3A/VS%20CODE/Python/lib/site-packages/spotipy/client.py?line=337'>338</a>\u001b[0m \n\u001b[0;32m    <a href='file:///d%3A/VS%20CODE/Python/lib/site-packages/spotipy/client.py?line=338'>339</a>\u001b[0m \u001b[39m        Parameters:\u001b[39;00m\n\u001b[0;32m    <a href='file:///d%3A/VS%20CODE/Python/lib/site-packages/spotipy/client.py?line=339'>340</a>\u001b[0m \u001b[39m            - track_id - a spotify URI, URL or ID\u001b[39;00m\n\u001b[0;32m    <a href='file:///d%3A/VS%20CODE/Python/lib/site-packages/spotipy/client.py?line=340'>341</a>\u001b[0m \u001b[39m            - market - an ISO 3166-1 alpha-2 country code.\u001b[39;00m\n\u001b[0;32m    <a href='file:///d%3A/VS%20CODE/Python/lib/site-packages/spotipy/client.py?line=341'>342</a>\u001b[0m \u001b[39m    \"\"\"\u001b[39;00m\n\u001b[1;32m--> <a href='file:///d%3A/VS%20CODE/Python/lib/site-packages/spotipy/client.py?line=343'>344</a>\u001b[0m     trid \u001b[39m=\u001b[39m \u001b[39mself\u001b[39;49m\u001b[39m.\u001b[39;49m_get_id(\u001b[39m\"\u001b[39;49m\u001b[39mtrack\u001b[39;49m\u001b[39m\"\u001b[39;49m, track_id)\n\u001b[0;32m    <a href='file:///d%3A/VS%20CODE/Python/lib/site-packages/spotipy/client.py?line=344'>345</a>\u001b[0m     \u001b[39mreturn\u001b[39;00m \u001b[39mself\u001b[39m\u001b[39m.\u001b[39m_get(\u001b[39m\"\u001b[39m\u001b[39mtracks/\u001b[39m\u001b[39m\"\u001b[39m \u001b[39m+\u001b[39m trid, market\u001b[39m=\u001b[39mmarket)\n",
      "File \u001b[1;32md:\\VS CODE\\Python\\lib\\site-packages\\spotipy\\client.py:1911\u001b[0m, in \u001b[0;36mSpotify._get_id\u001b[1;34m(self, type, id)\u001b[0m\n\u001b[0;32m   <a href='file:///d%3A/VS%20CODE/Python/lib/site-packages/spotipy/client.py?line=1909'>1910</a>\u001b[0m \u001b[39mdef\u001b[39;00m \u001b[39m_get_id\u001b[39m(\u001b[39mself\u001b[39m, \u001b[39mtype\u001b[39m, \u001b[39mid\u001b[39m):\n\u001b[1;32m-> <a href='file:///d%3A/VS%20CODE/Python/lib/site-packages/spotipy/client.py?line=1910'>1911</a>\u001b[0m     fields \u001b[39m=\u001b[39m \u001b[39mid\u001b[39;49m\u001b[39m.\u001b[39;49msplit(\u001b[39m\"\u001b[39m\u001b[39m:\u001b[39m\u001b[39m\"\u001b[39m)\n\u001b[0;32m   <a href='file:///d%3A/VS%20CODE/Python/lib/site-packages/spotipy/client.py?line=1911'>1912</a>\u001b[0m     \u001b[39mif\u001b[39;00m \u001b[39mlen\u001b[39m(fields) \u001b[39m>\u001b[39m\u001b[39m=\u001b[39m \u001b[39m3\u001b[39m:\n\u001b[0;32m   <a href='file:///d%3A/VS%20CODE/Python/lib/site-packages/spotipy/client.py?line=1912'>1913</a>\u001b[0m         \u001b[39mif\u001b[39;00m \u001b[39mtype\u001b[39m \u001b[39m!=\u001b[39m fields[\u001b[39m-\u001b[39m\u001b[39m2\u001b[39m]:\n",
      "\u001b[1;31mAttributeError\u001b[0m: 'list' object has no attribute 'split'"
     ]
    }
   ],
   "source": [
    "images = []\n",
    "for i in range(len(track_uris)):\n",
    "    track = sp.track(track_uris[i])\n",
    "    images.append(track[\"album\"][\"images\"][0][\"url\"])\n"
   ]
  },
  {
   "cell_type": "code",
   "execution_count": 50,
   "metadata": {},
   "outputs": [],
   "source": [
    "#Acosticness confidence measure from 0.0 to 1.0 of whether the track is acoustic.\n",
    "#Danceability measure describes how suitable a track is for dancing.\n",
    "#duration_ms is the duration of the song track in milliseconds.\n",
    "#Energy represents a perceptual measure of intensity and activity.\n",
    "#Instrumentalness predicts whether a track contains vocals or not.\n",
    "#Loudness of a track in decibels(dB).\n",
    "#Liveness detects the presence of an audience in the recording.\n",
    "#Speechiness detects the presence of spoken words in a track\n",
    "#Time_signature is an estimated overall time signature of a track.\n",
    "#Key the track is in. Integers map to pitches using standard Pitch Class notation.\n",
    "#Valence measures from 0.0 to 1.0 describing the musical positiveness conveyed by a track.\n",
    "#Target value describes the encoded value of 0 and 1. 0 means listener has not saved the song and 1 means listener have saved the song.\n",
    "#Tempo is in beats per minute(BPM).\n",
    "#Mode indicates the modality(major or minor) of the song.\n",
    "#Song_title is the name of the song.\n",
    "#Artist is the singer of the song.\n",
    "#URL is the link to the song.\n",
    "\n"
   ]
  },
  {
   "cell_type": "code",
   "execution_count": 51,
   "metadata": {},
   "outputs": [
    {
     "ename": "AttributeError",
     "evalue": "'list' object has no attribute 'split'",
     "output_type": "error",
     "traceback": [
      "\u001b[1;31m---------------------------------------------------------------------------\u001b[0m",
      "\u001b[1;31mAttributeError\u001b[0m                            Traceback (most recent call last)",
      "\u001b[1;32md:\\Projects and Practice\\Spotify- Song Recommendation\\recommendation_playlist.ipynb Cell 7'\u001b[0m in \u001b[0;36m<module>\u001b[1;34m\u001b[0m\n\u001b[0;32m     <a href='vscode-notebook-cell:/d%3A/Projects%20and%20Practice/Spotify-%20Song%20Recommendation/recommendation_playlist.ipynb#ch0000006?line=18'>19</a>\u001b[0m \u001b[39m#get track name and artist name\u001b[39;00m\n\u001b[0;32m     <a href='vscode-notebook-cell:/d%3A/Projects%20and%20Practice/Spotify-%20Song%20Recommendation/recommendation_playlist.ipynb#ch0000006?line=19'>20</a>\u001b[0m \u001b[39mfor\u001b[39;00m track_uri \u001b[39min\u001b[39;00m track_uris:\n\u001b[1;32m---> <a href='vscode-notebook-cell:/d%3A/Projects%20and%20Practice/Spotify-%20Song%20Recommendation/recommendation_playlist.ipynb#ch0000006?line=20'>21</a>\u001b[0m     track \u001b[39m=\u001b[39m sp\u001b[39m.\u001b[39;49mtrack(track_uri)\n\u001b[0;32m     <a href='vscode-notebook-cell:/d%3A/Projects%20and%20Practice/Spotify-%20Song%20Recommendation/recommendation_playlist.ipynb#ch0000006?line=21'>22</a>\u001b[0m     song_name\u001b[39m.\u001b[39mappend(track[\u001b[39m\"\u001b[39m\u001b[39mname\u001b[39m\u001b[39m\"\u001b[39m])\n\u001b[0;32m     <a href='vscode-notebook-cell:/d%3A/Projects%20and%20Practice/Spotify-%20Song%20Recommendation/recommendation_playlist.ipynb#ch0000006?line=22'>23</a>\u001b[0m     artist_name\u001b[39m.\u001b[39mappend(track[\u001b[39m\"\u001b[39m\u001b[39martists\u001b[39m\u001b[39m\"\u001b[39m][\u001b[39m0\u001b[39m][\u001b[39m\"\u001b[39m\u001b[39mname\u001b[39m\u001b[39m\"\u001b[39m])\n",
      "File \u001b[1;32md:\\VS CODE\\Python\\lib\\site-packages\\spotipy\\client.py:344\u001b[0m, in \u001b[0;36mSpotify.track\u001b[1;34m(self, track_id, market)\u001b[0m\n\u001b[0;32m    <a href='file:///d%3A/VS%20CODE/Python/lib/site-packages/spotipy/client.py?line=335'>336</a>\u001b[0m \u001b[39mdef\u001b[39;00m \u001b[39mtrack\u001b[39m(\u001b[39mself\u001b[39m, track_id, market\u001b[39m=\u001b[39m\u001b[39mNone\u001b[39;00m):\n\u001b[0;32m    <a href='file:///d%3A/VS%20CODE/Python/lib/site-packages/spotipy/client.py?line=336'>337</a>\u001b[0m     \u001b[39m\"\"\" returns a single track given the track's ID, URI or URL\u001b[39;00m\n\u001b[0;32m    <a href='file:///d%3A/VS%20CODE/Python/lib/site-packages/spotipy/client.py?line=337'>338</a>\u001b[0m \n\u001b[0;32m    <a href='file:///d%3A/VS%20CODE/Python/lib/site-packages/spotipy/client.py?line=338'>339</a>\u001b[0m \u001b[39m        Parameters:\u001b[39;00m\n\u001b[0;32m    <a href='file:///d%3A/VS%20CODE/Python/lib/site-packages/spotipy/client.py?line=339'>340</a>\u001b[0m \u001b[39m            - track_id - a spotify URI, URL or ID\u001b[39;00m\n\u001b[0;32m    <a href='file:///d%3A/VS%20CODE/Python/lib/site-packages/spotipy/client.py?line=340'>341</a>\u001b[0m \u001b[39m            - market - an ISO 3166-1 alpha-2 country code.\u001b[39;00m\n\u001b[0;32m    <a href='file:///d%3A/VS%20CODE/Python/lib/site-packages/spotipy/client.py?line=341'>342</a>\u001b[0m \u001b[39m    \"\"\"\u001b[39;00m\n\u001b[1;32m--> <a href='file:///d%3A/VS%20CODE/Python/lib/site-packages/spotipy/client.py?line=343'>344</a>\u001b[0m     trid \u001b[39m=\u001b[39m \u001b[39mself\u001b[39;49m\u001b[39m.\u001b[39;49m_get_id(\u001b[39m\"\u001b[39;49m\u001b[39mtrack\u001b[39;49m\u001b[39m\"\u001b[39;49m, track_id)\n\u001b[0;32m    <a href='file:///d%3A/VS%20CODE/Python/lib/site-packages/spotipy/client.py?line=344'>345</a>\u001b[0m     \u001b[39mreturn\u001b[39;00m \u001b[39mself\u001b[39m\u001b[39m.\u001b[39m_get(\u001b[39m\"\u001b[39m\u001b[39mtracks/\u001b[39m\u001b[39m\"\u001b[39m \u001b[39m+\u001b[39m trid, market\u001b[39m=\u001b[39mmarket)\n",
      "File \u001b[1;32md:\\VS CODE\\Python\\lib\\site-packages\\spotipy\\client.py:1911\u001b[0m, in \u001b[0;36mSpotify._get_id\u001b[1;34m(self, type, id)\u001b[0m\n\u001b[0;32m   <a href='file:///d%3A/VS%20CODE/Python/lib/site-packages/spotipy/client.py?line=1909'>1910</a>\u001b[0m \u001b[39mdef\u001b[39;00m \u001b[39m_get_id\u001b[39m(\u001b[39mself\u001b[39m, \u001b[39mtype\u001b[39m, \u001b[39mid\u001b[39m):\n\u001b[1;32m-> <a href='file:///d%3A/VS%20CODE/Python/lib/site-packages/spotipy/client.py?line=1910'>1911</a>\u001b[0m     fields \u001b[39m=\u001b[39m \u001b[39mid\u001b[39;49m\u001b[39m.\u001b[39;49msplit(\u001b[39m\"\u001b[39m\u001b[39m:\u001b[39m\u001b[39m\"\u001b[39m)\n\u001b[0;32m   <a href='file:///d%3A/VS%20CODE/Python/lib/site-packages/spotipy/client.py?line=1911'>1912</a>\u001b[0m     \u001b[39mif\u001b[39;00m \u001b[39mlen\u001b[39m(fields) \u001b[39m>\u001b[39m\u001b[39m=\u001b[39m \u001b[39m3\u001b[39m:\n\u001b[0;32m   <a href='file:///d%3A/VS%20CODE/Python/lib/site-packages/spotipy/client.py?line=1912'>1913</a>\u001b[0m         \u001b[39mif\u001b[39;00m \u001b[39mtype\u001b[39m \u001b[39m!=\u001b[39m fields[\u001b[39m-\u001b[39m\u001b[39m2\u001b[39m]:\n",
      "\u001b[1;31mAttributeError\u001b[0m: 'list' object has no attribute 'split'"
     ]
    }
   ],
   "source": [
    "#making a new csv file with th data and headers as the features of the audio features and also Song Name and Artist Name\n",
    "song_name = []\n",
    "artist_name = []\n",
    "acousticness = []\n",
    "danceability = []\n",
    "duration_ms = []\n",
    "energy = []\n",
    "instrumentalness = []\n",
    "loudness = []\n",
    "liveness=[]\n",
    "speechiness = []\n",
    "time_signature = []\n",
    "key = []\n",
    "valence = []\n",
    "tempo = []\n",
    "mode = []\n",
    "target = []\n",
    "url = []\n",
    "#get track name and artist name\n",
    "for track_uri in track_uris:\n",
    "    track = sp.track(track_uri)\n",
    "    song_name.append(track[\"name\"])\n",
    "    artist_name.append(track[\"artists\"][0][\"name\"])\n",
    "    audio_features = sp.audio_features(track_uri)\n",
    "    acousticness.append(audio_features[0][\"acousticness\"])\n",
    "    danceability.append(audio_features[0][\"danceability\"])\n",
    "    duration_ms.append(audio_features[0][\"duration_ms\"])\n",
    "    energy.append(audio_features[0][\"energy\"])\n",
    "    instrumentalness.append(audio_features[0][\"instrumentalness\"])\n",
    "    loudness.append(audio_features[0][\"loudness\"])\n",
    "    liveness.append(audio_features[0][\"liveness\"])\n",
    "    speechiness.append(audio_features[0][\"speechiness\"])\n",
    "    time_signature.append(audio_features[0][\"time_signature\"])\n",
    "    key.append(audio_features[0][\"key\"])\n",
    "    valence.append(audio_features[0][\"valence\"])\n",
    "    tempo.append(audio_features[0][\"tempo\"])\n",
    "    mode.append(audio_features[0][\"mode\"])\n",
    "    target.append(1)\n",
    "    url.append(track[\"external_urls\"][\"spotify\"])\n",
    "#make a csv file with the data\n",
    "df = pd.DataFrame({'Song Name':song_name, 'Artist Name':artist_name, 'Acousticness':acousticness, 'Danceability':danceability, 'Duration_ms':duration_ms, 'Energy':energy, 'Instrumentalness':instrumentalness, 'Loudness':loudness,'Liveness':liveness ,'Speechiness':speechiness, 'Time_signature':time_signature, 'Key':key, 'Valence':valence, 'Tempo':tempo, 'Mode':mode, 'Target':target, 'URL':url, 'Image':images})\n",
    "df.to_csv('audio_features.csv', index=False)\n"
   ]
  },
  {
   "cell_type": "code",
   "execution_count": null,
   "metadata": {},
   "outputs": [
    {
     "data": {
      "text/html": [
       "<div>\n",
       "<style scoped>\n",
       "    .dataframe tbody tr th:only-of-type {\n",
       "        vertical-align: middle;\n",
       "    }\n",
       "\n",
       "    .dataframe tbody tr th {\n",
       "        vertical-align: top;\n",
       "    }\n",
       "\n",
       "    .dataframe thead th {\n",
       "        text-align: right;\n",
       "    }\n",
       "</style>\n",
       "<table border=\"1\" class=\"dataframe\">\n",
       "  <thead>\n",
       "    <tr style=\"text-align: right;\">\n",
       "      <th></th>\n",
       "      <th>Song Name</th>\n",
       "      <th>Artist Name</th>\n",
       "      <th>Acousticness</th>\n",
       "      <th>Danceability</th>\n",
       "      <th>Duration_ms</th>\n",
       "      <th>Energy</th>\n",
       "      <th>Instrumentalness</th>\n",
       "      <th>Loudness</th>\n",
       "      <th>Liveness</th>\n",
       "      <th>Speechiness</th>\n",
       "      <th>Time_signature</th>\n",
       "      <th>Key</th>\n",
       "      <th>Valence</th>\n",
       "      <th>Tempo</th>\n",
       "      <th>Mode</th>\n",
       "      <th>Target</th>\n",
       "      <th>URL</th>\n",
       "      <th>Image</th>\n",
       "    </tr>\n",
       "  </thead>\n",
       "  <tbody>\n",
       "    <tr>\n",
       "      <th>0</th>\n",
       "      <td>Tumbling Dice</td>\n",
       "      <td>The Rolling Stones</td>\n",
       "      <td>0.500000</td>\n",
       "      <td>0.615</td>\n",
       "      <td>226333</td>\n",
       "      <td>0.910</td>\n",
       "      <td>0.511000</td>\n",
       "      <td>-4.248</td>\n",
       "      <td>0.281</td>\n",
       "      <td>0.0347</td>\n",
       "      <td>4</td>\n",
       "      <td>11</td>\n",
       "      <td>0.770</td>\n",
       "      <td>111.013</td>\n",
       "      <td>1</td>\n",
       "      <td>1</td>\n",
       "      <td>https://open.spotify.com/track/4hq0S6wznq7SHDy...</td>\n",
       "      <td>https://i.scdn.co/image/ab67616d0000b273ba42bf...</td>\n",
       "    </tr>\n",
       "    <tr>\n",
       "      <th>1</th>\n",
       "      <td>Wish You Were Here</td>\n",
       "      <td>Pink Floyd</td>\n",
       "      <td>0.735000</td>\n",
       "      <td>0.481</td>\n",
       "      <td>334744</td>\n",
       "      <td>0.262</td>\n",
       "      <td>0.011400</td>\n",
       "      <td>-15.730</td>\n",
       "      <td>0.832</td>\n",
       "      <td>0.0414</td>\n",
       "      <td>4</td>\n",
       "      <td>7</td>\n",
       "      <td>0.375</td>\n",
       "      <td>122.861</td>\n",
       "      <td>1</td>\n",
       "      <td>1</td>\n",
       "      <td>https://open.spotify.com/track/6mFkJmJqdDVQ1RE...</td>\n",
       "      <td>https://i.scdn.co/image/ab67616d0000b2731a84d7...</td>\n",
       "    </tr>\n",
       "    <tr>\n",
       "      <th>2</th>\n",
       "      <td>Smells Like Teen Spirit</td>\n",
       "      <td>Nirvana</td>\n",
       "      <td>0.000025</td>\n",
       "      <td>0.502</td>\n",
       "      <td>301920</td>\n",
       "      <td>0.912</td>\n",
       "      <td>0.000173</td>\n",
       "      <td>-4.556</td>\n",
       "      <td>0.106</td>\n",
       "      <td>0.0564</td>\n",
       "      <td>4</td>\n",
       "      <td>1</td>\n",
       "      <td>0.720</td>\n",
       "      <td>116.761</td>\n",
       "      <td>1</td>\n",
       "      <td>1</td>\n",
       "      <td>https://open.spotify.com/track/5ghIJDpPoe3CfHM...</td>\n",
       "      <td>https://i.scdn.co/image/ab67616d0000b273e175a1...</td>\n",
       "    </tr>\n",
       "    <tr>\n",
       "      <th>3</th>\n",
       "      <td>Paradise City</td>\n",
       "      <td>Guns N' Roses</td>\n",
       "      <td>0.016900</td>\n",
       "      <td>0.273</td>\n",
       "      <td>405640</td>\n",
       "      <td>0.952</td>\n",
       "      <td>0.011100</td>\n",
       "      <td>-8.762</td>\n",
       "      <td>0.142</td>\n",
       "      <td>0.0843</td>\n",
       "      <td>4</td>\n",
       "      <td>11</td>\n",
       "      <td>0.472</td>\n",
       "      <td>100.271</td>\n",
       "      <td>1</td>\n",
       "      <td>1</td>\n",
       "      <td>https://open.spotify.com/track/3YBZIN3rekqsKxb...</td>\n",
       "      <td>https://i.scdn.co/image/ab67616d0000b27368384d...</td>\n",
       "    </tr>\n",
       "    <tr>\n",
       "      <th>4</th>\n",
       "      <td>Another One Bites The Dust - Remastered 2011</td>\n",
       "      <td>Queen</td>\n",
       "      <td>0.112000</td>\n",
       "      <td>0.933</td>\n",
       "      <td>214653</td>\n",
       "      <td>0.528</td>\n",
       "      <td>0.329000</td>\n",
       "      <td>-6.472</td>\n",
       "      <td>0.163</td>\n",
       "      <td>0.1620</td>\n",
       "      <td>4</td>\n",
       "      <td>5</td>\n",
       "      <td>0.756</td>\n",
       "      <td>109.975</td>\n",
       "      <td>0</td>\n",
       "      <td>1</td>\n",
       "      <td>https://open.spotify.com/track/57JVGBtBLCfHw2m...</td>\n",
       "      <td>https://i.scdn.co/image/ab67616d0000b27307744e...</td>\n",
       "    </tr>\n",
       "  </tbody>\n",
       "</table>\n",
       "</div>"
      ],
      "text/plain": [
       "                                      Song Name         Artist Name  \\\n",
       "0                                 Tumbling Dice  The Rolling Stones   \n",
       "1                            Wish You Were Here          Pink Floyd   \n",
       "2                       Smells Like Teen Spirit             Nirvana   \n",
       "3                                 Paradise City       Guns N' Roses   \n",
       "4  Another One Bites The Dust - Remastered 2011               Queen   \n",
       "\n",
       "   Acousticness  Danceability  Duration_ms  Energy  Instrumentalness  \\\n",
       "0      0.500000         0.615       226333   0.910          0.511000   \n",
       "1      0.735000         0.481       334744   0.262          0.011400   \n",
       "2      0.000025         0.502       301920   0.912          0.000173   \n",
       "3      0.016900         0.273       405640   0.952          0.011100   \n",
       "4      0.112000         0.933       214653   0.528          0.329000   \n",
       "\n",
       "   Loudness  Liveness  Speechiness  Time_signature  Key  Valence    Tempo  \\\n",
       "0    -4.248     0.281       0.0347               4   11    0.770  111.013   \n",
       "1   -15.730     0.832       0.0414               4    7    0.375  122.861   \n",
       "2    -4.556     0.106       0.0564               4    1    0.720  116.761   \n",
       "3    -8.762     0.142       0.0843               4   11    0.472  100.271   \n",
       "4    -6.472     0.163       0.1620               4    5    0.756  109.975   \n",
       "\n",
       "   Mode  Target                                                URL  \\\n",
       "0     1       1  https://open.spotify.com/track/4hq0S6wznq7SHDy...   \n",
       "1     1       1  https://open.spotify.com/track/6mFkJmJqdDVQ1RE...   \n",
       "2     1       1  https://open.spotify.com/track/5ghIJDpPoe3CfHM...   \n",
       "3     1       1  https://open.spotify.com/track/3YBZIN3rekqsKxb...   \n",
       "4     0       1  https://open.spotify.com/track/57JVGBtBLCfHw2m...   \n",
       "\n",
       "                                               Image  \n",
       "0  https://i.scdn.co/image/ab67616d0000b273ba42bf...  \n",
       "1  https://i.scdn.co/image/ab67616d0000b2731a84d7...  \n",
       "2  https://i.scdn.co/image/ab67616d0000b273e175a1...  \n",
       "3  https://i.scdn.co/image/ab67616d0000b27368384d...  \n",
       "4  https://i.scdn.co/image/ab67616d0000b27307744e...  "
      ]
     },
     "execution_count": 24,
     "metadata": {},
     "output_type": "execute_result"
    }
   ],
   "source": [
    "df = pd.read_csv(\"Audio_features.csv\")\n",
    "df.head()"
   ]
  },
  {
   "cell_type": "code",
   "execution_count": null,
   "metadata": {},
   "outputs": [
    {
     "name": "stdout",
     "output_type": "stream",
     "text": [
      "[[0.67112968 0.58431373 0.2782383  0.8918239  0.61124402 1.\n",
      "  0.30857071 0.83541909 1.         0.02424242 0.29743689 1.\n",
      "  0.78377173]\n",
      " [0.98657672 0.40915033 0.55272433 0.07672956 0.01363636 0.63636364\n",
      "  1.         0.         1.         0.04189723 0.3857408  1.\n",
      "  0.34351315]]\n"
     ]
    }
   ],
   "source": [
    "from sklearn.preprocessing import MinMaxScaler\n",
    "feature_cols = ['Acousticness', 'Danceability', 'Duration_ms', 'Energy',\n",
    "                'Instrumentalness', 'Key', 'Liveness', 'Loudness', 'Mode',\n",
    "                'Speechiness', 'Tempo', 'Time_signature', 'Valence', ]\n",
    "\n",
    "scaler = MinMaxScaler()\n",
    "normalized_df = scaler.fit_transform(df[feature_cols])\n",
    "\n",
    "print(normalized_df[:2])\n"
   ]
  },
  {
   "cell_type": "code",
   "execution_count": null,
   "metadata": {},
   "outputs": [],
   "source": [
    "# Create a pandas series with song titles as indices and indices as series values\n",
    "indices = pd.Series(df.index, index=df['Song Name']).drop_duplicates()\n",
    "\n",
    "# Create cosine similarity matrix based on given matrix\n",
    "cosine = cosine_similarity(normalized_df)\n",
    "\n",
    "\n",
    "def generate_recommendation(song_title,limit_songs, model_type=cosine):\n",
    "    \"\"\"\n",
    "    Purpose: Function for song recommendations \n",
    "    Inputs: song title and type of similarity model\n",
    "    Output: Pandas series of recommended songs\n",
    "    \"\"\"\n",
    "    # Get song indices\n",
    "    index = indices[song_title]\n",
    "    global song_image\n",
    "    \n",
    "    # Get list of songs for given songs\n",
    "    score = list(enumerate(model_type[indices[song_title]]))\n",
    "    # Sort the most similar songs\n",
    "    similarity_score = sorted(score, key=lambda x: x[1], reverse=True)\n",
    "    # Select the top-user input recommended songs\n",
    "    similarity_score = similarity_score[1:limit_songs+1]\n",
    "    top_songs_index = [i[0] for i in similarity_score]\n",
    "    # Top user-input value recommended songs\n",
    "    top_songs = df['Song Name'].iloc[top_songs_index]\n",
    "    top_songs_artists = df['Artist Name'].iloc[top_songs_index]\n",
    "    song_image=[df['Image'].iloc[i] for i in top_songs_index]\n",
    "    result_frame=pd.DataFrame({'Song Name':top_songs, 'Artist Name':top_songs_artists})\n",
    "    return result_frame\n",
    "    \n"
   ]
  },
  {
   "cell_type": "code",
   "execution_count": null,
   "metadata": {},
   "outputs": [
    {
     "name": "stdout",
     "output_type": "stream",
     "text": [
      "Tumbling Dice : The Rolling Stones\n",
      "Wish You Were Here : Pink Floyd\n",
      "Smells Like Teen Spirit : Nirvana\n",
      "Paradise City : Guns N' Roses\n",
      "Another One Bites The Dust - Remastered 2011 : Queen\n",
      "Highway to Hell : AC/DC\n",
      "I Love Rock 'N Roll : Joan Jett & The Blackhearts\n",
      "Whole Lotta Love - 1990 Remaster : Led Zeppelin\n",
      "Creep : Radiohead\n",
      "Something In The Way : Nirvana\n",
      "Dream On : Aerosmith\n",
      "Livin' On A Prayer : Bon Jovi\n",
      "Don't Stop Believin' : Journey\n",
      "Seven Nation Army : The White Stripes\n",
      "Hotel California - 2013 Remaster : Eagles\n",
      "La Grange - 2005 Remaster : ZZ Top\n",
      "Heroes - 2017 Remaster : David Bowie\n",
      "Tom Sawyer : Rush\n",
      "Baba O'Riley : The Who\n",
      "Hold the Line : TOTO\n",
      "Paranoid : Black Sabbath\n",
      "Police & Thieves - Remastered : The Clash\n",
      "Under the Bridge : Red Hot Chili Peppers\n",
      "Back In Black : AC/DC\n",
      "Everlong : Foo Fighters\n",
      "(I Can't Get No) Satisfaction - Mono Version : The Rolling Stones\n",
      "Paradise By the Dashboard Light : Meat Loaf\n",
      "Dreams - 2004 Remaster : Fleetwood Mac\n",
      "We Will Rock You - Remastered 2011 : Queen\n",
      "Enter Sandman : Metallica\n",
      "Sweet Home Alabama : Lynyrd Skynyrd\n",
      "Have You Ever Seen The Rain : Creedence Clearwater Revival\n",
      "Born To Be Wild : Steppenwolf\n",
      "Moonage Daydream - 2012 Remaster : David Bowie\n",
      "Every Breath You Take - Remastered 2003 : The Police\n",
      "I Wanna Rock : Twisted Sister\n",
      "You Really Got Me : The Kinks\n",
      "Limelight : Rush\n",
      "Black Dog - Remaster : Led Zeppelin\n",
      "London Calling - Remastered : The Clash\n",
      "Come Together - Remastered 2009 : The Beatles\n",
      "House Of The Rising Sun : The Animals\n",
      "Sweet Child O' Mine : Guns N' Roses\n",
      "Sultans of Swing : Dire Straits\n",
      "Wonderwall - Remastered : Oasis\n",
      "One Way Or Another - Remastered : Blondie\n",
      "Song 2 - 2012 Remaster : Blur\n",
      "Heart-Shaped Box : Nirvana\n",
      "American Girl : Tom Petty and the Heartbreakers\n",
      "Edge of Seventeen - 2016 Remaster : Stevie Nicks\n",
      "White Riot - Remastered : The Clash\n",
      "Basket Case : Green Day\n",
      "Jump - 2015 Remaster : Van Halen\n",
      "Stairway to Heaven - Remaster : Led Zeppelin\n",
      "Sheena Is a Punk Rocker - 2017 Remaster : Ramones\n",
      "Starman - 2012 Remaster : David Bowie\n",
      "Bohemian Rhapsody - Remastered 2011 : Queen\n",
      "The Boys Are Back In Town : Thin Lizzy\n",
      "We Got The Beat - 2011 Remaster : The Go-Go's\n",
      "With Or Without You - Remastered : U2\n",
      "Crazy On You : Heart\n",
      "Mountain Song : Jane's Addiction\n",
      "Rock and Roll - Remaster : Led Zeppelin\n",
      "Kickstart My Heart : Mötley Crüe\n",
      "Zombie : The Cranberries\n",
      "More Than a Feeling : Boston\n",
      "Saturday Night’s Alright (For Fighting) - Remastered 2014 : Elton John\n",
      "In The Air Tonight - 2015 Remastered : Phil Collins\n",
      "All Along the Watchtower : Jimi Hendrix\n",
      "Thunderstruck : AC/DC\n",
      "Back on the Chain Gang - 2007 Remaster : Pretenders\n",
      "Rebel Rebel - 1999 Remaster : David Bowie\n",
      "Break on Through (To the Other Side) : The Doors\n",
      "Born in the U.S.A. : Bruce Springsteen\n",
      "Bitter Sweet Symphony : The Verve\n",
      "Won't Get Fooled Again - Original Album Version : The Who\n",
      "White Wedding - Pt. 1 : Billy Idol\n",
      "The Spirit Of Radio : Rush\n",
      "Carry on Wayward Son : Kansas\n",
      "Mr. Brightside : The Killers\n",
      "Where Is My Mind? - Remastered : Pixies\n",
      "Sweet Child O' Mine : Guns N' Roses\n",
      "Rock And Roll All Nite : KISS\n",
      "Last Nite : The Strokes\n",
      "Hit Me With Your Best Shot : Pat Benatar\n",
      "Under Pressure - Remastered 2011 : Queen\n",
      "Alive : Pearl Jam\n",
      "Rock You Like a Hurricane - 2015 - Remaster : Scorpions\n",
      "You Give Love A Bad Name : Bon Jovi\n",
      "School's Out : Alice Cooper\n",
      "Bullet With Butterfly Wings - Remastered 2012 : The Smashing Pumpkins\n",
      "Paint It, Black - Mono : The Rolling Stones\n",
      "The Chain : Fleetwood Mac\n",
      "Good Times Roll - 2016 Remaster : The Cars\n",
      "Satellite of Love : Lou Reed\n",
      "Stuck In The Middle With You : Stealers Wheel\n",
      "The Middle : Jimmy Eat World\n",
      "Fortunate Son : Creedence Clearwater Revival\n",
      "Times Like These - Acoustic Version : Foo Fighters\n",
      "Layla - 40th Anniversary Version / 2010 Remastered : Derek & The Dominos\n"
     ]
    }
   ],
   "source": [
    "#Print all the songs in the playlist\n",
    "for i in range(len(song_name)):\n",
    "    print(song_name[i],\":\",artist_name[i])\n"
   ]
  },
  {
   "cell_type": "code",
   "execution_count": null,
   "metadata": {},
   "outputs": [],
   "source": [
    "song_value=input(\"Write the song name you want to recommend from this playlist\")"
   ]
  },
  {
   "cell_type": "code",
   "execution_count": null,
   "metadata": {},
   "outputs": [],
   "source": [
    "number=int(input(\"Number of Recommended Songs you want to see\"))  "
   ]
  },
  {
   "cell_type": "code",
   "execution_count": null,
   "metadata": {},
   "outputs": [
    {
     "name": "stdout",
     "output_type": "stream",
     "text": [
      "Recommended Songs:\n",
      "                          Song Name      Artist Name\n",
      "62         Rock and Roll - Remaster     Led Zeppelin\n",
      "45  One Way Or Another - Remastered          Blondie\n",
      "74            Bitter Sweet Symphony        The Verve\n",
      "68         All Along the Watchtower     Jimi Hendrix\n",
      "76            White Wedding - Pt. 1       Billy Idol\n",
      "64                           Zombie  The Cranberries\n",
      "36                You Really Got Me        The Kinks\n",
      "81              Sweet Child O' Mine    Guns N' Roses\n",
      "42              Sweet Child O' Mine    Guns N' Roses\n",
      "78             Carry on Wayward Son           Kansas\n"
     ]
    }
   ],
   "source": [
    "print(\"Recommended Songs:\")\n",
    "print(generate_recommendation(song_value,number,cosine))"
   ]
  },
  {
   "cell_type": "code",
   "execution_count": null,
   "metadata": {},
   "outputs": [
    {
     "ename": "PermissionError",
     "evalue": "[WinError 32] The process cannot access the file because it is being used by another process: 'C:\\\\Users\\\\risha\\\\AppData\\\\Local\\\\Temp\\\\tmpzcqg96j1'",
     "output_type": "error",
     "traceback": [
      "\u001b[1;31m---------------------------------------------------------------------------\u001b[0m",
      "\u001b[1;31mPermissionError\u001b[0m                           Traceback (most recent call last)",
      "\u001b[1;32md:\\Projects and Practice\\Spotify- Song Recommendation\\recommendation_playlist.ipynb Cell 15'\u001b[0m in \u001b[0;36m<module>\u001b[1;34m\u001b[0m\n\u001b[0;32m      <a href='vscode-notebook-cell:/d%3A/Projects%20and%20Practice/Spotify-%20Song%20Recommendation/recommendation_playlist.ipynb#ch0000014?line=1'>2</a>\u001b[0m \u001b[39mfor\u001b[39;00m i \u001b[39min\u001b[39;00m \u001b[39mrange\u001b[39m(\u001b[39mlen\u001b[39m(song_image)):\n\u001b[0;32m      <a href='vscode-notebook-cell:/d%3A/Projects%20and%20Practice/Spotify-%20Song%20Recommendation/recommendation_playlist.ipynb#ch0000014?line=2'>3</a>\u001b[0m     plt\u001b[39m.\u001b[39msubplot(\u001b[39mlen\u001b[39m(song_image)\u001b[39m/\u001b[39m\u001b[39m/\u001b[39m\u001b[39m2\u001b[39m,(\u001b[39mlen\u001b[39m(song_image)\u001b[39m/\u001b[39m\u001b[39m/\u001b[39m\u001b[39m2\u001b[39m)\u001b[39m+\u001b[39m\u001b[39m1\u001b[39m,i\u001b[39m+\u001b[39m\u001b[39m1\u001b[39m)\n\u001b[1;32m----> <a href='vscode-notebook-cell:/d%3A/Projects%20and%20Practice/Spotify-%20Song%20Recommendation/recommendation_playlist.ipynb#ch0000014?line=3'>4</a>\u001b[0m     image\u001b[39m=\u001b[39mio\u001b[39m.\u001b[39;49mimread(song_image[i])\n\u001b[0;32m      <a href='vscode-notebook-cell:/d%3A/Projects%20and%20Practice/Spotify-%20Song%20Recommendation/recommendation_playlist.ipynb#ch0000014?line=4'>5</a>\u001b[0m     plt\u001b[39m.\u001b[39mimshow(image)\n\u001b[0;32m      <a href='vscode-notebook-cell:/d%3A/Projects%20and%20Practice/Spotify-%20Song%20Recommendation/recommendation_playlist.ipynb#ch0000014?line=5'>6</a>\u001b[0m     plt\u001b[39m.\u001b[39mxlabel((song_name[i],\u001b[39m\"\u001b[39m\u001b[39m:\u001b[39m\u001b[39m\"\u001b[39m,artist_name[i]),size\u001b[39m=\u001b[39m\u001b[39m10\u001b[39m)\n",
      "File \u001b[1;32md:\\VS CODE\\Python\\lib\\site-packages\\skimage\\io\\_io.py:52\u001b[0m, in \u001b[0;36mimread\u001b[1;34m(fname, as_gray, plugin, **plugin_args)\u001b[0m\n\u001b[0;32m     <a href='file:///d%3A/VS%20CODE/Python/lib/site-packages/skimage/io/_io.py?line=48'>49</a>\u001b[0m     \u001b[39mif\u001b[39;00m fname\u001b[39m.\u001b[39mlower()\u001b[39m.\u001b[39mendswith((\u001b[39m'\u001b[39m\u001b[39m.tiff\u001b[39m\u001b[39m'\u001b[39m, \u001b[39m'\u001b[39m\u001b[39m.tif\u001b[39m\u001b[39m'\u001b[39m)):\n\u001b[0;32m     <a href='file:///d%3A/VS%20CODE/Python/lib/site-packages/skimage/io/_io.py?line=49'>50</a>\u001b[0m         plugin \u001b[39m=\u001b[39m \u001b[39m'\u001b[39m\u001b[39mtifffile\u001b[39m\u001b[39m'\u001b[39m\n\u001b[1;32m---> <a href='file:///d%3A/VS%20CODE/Python/lib/site-packages/skimage/io/_io.py?line=51'>52</a>\u001b[0m \u001b[39mwith\u001b[39;00m file_or_url_context(fname) \u001b[39mas\u001b[39;00m fname:\n\u001b[0;32m     <a href='file:///d%3A/VS%20CODE/Python/lib/site-packages/skimage/io/_io.py?line=52'>53</a>\u001b[0m     img \u001b[39m=\u001b[39m call_plugin(\u001b[39m'\u001b[39m\u001b[39mimread\u001b[39m\u001b[39m'\u001b[39m, fname, plugin\u001b[39m=\u001b[39mplugin, \u001b[39m*\u001b[39m\u001b[39m*\u001b[39mplugin_args)\n\u001b[0;32m     <a href='file:///d%3A/VS%20CODE/Python/lib/site-packages/skimage/io/_io.py?line=54'>55</a>\u001b[0m \u001b[39mif\u001b[39;00m \u001b[39mnot\u001b[39;00m \u001b[39mhasattr\u001b[39m(img, \u001b[39m'\u001b[39m\u001b[39mndim\u001b[39m\u001b[39m'\u001b[39m):\n",
      "File \u001b[1;32md:\\VS CODE\\Python\\lib\\contextlib.py:142\u001b[0m, in \u001b[0;36m_GeneratorContextManager.__exit__\u001b[1;34m(self, typ, value, traceback)\u001b[0m\n\u001b[0;32m    <a href='file:///d%3A/VS%20CODE/Python/lib/contextlib.py?line=139'>140</a>\u001b[0m \u001b[39mif\u001b[39;00m typ \u001b[39mis\u001b[39;00m \u001b[39mNone\u001b[39;00m:\n\u001b[0;32m    <a href='file:///d%3A/VS%20CODE/Python/lib/contextlib.py?line=140'>141</a>\u001b[0m     \u001b[39mtry\u001b[39;00m:\n\u001b[1;32m--> <a href='file:///d%3A/VS%20CODE/Python/lib/contextlib.py?line=141'>142</a>\u001b[0m         \u001b[39mnext\u001b[39;49m(\u001b[39mself\u001b[39;49m\u001b[39m.\u001b[39;49mgen)\n\u001b[0;32m    <a href='file:///d%3A/VS%20CODE/Python/lib/contextlib.py?line=142'>143</a>\u001b[0m     \u001b[39mexcept\u001b[39;00m \u001b[39mStopIteration\u001b[39;00m:\n\u001b[0;32m    <a href='file:///d%3A/VS%20CODE/Python/lib/contextlib.py?line=143'>144</a>\u001b[0m         \u001b[39mreturn\u001b[39;00m \u001b[39mFalse\u001b[39;00m\n",
      "File \u001b[1;32md:\\VS CODE\\Python\\lib\\site-packages\\skimage\\io\\util.py:41\u001b[0m, in \u001b[0;36mfile_or_url_context\u001b[1;34m(resource_name)\u001b[0m\n\u001b[0;32m     <a href='file:///d%3A/VS%20CODE/Python/lib/site-packages/skimage/io/util.py?line=38'>39</a>\u001b[0m         \u001b[39mraise\u001b[39;00m\n\u001b[0;32m     <a href='file:///d%3A/VS%20CODE/Python/lib/site-packages/skimage/io/util.py?line=39'>40</a>\u001b[0m     \u001b[39melse\u001b[39;00m:\n\u001b[1;32m---> <a href='file:///d%3A/VS%20CODE/Python/lib/site-packages/skimage/io/util.py?line=40'>41</a>\u001b[0m         os\u001b[39m.\u001b[39;49mremove(f\u001b[39m.\u001b[39;49mname)\n\u001b[0;32m     <a href='file:///d%3A/VS%20CODE/Python/lib/site-packages/skimage/io/util.py?line=41'>42</a>\u001b[0m \u001b[39melse\u001b[39;00m:\n\u001b[0;32m     <a href='file:///d%3A/VS%20CODE/Python/lib/site-packages/skimage/io/util.py?line=42'>43</a>\u001b[0m     \u001b[39myield\u001b[39;00m resource_name\n",
      "\u001b[1;31mPermissionError\u001b[0m: [WinError 32] The process cannot access the file because it is being used by another process: 'C:\\\\Users\\\\risha\\\\AppData\\\\Local\\\\Temp\\\\tmpzcqg96j1'"
     ]
    },
    {
     "data": {
      "image/png": "[encoded data removed]",
      "text/plain": [
       "<Figure size 432x288 with 1 Axes>"
      ]
     },
     "metadata": {
      "needs_background": "light"
     },
     "output_type": "display_data"
    }
   ],
   "source": [
    "#show all the images of the recommended songs\n",
    "for i in range(len(song_image)):\n",
    "    plt.subplot(len(song_image)//2,(len(song_image)//2)+1,i+1)\n",
    "    image=io.imread(song_image[i])\n",
    "    plt.imshow(image)\n",
    "    plt.xlabel((song_name[i],\":\",artist_name[i]),size=10)\n"
   ]
  }
 ],
 "metadata": {
  "interpreter": {
   "hash": "7d5b9428126ab9b33c3929882c4dedd5ef3e77437e4f384bb21fdad79f0064eb"
  },
  "kernelspec": {
   "display_name": "Python 3.10.2 64-bit",
   "language": "python",
   "name": "python3"
  },
  "language_info": {
   "codemirror_mode": {
    "name": "ipython",
    "version": 3
   },
   "file_extension": ".py",
   "mimetype": "text/x-python",
   "name": "python",
   "nbconvert_exporter": "python",
   "pygments_lexer": "ipython3",
   "version": "3.10.2"
  },
  "orig_nbformat": 4
 },
 "nbformat": 4,
 "nbformat_minor": 2
}
