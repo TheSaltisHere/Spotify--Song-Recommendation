{
 "cells": [
  {
   "cell_type": "code",
   "execution_count": 1,
   "metadata": {},
   "outputs": [],
   "source": [
    "#getting our own spotify data"
   ]
  },
  {
   "cell_type": "code",
   "execution_count": 2,
   "metadata": {},
   "outputs": [],
   "source": [
    "#importing libraries\n",
    "import spotipy\n",
    "from spotipy.oauth2 import SpotifyClientCredentials\n",
    "import pandas as pd\n",
    "import numpy as np\n",
    "import matplotlib.pyplot as plt\n",
    "import seaborn as sns\n",
    "import csv\n",
    "from sklearn.metrics.pairwise import sigmoid_kernel\n",
    "from sklearn.metrics.pairwise import cosine_similarity\n",
    "from sklearn import preprocessing\n",
    "from skimage import io\n"
   ]
  },
  {
   "cell_type": "code",
   "execution_count": 3,
   "metadata": {},
   "outputs": [],
   "source": [
    "#Authentication - without user using Spotify's Web API and making a new spotify developer account \n",
    "client_credentials_manager = SpotifyClientCredentials(\n",
    "    client_id=\"14ab08163a0649be865dc476a3076fd7\", client_secret=\"0ce7157e93604e008992ec4db58d8e70\")\n",
    "sp = spotipy.Spotify(client_credentials_manager=client_credentials_manager)"
   ]
  },
  {
   "cell_type": "code",
   "execution_count": 4,
   "metadata": {},
   "outputs": [],
   "source": [
    "#Getting user playlist\n",
    "playlist_link = input(\"Enter your playlist link: \")\n",
    "playlist_URI = playlist_link.split(\"/\")[-1].split(\"?\")[0]\n",
    "track_uris = [x[\"track\"][\"uri\"]\n",
    "              for x in sp.playlist_tracks(playlist_URI)[\"items\"]]\n",
    "\n"
   ]
  },
  {
   "cell_type": "code",
   "execution_count": 5,
   "metadata": {},
   "outputs": [
    {
     "name": "stdout",
     "output_type": "stream",
     "text": [
      "['https://i.scdn.co/image/ab67616d0000b273777d3075b2f6757b4808400b', 'https://i.scdn.co/image/ab67616d0000b273899243231842ed6dfa3186a1', 'https://i.scdn.co/image/ab67616d0000b273fa465afa3f4524c0dbb662da', 'https://i.scdn.co/image/ab67616d0000b2734aa295ee2ac086567c79bfc7', 'https://i.scdn.co/image/ab67616d0000b273ecdddbfde15bc99b5bedffd4', 'https://i.scdn.co/image/ab67616d0000b273dfa9036a64221e25554f3f21', 'https://i.scdn.co/image/ab67616d0000b273fa446c5e7de864d4c5b8a448', 'https://i.scdn.co/image/ab67616d0000b2731db2cbcfca93423a43f47c93', 'https://i.scdn.co/image/ab67616d0000b27352d4ece8c294aba86eac0e21', 'https://i.scdn.co/image/ab67616d0000b2738f030fcb66d5c65f8f510f14', 'https://i.scdn.co/image/ab67616d0000b273367ee242d8bada73b4630305', 'https://i.scdn.co/image/ab67616d0000b27370638b974587d549d6a2326a', 'https://i.scdn.co/image/ab67616d0000b27315c604efc4c884aeb42035d7', 'https://i.scdn.co/image/ab67616d0000b2735c30005b07efd927287a1bea', 'https://i.scdn.co/image/ab67616d0000b2732f1db5a5ea39cb21317610ed', 'https://i.scdn.co/image/ab67616d0000b273e8e835c60f656ac6811cfc81', 'https://i.scdn.co/image/ab67616d0000b273e0d521f40d31a52532f57bf7', 'https://i.scdn.co/image/ab67616d0000b273af587e73a2640fd291024704', 'https://i.scdn.co/image/ab67616d0000b273589319aa025aa82be263ba6e', 'https://i.scdn.co/image/ab67616d0000b2733a64d2b3076baacef0ac7473', 'https://i.scdn.co/image/ab67616d0000b27383278e004a17aac9733a92f0', 'https://i.scdn.co/image/ab67616d0000b27326883dd1212a651e45f24b16', 'https://i.scdn.co/image/ab67616d0000b2734429eefa0f95c89e566f40f2', 'https://i.scdn.co/image/ab67616d0000b27333dfd8d5678bed894b8a30e7', 'https://i.scdn.co/image/ab67616d0000b27350ba347f9f80e3f986cfd035', 'https://i.scdn.co/image/ab67616d0000b2734e8644c71317284581ed66e2', 'https://i.scdn.co/image/ab67616d0000b273d42c5b3018c9d84be638fd17']\n"
     ]
    }
   ],
   "source": [
    "images=[]\n",
    "for i in range(len(track_uris)):\n",
    "    track = sp.track(track_uris[i])\n",
    "    images.append(track[\"album\"][\"images\"][0][\"url\"])"
   ]
  },
  {
   "cell_type": "code",
   "execution_count": 6,
   "metadata": {},
   "outputs": [],
   "source": [
    "#Acosticness confidence measure from 0.0 to 1.0 of whether the track is acoustic.\n",
    "#Danceability measure describes how suitable a track is for dancing.\n",
    "#duration_ms is the duration of the song track in milliseconds.\n",
    "#Energy represents a perceptual measure of intensity and activity.\n",
    "#Instrumentalness predicts whether a track contains vocals or not.\n",
    "#Loudness of a track in decibels(dB).\n",
    "#Liveness detects the presence of an audience in the recording.\n",
    "#Speechiness detects the presence of spoken words in a track\n",
    "#Time_signature is an estimated overall time signature of a track.\n",
    "#Key the track is in. Integers map to pitches using standard Pitch Class notation.\n",
    "#Valence measures from 0.0 to 1.0 describing the musical positiveness conveyed by a track.\n",
    "#Target value describes the encoded value of 0 and 1. 0 means listener has not saved the song and 1 means listener have saved the song.\n",
    "#Tempo is in beats per minute(BPM).\n",
    "#Mode indicates the modality(major or minor) of the song.\n",
    "#Song_title is the name of the song.\n",
    "#Artist is the singer of the song.\n",
    "#URL is the link to the song.\n",
    "\n"
   ]
  },
  {
   "cell_type": "code",
   "execution_count": 7,
   "metadata": {},
   "outputs": [],
   "source": [
    "#making a new csv file with th data and headers as the features of the audio features and also Song Name and Artist Name\n",
    "song_name = []\n",
    "artist_name = []\n",
    "acousticness = []\n",
    "danceability = []\n",
    "duration_ms = []\n",
    "energy = []\n",
    "instrumentalness = []\n",
    "loudness = []\n",
    "liveness=[]\n",
    "speechiness = []\n",
    "time_signature = []\n",
    "key = []\n",
    "valence = []\n",
    "tempo = []\n",
    "mode = []\n",
    "target = []\n",
    "url = []\n",
    "#get track name and artist name\n",
    "for track_uri in track_uris:\n",
    "    track = sp.track(track_uri)\n",
    "    song_name.append(track[\"name\"])\n",
    "    artist_name.append(track[\"artists\"][0][\"name\"])\n",
    "    audio_features = sp.audio_features(track_uri)\n",
    "    acousticness.append(audio_features[0][\"acousticness\"])\n",
    "    danceability.append(audio_features[0][\"danceability\"])\n",
    "    duration_ms.append(audio_features[0][\"duration_ms\"])\n",
    "    energy.append(audio_features[0][\"energy\"])\n",
    "    instrumentalness.append(audio_features[0][\"instrumentalness\"])\n",
    "    loudness.append(audio_features[0][\"loudness\"])\n",
    "    liveness.append(audio_features[0][\"liveness\"])\n",
    "    speechiness.append(audio_features[0][\"speechiness\"])\n",
    "    time_signature.append(audio_features[0][\"time_signature\"])\n",
    "    key.append(audio_features[0][\"key\"])\n",
    "    valence.append(audio_features[0][\"valence\"])\n",
    "    tempo.append(audio_features[0][\"tempo\"])\n",
    "    mode.append(audio_features[0][\"mode\"])\n",
    "    target.append(1)\n",
    "    url.append(track[\"external_urls\"][\"spotify\"])\n",
    "#make a csv file with the data\n",
    "df = pd.DataFrame({'Song Name':song_name, 'Artist Name':artist_name, 'Acousticness':acousticness, 'Danceability':danceability, 'Duration_ms':duration_ms, 'Energy':energy, 'Instrumentalness':instrumentalness, 'Loudness':loudness,'Liveness':liveness ,'Speechiness':speechiness, 'Time_signature':time_signature, 'Key':key, 'Valence':valence, 'Tempo':tempo, 'Mode':mode, 'Target':target, 'URL':url, 'Image':images})\n",
    "df.to_csv('audio_features.csv', index=False)\n"
   ]
  },
  {
   "cell_type": "code",
   "execution_count": 8,
   "metadata": {},
   "outputs": [
    {
     "data": {
      "text/html": [
       "<div>\n",
       "<style scoped>\n",
       "    .dataframe tbody tr th:only-of-type {\n",
       "        vertical-align: middle;\n",
       "    }\n",
       "\n",
       "    .dataframe tbody tr th {\n",
       "        vertical-align: top;\n",
       "    }\n",
       "\n",
       "    .dataframe thead th {\n",
       "        text-align: right;\n",
       "    }\n",
       "</style>\n",
       "<table border=\"1\" class=\"dataframe\">\n",
       "  <thead>\n",
       "    <tr style=\"text-align: right;\">\n",
       "      <th></th>\n",
       "      <th>Song Name</th>\n",
       "      <th>Artist Name</th>\n",
       "      <th>Acousticness</th>\n",
       "      <th>Danceability</th>\n",
       "      <th>Duration_ms</th>\n",
       "      <th>Energy</th>\n",
       "      <th>Instrumentalness</th>\n",
       "      <th>Loudness</th>\n",
       "      <th>Liveness</th>\n",
       "      <th>Speechiness</th>\n",
       "      <th>Time_signature</th>\n",
       "      <th>Key</th>\n",
       "      <th>Valence</th>\n",
       "      <th>Tempo</th>\n",
       "      <th>Mode</th>\n",
       "      <th>Target</th>\n",
       "      <th>URL</th>\n",
       "      <th>Image</th>\n",
       "    </tr>\n",
       "  </thead>\n",
       "  <tbody>\n",
       "    <tr>\n",
       "      <th>0</th>\n",
       "      <td>Dil Di Dua (From \"Bhalwan Singh\" Soundtrack)</td>\n",
       "      <td>Amrinder Gill</td>\n",
       "      <td>0.130</td>\n",
       "      <td>0.497</td>\n",
       "      <td>173041</td>\n",
       "      <td>0.640</td>\n",
       "      <td>0.000000</td>\n",
       "      <td>-6.488</td>\n",
       "      <td>0.1130</td>\n",
       "      <td>0.0786</td>\n",
       "      <td>3</td>\n",
       "      <td>9</td>\n",
       "      <td>0.643</td>\n",
       "      <td>150.096</td>\n",
       "      <td>1</td>\n",
       "      <td>1</td>\n",
       "      <td>https://open.spotify.com/track/55TWWMXWUNjdDeS...</td>\n",
       "      <td>https://i.scdn.co/image/ab67616d0000b273777d30...</td>\n",
       "    </tr>\n",
       "    <tr>\n",
       "      <th>1</th>\n",
       "      <td>Saah (From \"Lahoriye\" Soundtrack)</td>\n",
       "      <td>Bir Singh</td>\n",
       "      <td>0.889</td>\n",
       "      <td>0.229</td>\n",
       "      <td>356610</td>\n",
       "      <td>0.148</td>\n",
       "      <td>0.000032</td>\n",
       "      <td>-12.954</td>\n",
       "      <td>0.1120</td>\n",
       "      <td>0.0398</td>\n",
       "      <td>4</td>\n",
       "      <td>3</td>\n",
       "      <td>0.323</td>\n",
       "      <td>57.861</td>\n",
       "      <td>1</td>\n",
       "      <td>1</td>\n",
       "      <td>https://open.spotify.com/track/3kxyibOgYLPY7Qc...</td>\n",
       "      <td>https://i.scdn.co/image/ab67616d0000b273899243...</td>\n",
       "    </tr>\n",
       "    <tr>\n",
       "      <th>2</th>\n",
       "      <td>Jeeondean Ch (From \"Lahoriye\" Soundtrack)</td>\n",
       "      <td>Amrinder Gill</td>\n",
       "      <td>0.672</td>\n",
       "      <td>0.710</td>\n",
       "      <td>253061</td>\n",
       "      <td>0.628</td>\n",
       "      <td>0.000000</td>\n",
       "      <td>-6.259</td>\n",
       "      <td>0.1650</td>\n",
       "      <td>0.0367</td>\n",
       "      <td>4</td>\n",
       "      <td>11</td>\n",
       "      <td>0.659</td>\n",
       "      <td>114.897</td>\n",
       "      <td>0</td>\n",
       "      <td>1</td>\n",
       "      <td>https://open.spotify.com/track/5INxn9kacljD6WO...</td>\n",
       "      <td>https://i.scdn.co/image/ab67616d0000b273fa465a...</td>\n",
       "    </tr>\n",
       "    <tr>\n",
       "      <th>3</th>\n",
       "      <td>Sukh Da Saah (From \"Vekh Baraatan Challiyan\" S...</td>\n",
       "      <td>Amrinder Gill</td>\n",
       "      <td>0.578</td>\n",
       "      <td>0.551</td>\n",
       "      <td>214759</td>\n",
       "      <td>0.628</td>\n",
       "      <td>0.000001</td>\n",
       "      <td>-5.641</td>\n",
       "      <td>0.1240</td>\n",
       "      <td>0.0539</td>\n",
       "      <td>4</td>\n",
       "      <td>10</td>\n",
       "      <td>0.314</td>\n",
       "      <td>125.427</td>\n",
       "      <td>1</td>\n",
       "      <td>1</td>\n",
       "      <td>https://open.spotify.com/track/6TwTVytvcZezbyO...</td>\n",
       "      <td>https://i.scdn.co/image/ab67616d0000b2734aa295...</td>\n",
       "    </tr>\n",
       "    <tr>\n",
       "      <th>4</th>\n",
       "      <td>Mil Ke Baithange</td>\n",
       "      <td>Amrinder Gill</td>\n",
       "      <td>0.710</td>\n",
       "      <td>0.754</td>\n",
       "      <td>218941</td>\n",
       "      <td>0.559</td>\n",
       "      <td>0.000000</td>\n",
       "      <td>-7.957</td>\n",
       "      <td>0.0996</td>\n",
       "      <td>0.0318</td>\n",
       "      <td>1</td>\n",
       "      <td>4</td>\n",
       "      <td>0.326</td>\n",
       "      <td>112.057</td>\n",
       "      <td>1</td>\n",
       "      <td>1</td>\n",
       "      <td>https://open.spotify.com/track/3b5nizka1oGpQiO...</td>\n",
       "      <td>https://i.scdn.co/image/ab67616d0000b273ecdddb...</td>\n",
       "    </tr>\n",
       "  </tbody>\n",
       "</table>\n",
       "</div>"
      ],
      "text/plain": [
       "                                           Song Name    Artist Name  \\\n",
       "0       Dil Di Dua (From \"Bhalwan Singh\" Soundtrack)  Amrinder Gill   \n",
       "1                  Saah (From \"Lahoriye\" Soundtrack)      Bir Singh   \n",
       "2          Jeeondean Ch (From \"Lahoriye\" Soundtrack)  Amrinder Gill   \n",
       "3  Sukh Da Saah (From \"Vekh Baraatan Challiyan\" S...  Amrinder Gill   \n",
       "4                                   Mil Ke Baithange  Amrinder Gill   \n",
       "\n",
       "   Acousticness  Danceability  Duration_ms  Energy  Instrumentalness  \\\n",
       "0         0.130         0.497       173041   0.640          0.000000   \n",
       "1         0.889         0.229       356610   0.148          0.000032   \n",
       "2         0.672         0.710       253061   0.628          0.000000   \n",
       "3         0.578         0.551       214759   0.628          0.000001   \n",
       "4         0.710         0.754       218941   0.559          0.000000   \n",
       "\n",
       "   Loudness  Liveness  Speechiness  Time_signature  Key  Valence    Tempo  \\\n",
       "0    -6.488    0.1130       0.0786               3    9    0.643  150.096   \n",
       "1   -12.954    0.1120       0.0398               4    3    0.323   57.861   \n",
       "2    -6.259    0.1650       0.0367               4   11    0.659  114.897   \n",
       "3    -5.641    0.1240       0.0539               4   10    0.314  125.427   \n",
       "4    -7.957    0.0996       0.0318               1    4    0.326  112.057   \n",
       "\n",
       "   Mode  Target                                                URL  \\\n",
       "0     1       1  https://open.spotify.com/track/55TWWMXWUNjdDeS...   \n",
       "1     1       1  https://open.spotify.com/track/3kxyibOgYLPY7Qc...   \n",
       "2     0       1  https://open.spotify.com/track/5INxn9kacljD6WO...   \n",
       "3     1       1  https://open.spotify.com/track/6TwTVytvcZezbyO...   \n",
       "4     1       1  https://open.spotify.com/track/3b5nizka1oGpQiO...   \n",
       "\n",
       "                                               Image  \n",
       "0  https://i.scdn.co/image/ab67616d0000b273777d30...  \n",
       "1  https://i.scdn.co/image/ab67616d0000b273899243...  \n",
       "2  https://i.scdn.co/image/ab67616d0000b273fa465a...  \n",
       "3  https://i.scdn.co/image/ab67616d0000b2734aa295...  \n",
       "4  https://i.scdn.co/image/ab67616d0000b273ecdddb...  "
      ]
     },
     "execution_count": 8,
     "metadata": {},
     "output_type": "execute_result"
    }
   ],
   "source": [
    "df = pd.read_csv(\"Audio_features.csv\")\n",
    "df.head()"
   ]
  },
  {
   "cell_type": "code",
   "execution_count": 9,
   "metadata": {},
   "outputs": [
    {
     "name": "stdout",
     "output_type": "stream",
     "text": [
      "[[1.13871636e-01 5.10476190e-01 4.45294325e-02 6.73972603e-01\n",
      "  0.00000000e+00 8.18181818e-01 1.96597353e-01 7.05109086e-01\n",
      "  1.00000000e+00 1.56107911e-01 9.06967826e-01 6.66666667e-01\n",
      "  6.30000000e-01]\n",
      " [8.99585921e-01 0.00000000e+00 6.03488910e-01 0.00000000e+00\n",
      "  1.04516129e-04 2.72727273e-01 1.94234405e-01 3.47970174e-01\n",
      "  1.00000000e+00 3.84965141e-02 0.00000000e+00 1.00000000e+00\n",
      "  2.30000000e-01]]\n"
     ]
    }
   ],
   "source": [
    "from sklearn.preprocessing import MinMaxScaler\n",
    "feature_cols = ['Acousticness', 'Danceability', 'Duration_ms', 'Energy',\n",
    "                'Instrumentalness', 'Key', 'Liveness', 'Loudness', 'Mode',\n",
    "                'Speechiness', 'Tempo', 'Time_signature', 'Valence', ]\n",
    "\n",
    "scaler = MinMaxScaler()\n",
    "normalized_df = scaler.fit_transform(df[feature_cols])\n",
    "\n",
    "print(normalized_df[:2])\n"
   ]
  },
  {
   "cell_type": "code",
   "execution_count": 21,
   "metadata": {},
   "outputs": [],
   "source": [
    "# Create a pandas series with song titles as indices and indices as series values\n",
    "indices = pd.Series(df.index, index=df['Song Name']).drop_duplicates()\n",
    "\n",
    "# Create cosine similarity matrix based on given matrix\n",
    "cosine = cosine_similarity(normalized_df)\n",
    "\n",
    "\n",
    "def generate_recommendation(song_title,limit_songs, model_type=cosine):\n",
    "    \"\"\"\n",
    "    Purpose: Function for song recommendations \n",
    "    Inputs: song title and type of similarity model\n",
    "    Output: Pandas series of recommended songs\n",
    "    \"\"\"\n",
    "    # Get song indices\n",
    "    index = indices[song_title]\n",
    "    global song_image\n",
    "    \n",
    "    # Get list of songs for given songs\n",
    "    score = list(enumerate(model_type[indices[song_title]]))\n",
    "    # Sort the most similar songs\n",
    "    similarity_score = sorted(score, key=lambda x: x[1], reverse=True)\n",
    "    # Select the top-user input recommended songs\n",
    "    similarity_score = similarity_score[1:limit_songs+1]\n",
    "    top_songs_index = [i[0] for i in similarity_score]\n",
    "    # Top user-input value recommended songs\n",
    "    top_songs = df['Song Name'].iloc[top_songs_index]\n",
    "    top_songs_artists = df['Artist Name'].iloc[top_songs_index]\n",
    "    song_image=[df['Image'].iloc[i] for i in top_songs_index]\n",
    "    result_frame=pd.DataFrame({'Song Name':top_songs, 'Artist Name':top_songs_artists})\n",
    "    return result_frame\n",
    "    \n"
   ]
  },
  {
   "cell_type": "code",
   "execution_count": 22,
   "metadata": {},
   "outputs": [
    {
     "name": "stdout",
     "output_type": "stream",
     "text": [
      "Dil Di Dua (From \"Bhalwan Singh\" Soundtrack) : Amrinder Gill\n",
      "Saah (From \"Lahoriye\" Soundtrack) : Bir Singh\n",
      "Jeeondean Ch (From \"Lahoriye\" Soundtrack) : Amrinder Gill\n",
      "Sukh Da Saah (From \"Vekh Baraatan Challiyan\" Soundtrack) : Amrinder Gill\n",
      "Mil Ke Baithange : Amrinder Gill\n",
      "Do Gallan - Let's Talk : Garry Sandhu\n",
      "Akhar (From \"Lahoriye\" Soundtrack) : Amrinder Gill\n",
      "Dholna : B Praak\n",
      "Channa Ve : B Praak\n",
      "Masoomiat : Satinder Sartaaj\n",
      "Supna : Amrinder Gill\n",
      "Jinne Saah : Ninja\n",
      "Sun Sohniye - From \"Afsar\" : Ranjit Bawa\n",
      "Rabb Khair Kare (From \"Daana Paani\" Soundtrack) : Prabh Gill\n",
      "Chunni (From \"Lahoriye\" Soundtrack) : Amrinder Gill\n",
      "Rubaru (From \"Saadi Love Story\") : Amrinder Gill\n",
      "Beet Jaania'N (Endless Love) : Satinder Sartaaj\n",
      "Meri Heeriye Fakiriye : Satinder Sartaaj\n",
      "Chan Kithe Guzari Ayeerat : Surinder Kaur\n",
      "Akhian Ch Tu Vasda : Surinder Kaur\n",
      "Leekan (From \"Ashke\" Soundtrack) : Amrinder Gill\n",
      "Ek Meri Akh Kashni - Punjabi Geet : Surinder Kaur\n",
      "Channa Ve : B Praak\n",
      "Udaarian : Satinder Sartaaj\n",
      "Asi Gabru Punjabi : Amrinder Gill\n",
      "Kanda Kacheya Ne (From \"Daana Paani\" Soundtrack) : Jyotica Tangri\n",
      "Akhiyan : Amber Vashisht\n"
     ]
    }
   ],
   "source": [
    "#Print all the songs in the playlist\n",
    "for i in range(len(song_name)):\n",
    "    print(song_name[i],\":\",artist_name[i])\n"
   ]
  },
  {
   "cell_type": "code",
   "execution_count": 23,
   "metadata": {},
   "outputs": [
    {
     "ename": "KeyboardInterrupt",
     "evalue": "Interrupted by user",
     "output_type": "error",
     "traceback": [
      "\u001b[1;31m---------------------------------------------------------------------------\u001b[0m",
      "\u001b[1;31mKeyboardInterrupt\u001b[0m                         Traceback (most recent call last)",
      "\u001b[1;32md:\\Projects and Practice\\Spotify- Song Recommendation\\recommendation_playlist.ipynb Cell 12'\u001b[0m in \u001b[0;36m<module>\u001b[1;34m\u001b[0m\n\u001b[1;32m----> <a href='vscode-notebook-cell:/d%3A/Projects%20and%20Practice/Spotify-%20Song%20Recommendation/recommendation_playlist.ipynb#ch0000011?line=0'>1</a>\u001b[0m song_value\u001b[39m=\u001b[39m\u001b[39minput\u001b[39;49m(\u001b[39m\"\u001b[39;49m\u001b[39mWrite the song name you want to recommend from this playlist\u001b[39;49m\u001b[39m\"\u001b[39;49m)\n",
      "File \u001b[1;32md:\\VS CODE\\Python\\lib\\site-packages\\ipykernel\\kernelbase.py:1044\u001b[0m, in \u001b[0;36mKernel.raw_input\u001b[1;34m(self, prompt)\u001b[0m\n\u001b[0;32m   <a href='file:///d%3A/VS%20CODE/Python/lib/site-packages/ipykernel/kernelbase.py?line=1039'>1040</a>\u001b[0m \u001b[39mif\u001b[39;00m \u001b[39mnot\u001b[39;00m \u001b[39mself\u001b[39m\u001b[39m.\u001b[39m_allow_stdin:\n\u001b[0;32m   <a href='file:///d%3A/VS%20CODE/Python/lib/site-packages/ipykernel/kernelbase.py?line=1040'>1041</a>\u001b[0m     \u001b[39mraise\u001b[39;00m StdinNotImplementedError(\n\u001b[0;32m   <a href='file:///d%3A/VS%20CODE/Python/lib/site-packages/ipykernel/kernelbase.py?line=1041'>1042</a>\u001b[0m         \u001b[39m\"\u001b[39m\u001b[39mraw_input was called, but this frontend does not support input requests.\u001b[39m\u001b[39m\"\u001b[39m\n\u001b[0;32m   <a href='file:///d%3A/VS%20CODE/Python/lib/site-packages/ipykernel/kernelbase.py?line=1042'>1043</a>\u001b[0m     )\n\u001b[1;32m-> <a href='file:///d%3A/VS%20CODE/Python/lib/site-packages/ipykernel/kernelbase.py?line=1043'>1044</a>\u001b[0m \u001b[39mreturn\u001b[39;00m \u001b[39mself\u001b[39;49m\u001b[39m.\u001b[39;49m_input_request(\n\u001b[0;32m   <a href='file:///d%3A/VS%20CODE/Python/lib/site-packages/ipykernel/kernelbase.py?line=1044'>1045</a>\u001b[0m     \u001b[39mstr\u001b[39;49m(prompt),\n\u001b[0;32m   <a href='file:///d%3A/VS%20CODE/Python/lib/site-packages/ipykernel/kernelbase.py?line=1045'>1046</a>\u001b[0m     \u001b[39mself\u001b[39;49m\u001b[39m.\u001b[39;49m_parent_ident[\u001b[39m\"\u001b[39;49m\u001b[39mshell\u001b[39;49m\u001b[39m\"\u001b[39;49m],\n\u001b[0;32m   <a href='file:///d%3A/VS%20CODE/Python/lib/site-packages/ipykernel/kernelbase.py?line=1046'>1047</a>\u001b[0m     \u001b[39mself\u001b[39;49m\u001b[39m.\u001b[39;49mget_parent(\u001b[39m\"\u001b[39;49m\u001b[39mshell\u001b[39;49m\u001b[39m\"\u001b[39;49m),\n\u001b[0;32m   <a href='file:///d%3A/VS%20CODE/Python/lib/site-packages/ipykernel/kernelbase.py?line=1047'>1048</a>\u001b[0m     password\u001b[39m=\u001b[39;49m\u001b[39mFalse\u001b[39;49;00m,\n\u001b[0;32m   <a href='file:///d%3A/VS%20CODE/Python/lib/site-packages/ipykernel/kernelbase.py?line=1048'>1049</a>\u001b[0m )\n",
      "File \u001b[1;32md:\\VS CODE\\Python\\lib\\site-packages\\ipykernel\\kernelbase.py:1089\u001b[0m, in \u001b[0;36mKernel._input_request\u001b[1;34m(self, prompt, ident, parent, password)\u001b[0m\n\u001b[0;32m   <a href='file:///d%3A/VS%20CODE/Python/lib/site-packages/ipykernel/kernelbase.py?line=1085'>1086</a>\u001b[0m             \u001b[39mbreak\u001b[39;00m\n\u001b[0;32m   <a href='file:///d%3A/VS%20CODE/Python/lib/site-packages/ipykernel/kernelbase.py?line=1086'>1087</a>\u001b[0m \u001b[39mexcept\u001b[39;00m \u001b[39mKeyboardInterrupt\u001b[39;00m:\n\u001b[0;32m   <a href='file:///d%3A/VS%20CODE/Python/lib/site-packages/ipykernel/kernelbase.py?line=1087'>1088</a>\u001b[0m     \u001b[39m# re-raise KeyboardInterrupt, to truncate traceback\u001b[39;00m\n\u001b[1;32m-> <a href='file:///d%3A/VS%20CODE/Python/lib/site-packages/ipykernel/kernelbase.py?line=1088'>1089</a>\u001b[0m     \u001b[39mraise\u001b[39;00m \u001b[39mKeyboardInterrupt\u001b[39;00m(\u001b[39m\"\u001b[39m\u001b[39mInterrupted by user\u001b[39m\u001b[39m\"\u001b[39m) \u001b[39mfrom\u001b[39;00m \u001b[39mNone\u001b[39m\n\u001b[0;32m   <a href='file:///d%3A/VS%20CODE/Python/lib/site-packages/ipykernel/kernelbase.py?line=1089'>1090</a>\u001b[0m \u001b[39mexcept\u001b[39;00m \u001b[39mException\u001b[39;00m:\n\u001b[0;32m   <a href='file:///d%3A/VS%20CODE/Python/lib/site-packages/ipykernel/kernelbase.py?line=1090'>1091</a>\u001b[0m     \u001b[39mself\u001b[39m\u001b[39m.\u001b[39mlog\u001b[39m.\u001b[39mwarning(\u001b[39m\"\u001b[39m\u001b[39mInvalid Message:\u001b[39m\u001b[39m\"\u001b[39m, exc_info\u001b[39m=\u001b[39m\u001b[39mTrue\u001b[39;00m)\n",
      "\u001b[1;31mKeyboardInterrupt\u001b[0m: Interrupted by user"
     ]
    }
   ],
   "source": [
    "song_value=input(\"Write the song name you want to recommend from this playlist\")"
   ]
  },
  {
   "cell_type": "code",
   "execution_count": null,
   "metadata": {},
   "outputs": [],
   "source": [
    "number=int(input(\"Number of Recommended Songs you want to see\"))  "
   ]
  },
  {
   "cell_type": "code",
   "execution_count": null,
   "metadata": {},
   "outputs": [
    {
     "name": "stdout",
     "output_type": "stream",
     "text": [
      "Recommended Songs:\n",
      "                                    Song Name       Artist Name\n",
      "14        Chunni (From \"Lahoriye\" Soundtrack)     Amrinder Gill\n",
      "24                          Asi Gabru Punjabi     Amrinder Gill\n",
      "2   Jeeondean Ch (From \"Lahoriye\" Soundtrack)     Amrinder Gill\n",
      "23                                   Udaarian  Satinder Sartaaj\n",
      "12                 Sun Sohniye - From \"Afsar\"       Ranjit Bawa\n"
     ]
    }
   ],
   "source": [
    "print(\"Recommended Songs:\")\n",
    "print(generate_recommendation(song_value,number,cosine))"
   ]
  },
  {
   "cell_type": "code",
   "execution_count": null,
   "metadata": {},
   "outputs": [],
   "source": [
    "#show all the images of the recommended songs\n",
    "for i in range(len(song_image)):\n",
    "    image=io.imread(song_image[i])\n",
    "    plt.imshow(image)\n",
    "    plt.xlabel(song_name[i],size=10)"
   ]
  }
 ],
 "metadata": {
  "interpreter": {
   "hash": "7d5b9428126ab9b33c3929882c4dedd5ef3e77437e4f384bb21fdad79f0064eb"
  },
  "kernelspec": {
   "display_name": "Python 3.10.2 64-bit",
   "language": "python",
   "name": "python3"
  },
  "language_info": {
   "codemirror_mode": {
    "name": "ipython",
    "version": 3
   },
   "file_extension": ".py",
   "mimetype": "text/x-python",
   "name": "python",
   "nbconvert_exporter": "python",
   "pygments_lexer": "ipython3",
   "version": "3.10.2"
  },
  "orig_nbformat": 4
 },
 "nbformat": 4,
 "nbformat_minor": 2
}
